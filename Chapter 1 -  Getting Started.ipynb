{
 "cells": [
  {
   "cell_type": "markdown",
   "id": "d9798bfa",
   "metadata": {},
   "source": [
    "# Exercises"
   ]
  },
  {
   "cell_type": "markdown",
   "id": "08fa9ef0",
   "metadata": {},
   "source": [
    "1. Print a box like the one below."
   ]
  },
  {
   "cell_type": "code",
   "execution_count": 1,
   "id": "c938490c",
   "metadata": {
    "scrolled": false
   },
   "outputs": [
    {
     "name": "stdout",
     "output_type": "stream",
     "text": [
      "***************\n",
      "***************\n",
      "***************\n",
      "***************\n"
     ]
    }
   ],
   "source": [
    "for i in range(4):\n",
    "    print(\"*\"*15)"
   ]
  },
  {
   "cell_type": "markdown",
   "id": "c4dbe2a6",
   "metadata": {},
   "source": [
    "2. Print a box like the one below."
   ]
  },
  {
   "cell_type": "code",
   "execution_count": 8,
   "id": "a1d41ab5",
   "metadata": {
    "scrolled": true
   },
   "outputs": [
    {
     "name": "stdout",
     "output_type": "stream",
     "text": [
      "***************\n",
      "*             *\n",
      "*             *\n",
      "***************\n"
     ]
    }
   ],
   "source": [
    "print(\"*\"*15)\n",
    "for i in range(2):\n",
    "    print(\"*\", \" \"*11, \"*\")\n",
    "print(\"*\"*15)"
   ]
  },
  {
   "cell_type": "markdown",
   "id": "93024f68",
   "metadata": {},
   "source": [
    "3. Print a triangle like the one below."
   ]
  },
  {
   "cell_type": "code",
   "execution_count": 12,
   "id": "facf9b1d",
   "metadata": {},
   "outputs": [
    {
     "name": "stdout",
     "output_type": "stream",
     "text": [
      "*\n",
      "**\n",
      "***\n",
      "****\n"
     ]
    }
   ],
   "source": [
    "for i in range(0,4):\n",
    "    i = i + 1\n",
    "    print(\"*\"*i)"
   ]
  },
  {
   "cell_type": "markdown",
   "id": "972d3c2b",
   "metadata": {},
   "source": [
    "4. Write a program that computes and prints the result of $\\frac{512-282}{47\\cdot48+5}$. It is roughly 0.1017\n"
   ]
  },
  {
   "cell_type": "code",
   "execution_count": 9,
   "id": "2c169c9c",
   "metadata": {
    "scrolled": true
   },
   "outputs": [
    {
     "name": "stdout",
     "output_type": "stream",
     "text": [
      "0.1017249004865104\n"
     ]
    }
   ],
   "source": [
    "print((512-282)/(47*48+5))"
   ]
  },
  {
   "cell_type": "markdown",
   "id": "72ec192f",
   "metadata": {},
   "source": [
    "5. Ask the user to enter a number. Print out the square of the number, but use the sep optional argument to print it out in a full sentence that ends in a period. Sample output is shown below."
   ]
  },
  {
   "cell_type": "code",
   "execution_count": 12,
   "id": "8e4424bb",
   "metadata": {
    "scrolled": false
   },
   "outputs": [
    {
     "name": "stdout",
     "output_type": "stream",
     "text": [
      "Enter a number: 5\n",
      "The square of 5 is 25.\n"
     ]
    }
   ],
   "source": [
    "number = eval(input(\"Enter a number: \"))\n",
    "print(\"The square of \", number, \" is \", number**2, \".\", sep=\"\")"
   ]
  },
  {
   "cell_type": "markdown",
   "id": "a1ff9a71",
   "metadata": {},
   "source": [
    "6. Ask the user to enter a number x. Use the sep optional argument to print out x, 2x, 3x, 4x, and 5x, each separated by three dashes, like below."
   ]
  },
  {
   "cell_type": "code",
   "execution_count": 15,
   "id": "fe17c7fe",
   "metadata": {},
   "outputs": [
    {
     "name": "stdout",
     "output_type": "stream",
     "text": [
      "Enter a number: 7\n",
      "7---14---21---28---35\n"
     ]
    }
   ],
   "source": [
    "number = eval(input(\"Enter a number: \"))\n",
    "print(number,\"-\"*3, number*2, \"-\"*3, number*3, \"-\"*3, number*4,\"-\"*3, number*5, sep=\"\")"
   ]
  },
  {
   "cell_type": "markdown",
   "id": "71c7ddba",
   "metadata": {},
   "source": [
    "7. Write a program that asks the user for a weight in kilograms and converts it to pounds. There\n",
    "are 2.2 pounds in a kilogram."
   ]
  },
  {
   "cell_type": "code",
   "execution_count": 20,
   "id": "9ed982b4",
   "metadata": {},
   "outputs": [
    {
     "name": "stdout",
     "output_type": "stream",
     "text": [
      "Enter the number of kilogram/s: 7\n",
      "7 kg = 15.43235835295 lb\n"
     ]
    }
   ],
   "source": [
    "kg = eval(input(\"Enter the number of kilogram/s: \"))\n",
    "pound = kg*2.20462262185 \n",
    "print(kg, \"kg =\", pound, \"lb\")"
   ]
  },
  {
   "cell_type": "markdown",
   "id": "26b5c07b",
   "metadata": {},
   "source": [
    "8. Write a program that asks the user to enter three numbers (use three separate input statements). Create variables called total and average that hold the sum and average of the three numbers and print out the values of total and average."
   ]
  },
  {
   "cell_type": "code",
   "execution_count": 21,
   "id": "2cfef3dd",
   "metadata": {
    "scrolled": true
   },
   "outputs": [
    {
     "name": "stdout",
     "output_type": "stream",
     "text": [
      "Enter the first number :3\n",
      "Enter the second number :4\n",
      "Enter the third number :5\n",
      "Total: 12\n",
      "Average: 4.0\n"
     ]
    }
   ],
   "source": [
    "number1 = eval(input(\"Enter the first number :\"))\n",
    "number2 = eval(input(\"Enter the second number :\"))\n",
    "number3 = eval(input(\"Enter the third number :\"))\n",
    "\n",
    "total = number1 + number2 + number3\n",
    "average = (number1 + number2 + number3)/3\n",
    "print(\"Total:\", total)\n",
    "print(\"Average:\", average)"
   ]
  },
  {
   "cell_type": "markdown",
   "id": "f9bee2eb",
   "metadata": {},
   "source": [
    "9.  A lot of cell phones have tip calculators. Write one. Ask the user for the price of the meal and the percent tip they want to leave. Then print both the tip amount and the total bill with the tip included."
   ]
  },
  {
   "cell_type": "code",
   "execution_count": 25,
   "id": "6e7fc84c",
   "metadata": {},
   "outputs": [
    {
     "name": "stdout",
     "output_type": "stream",
     "text": [
      "Enter the price of the meal: 100\n",
      "Enter the percent tip: 0.20\n",
      "Tip Amount: 20.0 php\n",
      "Total Bill: 120.0 php\n"
     ]
    }
   ],
   "source": [
    "meal = eval(input(\"Enter the price of the meal: \"))\n",
    "tip = eval(input(\"Enter the percent tip: \"))\n",
    "\n",
    "tip_amount = meal*tip\n",
    "total_bill = meal + tip_amount\n",
    "print(\"Tip Amount:\", tip_amount, \"php\")\n",
    "print(\"Total Bill:\", total_bill, \"php\")"
   ]
  }
 ],
 "metadata": {
  "kernelspec": {
   "display_name": "Python 3 (ipykernel)",
   "language": "python",
   "name": "python3"
  },
  "language_info": {
   "codemirror_mode": {
    "name": "ipython",
    "version": 3
   },
   "file_extension": ".py",
   "mimetype": "text/x-python",
   "name": "python",
   "nbconvert_exporter": "python",
   "pygments_lexer": "ipython3",
   "version": "3.9.7"
  }
 },
 "nbformat": 4,
 "nbformat_minor": 5
}
