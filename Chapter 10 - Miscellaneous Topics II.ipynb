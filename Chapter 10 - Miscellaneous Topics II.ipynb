{
 "cells": [
  {
   "cell_type": "markdown",
   "id": "567de23a",
   "metadata": {},
   "source": [
    "1. Write a program that uses list and range to create the list [3,6, 9, . . . , 99"
   ]
  },
  {
   "cell_type": "code",
   "execution_count": null,
   "id": "a76a3a82",
   "metadata": {},
   "outputs": [],
   "source": [
    "list_num = [i for i in range(3, 100, 3)]\n",
    "print(list_num)"
   ]
  },
  {
   "cell_type": "markdown",
   "id": "42171a24",
   "metadata": {},
   "source": [
    "2. Write a program that asks the user for a weight in kilograms. The program should convert\n",
    "the weight to kilograms, formatting the result to one decimal place."
   ]
  },
  {
   "cell_type": "code",
   "execution_count": null,
   "id": "7c2b5145",
   "metadata": {},
   "outputs": [],
   "source": [
    "kg = eval(input(\"Enter a weight in kilograms: \"))\n",
    "print('Weight {:.1f}'.format(kg))"
   ]
  },
  {
   "cell_type": "markdown",
   "id": "28bae546",
   "metadata": {},
   "source": [
    "3. Write a program that asks the user to enter a word. Rearrange all the letters of the word\n",
    "in alphabetical order and print out the resulting word. For example, abracadabra should\n",
    "become aaaaabbcdrr."
   ]
  },
  {
   "cell_type": "code",
   "execution_count": null,
   "id": "bcc185ec",
   "metadata": {},
   "outputs": [],
   "source": [
    "string = input(\"Enter a word: \")\n",
    "word = list(string)\n",
    "word.sort()\n",
    "print(\"\".join(word))"
   ]
  },
  {
   "cell_type": "markdown",
   "id": "f9c6b3d6",
   "metadata": {},
   "source": [
    "4. Write a program that takes a list of ten prices and ten products, applies an 11% discount to\n",
    "each of the prices displays the output like below, right-justified and nicely formatted."
   ]
  },
  {
   "cell_type": "code",
   "execution_count": null,
   "id": "c954be1f",
   "metadata": {
    "scrolled": true
   },
   "outputs": [],
   "source": [
    "items = []\n",
    "cost = []\n",
    "for i in range(1, 11):\n",
    "    print(f\"\\nItem {i}\")\n",
    "    item = input(\"Enter the name of item: \")\n",
    "    item.lower()\n",
    "    item = item.capitalize()\n",
    "    price = eval(input(\"Enter the price of the item: \"))\n",
    "    discount = price*0.89\n",
    "    items.append(item)\n",
    "    cost.append(price)\n",
    "items.append(\"Total\")\n",
    "total = sum(cost)\n",
    "cost.append(total)\n",
    "print(\"Items\")\n",
    "for i in range(11):\n",
    "    print(\"{:1s}: ${:.2f}\".format(items[i], cost[i]))"
   ]
  },
  {
   "cell_type": "markdown",
   "id": "210e4e84",
   "metadata": {},
   "source": [
    "5. Use the following two lists and the format method to create a list of card names in the format card value of suit name (for example, 'Two of Clubs')."
   ]
  },
  {
   "cell_type": "code",
   "execution_count": null,
   "id": "01cbf2a7",
   "metadata": {
    "scrolled": true
   },
   "outputs": [],
   "source": [
    "suits = ['Hearts', 'Diamonds', 'Clubs', 'Spades']\n",
    "values = ['One', 'Two', 'Three', 'Four', 'Five', 'Six', 'Seven', 'Eight', 'Nine', 'Ten', 'Jack', 'Queen', 'King', 'Ace']\n",
    "for i in range(4):\n",
    "    for j in range(13):\n",
    "        print('{:>5s} of {:^10s}'.format(values[j], suits[i]))"
   ]
  },
  {
   "cell_type": "markdown",
   "id": "0d21c3da",
   "metadata": {},
   "source": [
    "6. Write a program that uses a boolean flag variable in determining whether two lists have any items in common."
   ]
  },
  {
   "cell_type": "code",
   "execution_count": null,
   "id": "fae653c4",
   "metadata": {},
   "outputs": [],
   "source": [
    "from random import randint\n",
    "list1 = [randint(0, 9) for i in range(5)]\n",
    "list2 = [randint(0, 9) for i in range(5)]\n",
    "flag = False\n",
    "for num in list1:\n",
    "    if list2.count(num):\n",
    "        flag = True\n",
    "print(list1)\n",
    "print(list2)\n",
    "print(flag)"
   ]
  },
  {
   "cell_type": "markdown",
   "id": "1b126551",
   "metadata": {},
   "source": [
    "7. Write a program that creates the list [1,11,111,1111,...,111...1], where the entries have an ever increasing number of ones, with the last entry having 100 ones."
   ]
  },
  {
   "cell_type": "code",
   "execution_count": null,
   "id": "21a9954f",
   "metadata": {},
   "outputs": [],
   "source": [
    "list1 = ['1'*i for i in range(1, 101)]\n",
    "for i in range(len(list1)):\n",
    "    list1[i] = int(list1[i])\n",
    "print(list1)"
   ]
  },
  {
   "cell_type": "markdown",
   "id": "0f9ed549",
   "metadata": {},
   "source": [
    "8. Write a program to find all numbers between 1 and 1000 that are divisible by 7 and end in a 6."
   ]
  },
  {
   "cell_type": "code",
   "execution_count": null,
   "id": "07a92aea",
   "metadata": {},
   "outputs": [],
   "source": [
    "list1 = [i for i in range(1, 1001) if i%7 == 0 and i%10 == 6]\n",
    "print(list1)"
   ]
  },
  {
   "cell_type": "markdown",
   "id": "5ba4f0c7",
   "metadata": {},
   "source": [
    "9. Write a program to determine how many of the numbers between 1 and 10000 contain the digit 3."
   ]
  },
  {
   "cell_type": "code",
   "execution_count": null,
   "id": "55aa0a1a",
   "metadata": {},
   "outputs": [],
   "source": [
    "list1 = [str(i) for i in range(1, 10001)]\n",
    "count = 0\n",
    "for num in list1:\n",
    "    if \"3\" in num:\n",
    "        count += 1\n",
    "print(f\"Number of times the digit 3 appeared in the range 1 to 10000: {count}\")"
   ]
  },
  {
   "cell_type": "markdown",
   "id": "93e6fec6",
   "metadata": {},
   "source": [
    "10. Adding certain numbers to their reversals sometimes produces a palindromic number. For instance, 241 + 142 = 383. Sometimes, we have to repeat the process. For instance, 84 + 48 = 132 and 132 + 231 = 363. Write a program that finds both two-digit numbers for which this process must be repeated more than 20 times to obtain a palindromic number."
   ]
  },
  {
   "cell_type": "code",
   "execution_count": null,
   "id": "ba121268",
   "metadata": {},
   "outputs": [],
   "source": [
    "num = input(\"Enter a number: \")\n",
    "for i in range(20):\n",
    "    reverse_num = \"\"\n",
    "    for j in range(len(num)):\n",
    "        reverse_num = num[j] + reverse_num\n",
    "    print(f\"\\nNumber {i+1}\\n {num} + {reverse_num}\", end = \" = \")\n",
    "    num = str(int(num) + int(reverse_num))\n",
    "    print(num)\n",
    "    if num == num[::-1]:\n",
    "        break\n",
    "    else:\n",
    "        continue"
   ]
  },
  {
   "cell_type": "markdown",
   "id": "73bef9ae",
   "metadata": {},
   "source": [
    "11. Write a program that finds all pairs of six-digit palindromic numbers that are less than 20 apart. One such pair is 199991 and 200002."
   ]
  },
  {
   "cell_type": "code",
   "execution_count": null,
   "id": "9180fc0c",
   "metadata": {},
   "outputs": [],
   "source": [
    "palindrome = []\n",
    "for i in range(100000, 1000000):\n",
    "    num = str(i)\n",
    "    reverse_num = num[::-1]\n",
    "    if num == reverse_num:\n",
    "        palindrome.append(i)\n",
    "for i in range(len(palindrome)-1):\n",
    "    if (palindrome[i+1] - palindrome[i])  < 20:\n",
    "        print(f\"{palindrome[i]} and {palindrome[i+1]}\")"
   ]
  },
  {
   "cell_type": "markdown",
   "id": "5e2fc395",
   "metadata": {},
   "source": [
    "12. The number 1961 reads the same upside-down as right-side up. Print out all the numbers between 1 and 100000 that read the same upside-down as right-side up."
   ]
  },
  {
   "cell_type": "markdown",
   "id": "47781c75",
   "metadata": {},
   "source": [
    "13. The number 99 has the property that if we multiply its digits together and then add the sum of its digits to that,we get back to 99. That is,(9×9)+(9+9)=99. Write a program to find all of the numbers less than 10000 with this property. (There are only nine of them.)"
   ]
  },
  {
   "cell_type": "code",
   "execution_count": null,
   "id": "bf05e089",
   "metadata": {
    "scrolled": true
   },
   "outputs": [],
   "source": [
    "for i in range(1, 10001):\n",
    "    num = str(i)\n",
    "    product = 1\n",
    "    summation = 0\n",
    "    for digit in num:\n",
    "        product *= int(digit)\n",
    "        summation += int(digit)\n",
    "    if i == (product + summation):\n",
    "        print(num)"
   ]
  },
  {
   "cell_type": "markdown",
   "id": "6b1a8693",
   "metadata": {},
   "source": [
    "14. Write a program to find the smallest positive integer that satisfies the following property: If you take the left most digit and move it all the way to the right, the number thus obtained is exactly 3.5 times larger than the original number. For instance, if we start with 2958 and move the 2 all the way to the right, we get 9582, which is roughly 3.2 times the original number.\n"
   ]
  },
  {
   "cell_type": "code",
   "execution_count": null,
   "id": "2a1fcfdc",
   "metadata": {
    "scrolled": true
   },
   "outputs": [],
   "source": [
    "list1 = []\n",
    "for i in range(1, 10000000):\n",
    "    num1 = str(i)\n",
    "    num2 = num1[1:-1] + num1[-1] + num1[0]\n",
    "    if i == int(num2)/3.5:\n",
    "        print(i)"
   ]
  },
  {
   "cell_type": "markdown",
   "id": "ca1ea310",
   "metadata": {},
   "source": [
    "15. Write a program to determine how many zeroes 1000! ends with."
   ]
  },
  {
   "cell_type": "code",
   "execution_count": null,
   "id": "0f6a5ef7",
   "metadata": {},
   "outputs": [],
   "source": [
    "import math\n",
    "num = str(math.factorial(1000))\n",
    "count = 1\n",
    "for i in range(len(num)-1):\n",
    "    if num[i] == num[i+1] == \"0\":\n",
    "        count += 1\n",
    "    else:\n",
    "        count = 1\n",
    "print(count)"
   ]
  },
  {
   "cell_type": "markdown",
   "id": "4e9a2e50",
   "metadata": {},
   "source": [
    "16. Write a program that converts a decimal height in feet into feet and inches. For instance, an\n",
    "input of 4.75 feet should become 4 feet, 9 inches."
   ]
  },
  {
   "cell_type": "code",
   "execution_count": null,
   "id": "706fb8de",
   "metadata": {
    "scrolled": true
   },
   "outputs": [],
   "source": [
    "height = eval(input(\"Enter a height in feet: \"))\n",
    "ft = int(height//1)\n",
    "inch = int((height%1)*12)\n",
    "print(\"{:} ft = {:} feet and {:} inches\".format(height, ft, inch))"
   ]
  },
  {
   "cell_type": "markdown",
   "id": "dd14b653",
   "metadata": {},
   "source": [
    "17. Write a program that repeatedly asks the user to enter a height in the format feet’inches\" (like 5'11\" or 6'3\". The user indicates they are done entering heights by entering done. The program should return a count of how many 4-footers, 5-footers, 6-footers, and 7-footers were entered."
   ]
  },
  {
   "cell_type": "code",
   "execution_count": null,
   "id": "c3ad54c0",
   "metadata": {},
   "outputs": [],
   "source": [
    "height_list = list()\n",
    "while True:\n",
    "    height = input(\"Enter a height in 5'11 or 5'11\\\" format (Enter \\\"done\\\" when done): \")\n",
    "    height = height.lower()\n",
    "    if height == \"done\":\n",
    "        break\n",
    "    if height.split(\"'\")[0].isdigit():\n",
    "        height_list.append(int(height.split(\"'\")[0]))\n",
    "    else:\n",
    "        print(\"Invalid Input.\")\n",
    "        continue\n",
    "print(f\"There are {height_list.count(4)} 4-footers, {height_list.count(5)} 5-footers, {height_list.count(6)} 6-footers, {height_list.count(7)} 7-footers in the heights that you entered.\")"
   ]
  },
  {
   "cell_type": "markdown",
   "id": "cc97cc2d",
   "metadata": {},
   "source": [
    "18. Write a program that repeatedly asks the user to enter a football score in the format winning score-losing score (like 27-13 or 21-3). The user indicates they are done entering scores by entering done. The program should then output the highest score and the lowest score out of all the scores entered."
   ]
  },
  {
   "cell_type": "code",
   "execution_count": null,
   "id": "833e4ad2",
   "metadata": {
    "scrolled": true
   },
   "outputs": [],
   "source": [
    "list_scores = list()\n",
    "while True:\n",
    "    score = input(\"Enter a football score (win-lose format)(Enter \\\"done\\\" when done): \")\n",
    "    score = score.lower()\n",
    "    if score == \"done\":\n",
    "        break\n",
    "    elif score.split(\"-\")[0].isdigit() and score.split(\"-\")[1].isdigit():\n",
    "        list_scores.append(score)\n",
    "    else:\n",
    "        print(\"Invalid Input!\")\n",
    "list_scores.sort()\n",
    "print(f\"Highest Score: {list_scores[-1]}\")\n",
    "print(f\"Lowest Score: {list_scores[0]}\")"
   ]
  },
  {
   "cell_type": "markdown",
   "id": "7cc8f63d",
   "metadata": {},
   "source": [
    "19. Write a program that repeatedly asks the user to enter a birthday in the format month/day (like 12/25 or 2/14). The user indicates they are done entering birthdays by entering done. The program should return a count of how many of those birthdays are in February and how many are on the 25th of some month (any month)."
   ]
  },
  {
   "cell_type": "code",
   "execution_count": null,
   "id": "07b88485",
   "metadata": {},
   "outputs": [],
   "source": [
    "list_bday = list()\n",
    "count_feb = 0\n",
    "count_25 = 0\n",
    "while True:\n",
    "    bday = input(\"Enter a birthday in the format month/day(Enter \\\"done\\\" when done): \")\n",
    "    list_bday.append(bday)\n",
    "    if bday == \"done\":\n",
    "        break\n",
    "    elif bday.split(\"/\")[0].isdigit() and bday.split(\"/\")[1].isdigit():\n",
    "        if int(bday.split(\"/\")[0]) <= 12 and int(bday.split(\"/\")[0]) >= 1 and int(bday.split(\"/\")[1]) >= 1 and int(bday.split(\"/\")[1]) <= 31:\n",
    "            if bday.split(\"/\")[0] == \"2\" or bday.split(\"/\")[0] == \"02\":\n",
    "                count_feb += 1\n",
    "\n",
    "            if bday.split(\"/\")[1] == \"25\":\n",
    "                count_25 += 1\n",
    "        \n",
    "        else:\n",
    "            print(\"Invalid Input!\")\n",
    "    else:\n",
    "        print(\"Invalid Input!\")\n",
    "print(f\"Number of birthday whose birthday is in February: {count_feb}\")\n",
    "print(f\"Number of birthday whose birthday is on the 25th day of any month: {count_25}\")"
   ]
  },
  {
   "cell_type": "markdown",
   "id": "4c8ffd69",
   "metadata": {},
   "source": [
    "20. Write a program that asks the user to enter a date in the format mm/dd/yy and converts it to a more verbose format. For example, 02/04/77 should get converted into February 4, 1977."
   ]
  },
  {
   "cell_type": "code",
   "execution_count": null,
   "id": "f0ca2cc6",
   "metadata": {
    "scrolled": true
   },
   "outputs": [],
   "source": [
    "dict_month = [\"January\", \"Febuary\", \"March\", \"April\", \"May\", \"June\", \"July\", \"August\", \"September\", \"October\", \"November\", \"December\"]\n",
    "date = input(\"Enter a date in mm/dd/yy format: \")\n",
    "month = dict_month[int(date.split(\"/\")[0])-1]\n",
    "day = int(date.split(\"/\")[1])\n",
    "year = date.split(\"/\")[2]\n",
    "if int(date.split(\"/\")[2]) > 22:\n",
    "    print(f\"{month} {day}, 19{year}\")\n",
    "else:\n",
    "    print(f\"{month} {day}, 20{year}\")"
   ]
  },
  {
   "cell_type": "markdown",
   "id": "9feea7b2",
   "metadata": {},
   "source": [
    "21. Write a program that asks the user to enter a fraction in the form of a string like '1/2' or '8/24'. The program should reduce the fraction to lowest terms and print out the result."
   ]
  },
  {
   "cell_type": "code",
   "execution_count": null,
   "id": "b3124e70",
   "metadata": {},
   "outputs": [],
   "source": [
    "frac = input(\"Enter a fraction in numerator/denominator format: \")\n",
    "if frac.split(\"/\")[0].isdigit() and frac.split(\"/\")[1].isdigit() and len(frac.split(\"/\")) == 2:\n",
    "    num1 = int(frac.split(\"/\")[0])\n",
    "    num2 = int(frac.split(\"/\")[1])\n",
    "    if num1 >= num2:\n",
    "        larger = num1\n",
    "        smaller = num2\n",
    "    else:\n",
    "        larger = num2\n",
    "        smaller = num1\n",
    "    while smaller != 0:\n",
    "        remainder = larger%smaller\n",
    "        larger = smaller\n",
    "        smaller = remainder\n",
    "    num1 = int(num1/larger)\n",
    "    num2 = int(num2/larger)\n",
    "    print(f\"The lowest term of {frac} is {num1}/{num2}.\")\n",
    "else:\n",
    "    print(\"Invalid Input!\")"
   ]
  },
  {
   "cell_type": "markdown",
   "id": "b27d0d7b",
   "metadata": {},
   "source": [
    "22. Write a program to find all four solutions to the following problem: If a starfruit is worth \\\\$5, a mango is worth \\\\$3, and three oranges together cost \\\\$1, how many starfruits, mangoes, and oranges, totaling 100, can be bought for \\\\$100?"
   ]
  },
  {
   "cell_type": "code",
   "execution_count": null,
   "id": "78074a55",
   "metadata": {},
   "outputs": [],
   "source": [
    "print(\"The four solutions are\")\n",
    "for starfruit in range(100):\n",
    "    for mangoes in range(100):\n",
    "        for oranges in range(100):\n",
    "            total_items = starfruit + mangoes + (3*oranges)\n",
    "            total_cost = (starfruit*5) + (mangoes*3) + (oranges)\n",
    "            if total_items == 100 and total_cost == 100:\n",
    "                print(f\"{starfruit} starfruits, {mangoes} mangoes, and {3*oranges} oranges.\")"
   ]
  },
  {
   "cell_type": "markdown",
   "id": "f3fe461a",
   "metadata": {},
   "source": [
    "23. The currency of a strange country has coins worth 7 cents and 11 cents. Write a program to\n",
    "determine the largest purchase price that cannot be paid using these two coins."
   ]
  },
  {
   "cell_type": "code",
   "execution_count": null,
   "id": "761af857",
   "metadata": {},
   "outputs": [],
   "source": [
    "list_num1 = [i for i in range(1, 101)] \n",
    "list_num2 = []\n",
    "for item in list_num1:\n",
    "    for i in range(14):\n",
    "        for j in range(9):\n",
    "            num = (7*i)+(j*11)\n",
    "            if item == num:\n",
    "                list_num2.append(item)\n",
    "            else:\n",
    "                continue\n",
    "\n",
    "for items in list_num2:\n",
    "    if list_num1.count(items):\n",
    "        list_num1.remove(items)\n",
    "print(f\"The largest purchase price that cannot be paid using 7 cents and 11 cents only is {list_num1[-1]} cents.\")"
   ]
  },
  {
   "cell_type": "markdown",
   "id": "90863fb0",
   "metadata": {},
   "source": [
    "24. Here is an old puzzle you can solve using brute force by using a computer program to check all the possibilities: In the calculation 43 + 57 = 207, every digit is precisely one away from its true value. What is the correct calculation?"
   ]
  },
  {
   "cell_type": "code",
   "execution_count": null,
   "id": "72196f6d",
   "metadata": {},
   "outputs": [],
   "source": [
    "x = [[i-1, i+1] for i in range(33, 54, 20)]\n",
    "y = [[i-1, i+1] for i in range(47, 68, 20)]\n",
    "z = [[i+10-1, i+10+1] for i in range(107, 308, 200)]\n",
    "list_x = [i for j in x for i in j]\n",
    "list_y = [i for j in y for i in j]\n",
    "list_z = [i for j in z for i in j]\n",
    "for int1 in list_x:\n",
    "    for int2 in list_y:\n",
    "        if (int1+int2) in list_z:\n",
    "            print(f\"{int1} + {int2} = {int1+int2}\")"
   ]
  },
  {
   "cell_type": "markdown",
   "id": "04c8fffe",
   "metadata": {},
   "source": [
    "25. Write a program that finds all integer solutions to Pell’sequation x$^2$−2y$^2$ = 1, where x and y are between 1 and 100."
   ]
  },
  {
   "cell_type": "code",
   "execution_count": null,
   "id": "52f59ef8",
   "metadata": {},
   "outputs": [],
   "source": [
    "for x in range(1, 101):\n",
    "    for y in range(1, 101):\n",
    "        pell_eq = (x**2)-(2*y**2)\n",
    "        if pell_eq == 1:\n",
    "            print(f\"({x})^2 - 2({y})^2 = 1, x = {x} and y = {y}\")"
   ]
  },
  {
   "cell_type": "markdown",
   "id": "d49cba02",
   "metadata": {},
   "source": [
    "26. Write a program that asks the user for a number and prints out all the ways to write the number as difference of two perfect squares, x$^2$ − $y^2$, where x and y are both between 1 and 1000. Writing a number as a difference of two squares leads to clever techniques for factoring large numbers.\n"
   ]
  },
  {
   "cell_type": "code",
   "execution_count": null,
   "id": "6123f306",
   "metadata": {},
   "outputs": [],
   "source": [
    "num = eval(input(\"Enter a number: \"))\n",
    "print(\"The ways of printing out the number 57 as the difference of two perfect squares are: \")\n",
    "for x in range(1, 1001):\n",
    "    for y in range(1, 1001):\n",
    "        diff_ps = (x**2)-(y**2)\n",
    "        if diff_ps == num:\n",
    "            print(f\"({x})^2 - ({y})^2 = {diff_ps}, x = {x} and y = {y}\")"
   ]
  },
  {
   "cell_type": "markdown",
   "id": "582fa689",
   "metadata": {},
   "source": [
    "27. Write a program that simulates all possible rolls of four dice and for each simulated roll, finds the sums of pairs of dice. For instance, if the roll is 5124 , the sums are 6,8,9,3,5, and 6. For each of the possible sums from 2 to 12, find the total number of simulated rolls in which the sum appears and what percentage of the simulated rolls had those sums appear. Output the totals and percentages, nicely formatted, with the percentages formatted to one decimal place. To check your work, you should find that the sum 2 comes up in 171 rolls, which is 13.2% of the rolls.\n"
   ]
  },
  {
   "cell_type": "code",
   "execution_count": null,
   "id": "c9f609b0",
   "metadata": {
    "scrolled": true
   },
   "outputs": [],
   "source": [
    "from random import randint\n",
    "dict_sums = dict()\n",
    "loop = eval(input(\"Enter the number of tries you want to roll the four dice: \"))\n",
    "for j in range(loop):\n",
    "    dice = [randint(1, 6) for i in range(4)]\n",
    "    sum_pairs = list()\n",
    "    for i in range(3):\n",
    "        for j in range(1+i, 4):\n",
    "            sums = dice[i] + dice[j]\n",
    "            sum_pairs.append(sums)\n",
    "            \n",
    "    for item in sum_pairs:\n",
    "        if item in dict_sums:\n",
    "            dict_sums[item] += 1\n",
    "        else:\n",
    "            dict_sums[item] = 1\n",
    "summation = 0\n",
    "for x, y in dict_sums.items():\n",
    "    summation += y\n",
    "for v in range(2, 13):\n",
    "    print(f\"Out of {loop} tries, the sum of pairs of dice resulted to {v} appears {dict_sums[v]} times.\")\n",
    "    print(f\"The probability of getting {v} as sum of pairs of dice is {dict_sums[v]/summation}.\\n\")"
   ]
  },
  {
   "cell_type": "markdown",
   "id": "e1cda2c3",
   "metadata": {},
   "source": [
    " 28. In a magic square, each row, each column, and both diagonals add up to the same number. A partially filled magic square is shown below. Write a program to check through all the possibilities to fill in the magic square."
   ]
  },
  {
   "cell_type": "code",
   "execution_count": null,
   "id": "3d93f5bd",
   "metadata": {
    "scrolled": true
   },
   "outputs": [],
   "source": [
    "from random import randint\n",
    "list_ms = [[5, 0, 0], [0, 6, 2], [3, 8, 0]]\n",
    "for a in range(11):\n",
    "    list_ms[0][1] = a\n",
    "    for b in range(11):\n",
    "        list_ms[0][2] = b\n",
    "        for c in range(11):\n",
    "            list_ms[1][0] = c\n",
    "            for d in range(11):\n",
    "                list_ms[2][2] = d\n",
    "                diagonal = [[list_ms[i][i] for i in range(3)]] + [[list_ms[0][2], list_ms[1][1], list_ms[2][0]]]\n",
    "                list_ms_rev = [[list_ms[i][j] for i in range(3)] for j in range(3)]\n",
    "                if sum(list_ms[0]) == sum(list_ms[1]) == sum(list_ms[2]) == sum(list_ms_rev[0]) == sum(list_ms_rev[1]) == sum(list_ms_rev[2]) == sum(diagonal[0]) == sum(diagonal[1]):\n",
    "                    for item in list_ms:\n",
    "                        print(item)"
   ]
  },
  {
   "cell_type": "markdown",
   "id": "8158db20",
   "metadata": {},
   "source": [
    "29. The following is useful as part of a program to play Minesweeper. Suppose you have a 5 × 5 list that consists of zeros and M’s. Write a program that creates a new 5 × 5 list that has M’s in the same place, but the zeroes are replaced by counts of how many M’s are in adjacent cells (adjacent either horizontally, vertically, or diagonally). An example is shown below. [Hint: short-circuiting may be helpful for avoiding index-out-of-range errors.]"
   ]
  },
  {
   "cell_type": "code",
   "execution_count": null,
   "id": "be5b6d69",
   "metadata": {},
   "outputs": [],
   "source": [
    "from random import randint\n",
    "import pandas as pd\n",
    "mine1 = [[0]*5 for i in range(5)]\n",
    "m = 0\n",
    "while m != 6:\n",
    "    x = randint(0, 4)\n",
    "    y = randint(0, 4)\n",
    "    if mine1[x][y] == 0:\n",
    "        mine1[x][y] = \"M\"\n",
    "        m += 1\n",
    "mine2 = mine1\n",
    "row_col = [\"\"]*5\n",
    "df1 = pd.DataFrame(mine1)\n",
    "df1.index = row_col\n",
    "df1.columns = row_col\n",
    "print(df1)\n",
    "for i in range(5):\n",
    "    for j in range(5):\n",
    "        if mine1[i][j] == 0:\n",
    "            count = 0\n",
    "            if i == 0:\n",
    "                if j == 0:\n",
    "                    if mine1[i][j+1] == \"M\":\n",
    "                        count += 1\n",
    "                        \n",
    "                    if mine1[i+1][j] == \"M\":\n",
    "                        count += 1\n",
    "                    \n",
    "                    if mine1[i+1][j+1] == \"M\":\n",
    "                        count += 1\n",
    "                        \n",
    "                elif j == 4:\n",
    "                    if mine1[i][j-1] == \"M\":\n",
    "                        count += 1\n",
    "                        \n",
    "                    if mine1[i+1][j] == \"M\":\n",
    "                        count += 1\n",
    "                    \n",
    "                    if mine1[i+1][j-1] == \"M\":\n",
    "                        count += 1\n",
    "                \n",
    "                else:\n",
    "                    if mine1[i][j-1] == \"M\":\n",
    "                        count += 1\n",
    "                        \n",
    "                    if mine1[i][j+1] == \"M\":\n",
    "                        count += 1\n",
    "                    \n",
    "                    if mine1[i+1][j-1] == \"M\":\n",
    "                        count += 1\n",
    "                        \n",
    "                    if mine1[i+1][j] == \"M\":\n",
    "                        count += 1\n",
    "                        \n",
    "                    if mine1[i+1][j+1] == \"M\":\n",
    "                        count += 1\n",
    "                        \n",
    "            elif i == 4:\n",
    "                if j == 0:\n",
    "                    if mine1[i-1][j] == \"M\":\n",
    "                        count += 1\n",
    "                        \n",
    "                    if mine1[i-1][j+1] == \"M\":\n",
    "                        count += 1\n",
    "                    \n",
    "                    if mine1[i][j+1] == \"M\":\n",
    "                        count += 1\n",
    "                        \n",
    "                elif j == 4:\n",
    "                    if mine1[i][j-1] == \"M\":\n",
    "                        count += 1\n",
    "                        \n",
    "                    if mine1[i-1][j-1] == \"M\":\n",
    "                        count += 1\n",
    "                    \n",
    "                    if mine1[i-1][j] == \"M\":\n",
    "                        count += 1\n",
    "                \n",
    "                else:\n",
    "                    if mine1[i][j-1] == \"M\":\n",
    "                        count += 1\n",
    "                        \n",
    "                    if mine1[i][j+1] == \"M\":\n",
    "                        count += 1\n",
    "                    \n",
    "                    if mine1[i-1][j-1] == \"M\":\n",
    "                        count += 1\n",
    "                        \n",
    "                    if mine1[i-1][j] == \"M\":\n",
    "                        count += 1\n",
    "                        \n",
    "                    if mine1[i-1][j+1] == \"M\":\n",
    "                        count += 1\n",
    "            else:\n",
    "                if j == 0:\n",
    "                    if mine1[i-1][j] == \"M\":\n",
    "                        count += 1\n",
    "                        \n",
    "                    if mine1[i-1][j+1] == \"M\":\n",
    "                        count += 1\n",
    "                    \n",
    "                    if mine1[i][j+1] == \"M\":\n",
    "                        count += 1\n",
    "                        \n",
    "                    if mine1[i+1][j+1] == \"M\":\n",
    "                        count += 1\n",
    "                        \n",
    "                    if mine1[i+1][j] == \"M\":\n",
    "                        count += 1\n",
    "                        \n",
    "                elif j == 4:\n",
    "                    if mine1[i-1][j] == \"M\":\n",
    "                        count += 1\n",
    "                        \n",
    "                    if mine1[i-1][j-1] == \"M\":\n",
    "                        count += 1\n",
    "                    \n",
    "                    if mine1[i][j-1] == \"M\":\n",
    "                        count += 1\n",
    "                        \n",
    "                    if mine1[i+1][j-1] == \"M\":\n",
    "                        count += 1\n",
    "                        \n",
    "                    if mine1[i+1][j] == \"M\":\n",
    "                        count += 1\n",
    "                        \n",
    "                else:\n",
    "                    if mine1[i-1][j-1] == \"M\":\n",
    "                        count += 1\n",
    "                        \n",
    "                    if mine1[i-1][j] == \"M\":\n",
    "                        count += 1\n",
    "                    \n",
    "                    if mine1[i-1][j+1] == \"M\":\n",
    "                        count += 1\n",
    "                        \n",
    "                    if mine1[i][j-1] == \"M\":\n",
    "                        count += 1\n",
    "                        \n",
    "                    if mine1[i][j+1] == \"M\":\n",
    "                        count += 1\n",
    "                        \n",
    "                    if mine1[i+1][j-1] == \"M\":\n",
    "                        count += 1\n",
    "                        \n",
    "                    if mine1[i+1][j] == \"M\":\n",
    "                        count += 1\n",
    "                        \n",
    "                    if mine1[i+1][j+1] == \"M\":\n",
    "                        count += 1\n",
    "                        \n",
    "            mine2[i][j] = count\n",
    "        else:\n",
    "            continue\n",
    "\n",
    "df2 = pd.DataFrame(mine2)\n",
    "df2.index = row_col\n",
    "df2.columns = row_col\n",
    "print(df2)"
   ]
  },
  {
   "cell_type": "markdown",
   "id": "3616f540",
   "metadata": {},
   "source": [
    "30. Pascal’s triangle is shown below. On the outside are 1’s and each other number is the sum of the two numbers directly above it. Write a program to generate Pascal’s triangle. Allow the user to specify the number of rows. Be sure that it is nicely formatted, like below."
   ]
  },
  {
   "cell_type": "code",
   "execution_count": null,
   "id": "48b873b7",
   "metadata": {},
   "outputs": [],
   "source": [
    "rows = eval(input(\"Enter number of rows less than 10: \"))\n",
    "pascal = [[1], [1, 1]]\n",
    "pascal_str = [[\"1\"], [\"1\", \"1\"]]\n",
    "for i in range(rows-2):\n",
    "    list_pas = [1]\n",
    "    list_pas_str = [\"1\"]\n",
    "    end = len(pascal)-1\n",
    "    for j in range(len(pascal[end])-1):\n",
    "        sum = pascal[end][j] + pascal[end][j+1]\n",
    "        list_pas.append(sum)\n",
    "        list_pas_str.append(str(sum))\n",
    "    list_pas.append(1)\n",
    "    list_pas_str.append(\"1\")\n",
    "    pascal.append(list_pas)\n",
    "    pascal_str.append(list_pas_str)\n",
    "spaces = \" \"*(rows//3 + 1)\n",
    "for item in pascal_str:\n",
    "    string = spaces.join(item)\n",
    "    print(\"{:^110s}\".format(string))"
   ]
  },
  {
   "cell_type": "markdown",
   "id": "6bb4d0a9",
   "metadata": {},
   "source": [
    "31. Given two dates entered as strings in the form mm/dd/yyyy where the years are between 1901 and 2099, determine how many days apart they are. Here is a bit of information that may be useful: Leap years between 1901 and 2099 occur exactly every four years, starting at 1904. February has 28 days, 29 during a leap year. November, April, June, and September each have 30 days. The other months have 31 days."
   ]
  },
  {
   "cell_type": "code",
   "execution_count": 17,
   "id": "5f3b02a2",
   "metadata": {
    "scrolled": false
   },
   "outputs": [
    {
     "name": "stdout",
     "output_type": "stream",
     "text": [
      "Note:\n",
      "\tYears can be between 1901 and 2099 inclusively.\n",
      "\tFormat should be mm/dd/yyyy.\n",
      "Enter date1: 08/18/1999\n",
      "Enter date2: 09/16/2002\n",
      "[[9, 16, 2002, 259], [8, 18, 1999, 230]]\n",
      "It is about 1125 days.\n"
     ]
    }
   ],
   "source": [
    "print('Note:\\n\\tYears can be between 1901 and 2099 inclusively.')\n",
    "print('\\tFormat should be mm/dd/yyyy.')\n",
    "\n",
    "message = 'Wrong input. Good bye!!'\n",
    "days1 = [31, 28, 31, 30, 31, 30, 31, 31, 30, 31, 30, 31]#non-leap year\n",
    "days2 = [31, 29, 31, 30, 31, 30, 31, 31, 30, 31, 30, 31]#leap year\n",
    "\n",
    "dates = [[0,0,0,0], [0,0,0,0]]\n",
    "tdays = 0\n",
    "done_count = 0\n",
    "for i in range(2):\n",
    "\tdate = input('Enter date{:}: '.format(i+1))\n",
    "\tif len(date) == 10 and date.count('/') == 2:\n",
    "\t\t#extract date and check for correctness\n",
    "\t\tdm = int(date[:2])\n",
    "\t\tdd = int(date[3:5])\n",
    "\t\tdy = int(date[6:])\n",
    "\n",
    "\t\tif 1900 < dy < 2100 and 0 < dm < 13 and 0 < dd < 32:\n",
    "\t\t\tif dy % 4: #If not leap year\n",
    "\t\t\t\tif dd <= days1[dm - 1]:\n",
    "\t\t\t\t\ttdays = sum(days1[:dm-1]) + dd\n",
    "\t\t\t\t\tdates[i] = [dm, dd, dy, tdays]\n",
    "\t\t\t\t\tdone_count += 1\n",
    "\t\t\t\telse:\n",
    "\t\t\t\t\tprint(message)\n",
    "\t\t\t\t\tbreak\n",
    "\t\t\telse: #if leap year\n",
    "\t\t\t\tif dm == 2 and dd < 29: #if february\n",
    "\t\t\t\t\ttdays = sum(days2[:dm-1]) + dd\n",
    "\t\t\t\t\tdates[i] = [dm, dd, dy, tdays]\n",
    "\t\t\t\t\tdone_count += 1\n",
    "\t\t\t\telif dd <= days2[dm - 1]:\n",
    "\t\t\t\t\ttdays = sum(days2[:dm-1]) + dd\n",
    "\t\t\t\t\tdates[i] = [dm, dd, dy, tdays]\n",
    "\t\t\t\t\tdone_count += 1\n",
    "\t\t\t\telse:\n",
    "\t\t\t\t\tprint(message)\n",
    "\t\t\t\t\tbreak\n",
    "\t\telse:\n",
    "\t\t\tprint(message)\n",
    "\t\t\tbreak\n",
    "\telse:\n",
    "\t\tprint(message)\n",
    "\t\tbreak\n",
    "\n",
    "if done_count == 2:\n",
    "\tif dates[0][2] < dates[1][2]: #year not equal\n",
    "\t\tdates[0], dates[1] = dates[1], dates[0]\n",
    "\tif dates[0][2] == dates[1][2]: #years equal but\n",
    "\t\tif dates[0][0] < dates[1][0]: #months not equal\n",
    "\t\t\tdates[0], dates[1] = dates[1], dates[0]\n",
    "\t\tif dates[0][0] == dates[1][0]: #Years equal and months equal\n",
    "\t\t\tif dates[0][1] < dates[1][1]: #Days equal\n",
    "\t\t\t\tdates[0], dates[1] = dates[1], dates[0]\n",
    "\t#dates[0] will contain the bigger date\n",
    "\tleaps = count = 0\n",
    "\tfor i in range(dates[1][2] + 1, dates[0][2]):\n",
    "\t\tcount += 1\n",
    "\t\tif not i % 4:\n",
    "\t\t\tleaps += 1\n",
    "\n",
    "\tprint(dates)\n",
    "\tdays = count * 365 + leaps\n",
    "\tif count:\n",
    "\t\tdays += 365 - dates[1][3] + dates[0][3]\n",
    "\t\tif not (dates[1][2] % 4) and dates[1][0] >= 2:\n",
    "\t\t\tdays += 1\n",
    "\telse:\n",
    "\t\tdays = dates[0][3] - dates[1][3]\n",
    "\t\n",
    "\tprint('It is about {:} days.'.format(days))"
   ]
  },
  {
   "cell_type": "markdown",
   "id": "8f81e14a",
   "metadata": {},
   "source": [
    "Monte Carlo simulations can be used to estimate all sorts of things, including probabilities of coin flip and dice events. As an example, to estimate the probability of rolling a pair of sixes with two dice, we could use random integers to simulate the dice and run the simulation thousands of times, counting what percentage of the time a pair of sixes comes up. $\\newline$\n",
    "(a) Estimate the probability of rolling a Yahtzee in a single roll of five dice. That is estimate the probability that when rolling five dice they all come out to be the same number.$\\newline$\n",
    "(b) Estimate the probability of rolling a large straight in a single roll of five dice. A large straight is a roll where the dice come out 1-2-3-4-5 or 2-3-4-5-6 in any order.$\\newline$\n",
    "(c) Estimate the average longest run of heads or tails when flipping a coin 200 times.$\\newline$\n",
    "(d) Estimate the average number of coin flips it takes before five heads in a row come up.$\\newline$\n",
    "(e) Estimate the average number of coin flips it takes before the string s comes up, where s is a string of heads and tails, like HHTTH."
   ]
  },
  {
   "cell_type": "code",
   "execution_count": 55,
   "id": "201986bc",
   "metadata": {},
   "outputs": [
    {
     "name": "stdout",
     "output_type": "stream",
     "text": [
      "The probability of getting the same number in rolling five dice is 0.000728.\n"
     ]
    }
   ],
   "source": [
    "#A\n",
    "count = 0\n",
    "for i in range(1000000):\n",
    "    dice = list()\n",
    "    for j in range(5):\n",
    "        x = randint(1, 6)\n",
    "        dice.append(x)\n",
    "    if dice.count(dice[0]) == 5:\n",
    "        count += 1\n",
    "\n",
    "average = count/1000000\n",
    "print(f\"The probability of getting the same number in rolling five dice is {average}.\")"
   ]
  },
  {
   "cell_type": "code",
   "execution_count": 58,
   "id": "672d218f",
   "metadata": {},
   "outputs": [
    {
     "name": "stdout",
     "output_type": "stream",
     "text": [
      "The probability of getting a large straight in rolling five dice is 0.000233.\n"
     ]
    }
   ],
   "source": [
    "#B\n",
    "count = 0\n",
    "for i in range(1000000):\n",
    "    dice = list()\n",
    "    for j in range(5):\n",
    "        x = randint(1, 6)\n",
    "        dice.append(x)\n",
    "    if dice == [1, 2, 3, 4, 5] or dice == [2, 3, 4, 5, 6]:\n",
    "        count += 1\n",
    "        \n",
    "average = count/1000000\n",
    "print(f\"The probability of getting a large straight in rolling five dice is {average}.\")"
   ]
  },
  {
   "cell_type": "code",
   "execution_count": 118,
   "id": "73f4ef44",
   "metadata": {},
   "outputs": [
    {
     "name": "stdout",
     "output_type": "stream",
     "text": [
      "The average longest run of heads when flipping a coin 200 times 2.1020408163265305.\n",
      "The average longest run of tails when flipping a coin 200 times 2.0208333333333335.\n"
     ]
    }
   ],
   "source": [
    "#C\n",
    "import random\n",
    "ht = [\"H\", \"T\"]\n",
    "list_ht = list()\n",
    "for i in range(200):\n",
    "    x = random.choice(ht)\n",
    "    list_ht.append(x)\n",
    "\n",
    "count_h = list()\n",
    "count = 0\n",
    "for i in range(200):\n",
    "    if list_ht[i] == \"H\":\n",
    "        count += 1\n",
    "    else:\n",
    "        if count != 0:\n",
    "            count_h.append(count)\n",
    "            count = 0\n",
    "        else:\n",
    "            continue\n",
    "count_h.append(count)\n",
    "\n",
    "if count_h.count(0) > 1:\n",
    "    count_h.remove(0)\n",
    "\n",
    "average_h = sum(count_h)/len(count_h)\n",
    "print(f\"The average longest run of heads when flipping a coin 200 times {average_h}.\")\n",
    "\n",
    "count_t = list()\n",
    "count = 0\n",
    "for j in range(200):\n",
    "    if list_ht[j] == \"T\":\n",
    "        count += 1\n",
    "    else:\n",
    "        if count != 0:\n",
    "            count_t.append(count)\n",
    "            count = 0\n",
    "        else:\n",
    "            continue\n",
    "count_t.append(count)\n",
    "\n",
    "if count_t.count(0) > 1:\n",
    "    count_t.remove(0)\n",
    "    \n",
    "average_t = sum(count_t)/len(count_t)\n",
    "print(f\"The average longest run of tails when flipping a coin 200 times {average_t}.\")"
   ]
  },
  {
   "cell_type": "code",
   "execution_count": 152,
   "id": "6cbb6c5f",
   "metadata": {},
   "outputs": [
    {
     "name": "stdout",
     "output_type": "stream",
     "text": [
      "['T', 'H', 'T', 'T', 'H', 'T', 'H', 'H', 'H', 'T', 'T', 'H', 'H', 'H', 'H', 'H', 'H', 'T', 'T', 'T', 'T', 'T', 'H', 'T', 'T', 'H', 'H', 'T', 'T', 'T', 'H', 'T', 'H', 'T', 'H', 'T', 'H', 'T', 'T', 'T', 'T', 'T', 'H', 'H', 'T', 'T', 'T', 'H', 'H', 'H', 'T', 'H', 'H', 'H', 'H', 'T', 'T', 'T', 'H', 'H', 'H', 'H', 'T', 'T', 'H', 'T', 'H', 'H', 'H', 'T', 'T', 'H', 'H', 'T', 'H', 'T', 'H', 'T', 'H', 'T', 'T', 'H', 'T', 'H', 'H', 'H', 'H', 'T', 'T', 'H', 'T', 'H', 'H', 'H', 'H', 'H', 'T', 'T', 'T', 'T', 'H', 'H', 'T', 'T', 'H', 'T', 'H', 'H', 'H', 'T', 'H', 'T', 'H', 'T', 'H', 'H', 'T', 'H', 'T', 'T', 'T', 'H', 'H', 'T', 'T', 'T', 'H', 'T', 'T', 'H', 'T', 'T', 'H', 'T', 'T', 'H', 'T', 'H', 'H', 'T', 'H', 'H', 'T', 'T', 'H', 'T', 'T', 'H', 'T', 'T', 'T', 'H', 'T', 'H', 'H', 'H', 'T', 'T', 'T', 'H', 'H', 'H', 'T', 'H', 'T', 'T', 'H', 'H', 'T', 'T', 'H', 'T', 'T', 'H', 'H', 'T', 'T', 'T', 'T', 'H', 'H', 'T', 'H', 'T', 'T', 'H', 'H', 'T', 'T', 'T', 'H', 'T', 'H', 'H', 'T', 'H', 'H', 'T', 'H', 'H']\n",
      "It took 11 flips before five heads in a row appeared.\n"
     ]
    }
   ],
   "source": [
    "#D\n",
    "import random\n",
    "ht = [\"H\", \"T\"]\n",
    "list_ht = list()\n",
    "for i in range(200):\n",
    "    x = random.choice(ht)\n",
    "    list_ht.append(x)\n",
    "\n",
    "for i in range(195):\n",
    "    if list_ht[i] == list_ht[i+1] == list_ht[i+2] == list_ht[i+3] == list_ht[i+4] == \"H\":\n",
    "        runs = i\n",
    "        break\n",
    "print(f\"It took {runs} flips before five heads in a row appeared.\")"
   ]
  },
  {
   "cell_type": "code",
   "execution_count": 151,
   "id": "26304cf5",
   "metadata": {},
   "outputs": [
    {
     "name": "stdout",
     "output_type": "stream",
     "text": [
      "It took 30 flips before HHTTH in a row appeared.\n"
     ]
    }
   ],
   "source": [
    "#E \n",
    "import random\n",
    "ht = [\"H\", \"T\"]\n",
    "list_ht = list()\n",
    "for i in range(200):\n",
    "    x = random.choice(ht)\n",
    "    list_ht.append(x)\n",
    "\n",
    "for i in range(195):\n",
    "    if list_ht[i] == list_ht[i+1] == list_ht[i+4] == \"H\" and list_ht[i+2] == list_ht[i+3] == \"T\":\n",
    "        runs = i\n",
    "        break\n",
    "print(f\"It took {runs} flips before HHTTH in a row appeared.\")"
   ]
  }
 ],
 "metadata": {
  "kernelspec": {
   "display_name": "Python 3 (ipykernel)",
   "language": "python",
   "name": "python3"
  },
  "language_info": {
   "codemirror_mode": {
    "name": "ipython",
    "version": 3
   },
   "file_extension": ".py",
   "mimetype": "text/x-python",
   "name": "python",
   "nbconvert_exporter": "python",
   "pygments_lexer": "ipython3",
   "version": "3.9.7"
  }
 },
 "nbformat": 4,
 "nbformat_minor": 5
}
