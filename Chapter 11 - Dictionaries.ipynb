{
 "cells": [
  {
   "cell_type": "markdown",
   "id": "5738999b",
   "metadata": {},
   "source": [
    "1. Write a program that repeatedly asks the user to enter product names and prices. Store all of these in a dictionary whose keys are the product names and whose values are the prices. When the user is done entering products and prices, allow them to repeatedly enter a product name and print the corresponding price or a message if the product is not in the dictionary.\n"
   ]
  },
  {
   "cell_type": "code",
   "execution_count": null,
   "id": "bfaf6c1c",
   "metadata": {},
   "outputs": [],
   "source": [
    "d = dict()\n",
    "i = 1\n",
    "while True:\n",
    "    print(f\"Product {i}\")\n",
    "    product = input(\"Enter the name of the product (Type \\\"done\\\" if done:): \")\n",
    "    product = product.strip()\n",
    "    product = product.lower()\n",
    "    if product == \"done\":\n",
    "        print(\"\")\n",
    "        break\n",
    "    product = product.capitalize()\n",
    "    price = eval(input(f\"Enter the price of {product.lower()}: $\"))\n",
    "    if product not in d:\n",
    "        d[product] = price\n",
    "        i += 1\n",
    "    else:\n",
    "        booll = True\n",
    "        print(f\"{product} is already in the dictionary.\")\n",
    "        while booll == True:\n",
    "            ques = input(f\"Do you want to replace the price of {product.lower()} (Yes or No): \")\n",
    "            ques = ques.strip()\n",
    "            ques = ques.lower()\n",
    "            if ques == \"yes\":\n",
    "                d[product] = price\n",
    "                booll = False\n",
    "            elif ques == \"no\":\n",
    "                booll = False\n",
    "            else:\n",
    "                print(\"Invalid Input!\")\n",
    "    print(\"\")      \n",
    "    \n",
    "while True:\n",
    "    key = input(\"Enter the name of the product to the price (Type \\\"done\\\" if done:): \")\n",
    "    key = key.strip()\n",
    "    key = key.lower()\n",
    "    if key == \"done\":\n",
    "        break\n",
    "        \n",
    "    key = key.capitalize()\n",
    "    if key in d:\n",
    "        print(f\"{key}: ${d[key]}\")\n",
    "    else:\n",
    "        print(f\"{key} is not in the dictonary.\")\n",
    "    print(\"\")   \n",
    "print(d)"
   ]
  },
  {
   "cell_type": "markdown",
   "id": "5fd93073",
   "metadata": {},
   "source": [
    "2. Using the dictionary created in the previous problem, allow the user to enter a dollar amount and print out all the products whose price is less than that amount."
   ]
  },
  {
   "cell_type": "code",
   "execution_count": null,
   "id": "4eb00949",
   "metadata": {
    "scrolled": true
   },
   "outputs": [],
   "source": [
    "d = dict()\n",
    "i = 1\n",
    "while True:\n",
    "    print(f\"Product {i}\")\n",
    "    product = input(\"Enter the name of the product (Type \\\"done\\\" if done:): \")\n",
    "    product = product.strip()\n",
    "    product = product.lower()\n",
    "    if product == \"done\":\n",
    "        print(\"\")\n",
    "        break\n",
    "    product = product.capitalize()\n",
    "    price = eval(input(f\"Enter the price of {product.lower()}: $\"))\n",
    "    if product not in d:\n",
    "        d[product] = price\n",
    "        i += 1\n",
    "    else:\n",
    "        print(f\"{product} is already exists.\")\n",
    "\n",
    "    print(\"\")\n",
    "\n",
    "value = eval(input(\"Enter an amount: \"))\n",
    "print(f\"Products whos price is less than ${value}.\\n\")\n",
    "for k, v in d.items():\n",
    "    if v < value:\n",
    "        print(f\"{k}: ${v}\")"
   ]
  },
  {
   "cell_type": "markdown",
   "id": "1ce77021",
   "metadata": {},
   "source": [
    "3. For this problem, use the dictionary from the beginning of this chapter whose keys are month names and whose values are the number of days in the corresponding months. $\\newline$\n",
    "(a) Ask the user to enter a month name and use the dictionary to tell them how many days are in the month.$\\newline$\n",
    "(b) Print out all of the keys in alphabetical order.$\\newline$\n",
    "(c) Print out all of the months with 31 days.$\\newline$\n",
    "(d) Print out the (key-value) pairs sorted by the number of days in each month$\\newline$\n",
    "(e) Modify the program from part (a) and the dictionary so that the user does not have to know how to spell the month name exactly. That is, all they have to do is spell the first three letters of the month name correctly."
   ]
  },
  {
   "cell_type": "code",
   "execution_count": null,
   "id": "e2a015d5",
   "metadata": {},
   "outputs": [],
   "source": [
    "days = {'January':31, 'February':28, 'March':31, 'April':30, 'May':31, 'June':30, 'July':31, 'August':31, 'September':30, 'October':31, 'November':30, 'December':31}"
   ]
  },
  {
   "cell_type": "code",
   "execution_count": null,
   "id": "8f3bcd58",
   "metadata": {},
   "outputs": [],
   "source": [
    "#A\n",
    "month = input(\"Enter a month name: \")\n",
    "month = month.strip()\n",
    "month = month.lower()\n",
    "month = month.capitalize()\n",
    "\n",
    "print(f\"There are {days[month]} days in the month of {month}.\")"
   ]
  },
  {
   "cell_type": "code",
   "execution_count": null,
   "id": "14b8db13",
   "metadata": {
    "scrolled": false
   },
   "outputs": [],
   "source": [
    "#B\n",
    "list_days = list(days)\n",
    "list_days.sort()\n",
    "for item in list_days:\n",
    "    print(item)"
   ]
  },
  {
   "cell_type": "code",
   "execution_count": null,
   "id": "70a07174",
   "metadata": {
    "scrolled": true
   },
   "outputs": [],
   "source": [
    "#C\n",
    "for k, v in days.items():\n",
    "    if v == 31:\n",
    "        print(f\"{k}: {v}\")"
   ]
  },
  {
   "cell_type": "code",
   "execution_count": null,
   "id": "a2518700",
   "metadata": {
    "scrolled": false
   },
   "outputs": [],
   "source": [
    "#D\n",
    "list_days = [[y, x] for x, y in days.items()]\n",
    "list_days.sort()\n",
    "for x, y in list_days:\n",
    "    print(f\"{y}: {x}\")"
   ]
  },
  {
   "cell_type": "code",
   "execution_count": null,
   "id": "3513ca8b",
   "metadata": {},
   "outputs": [],
   "source": [
    "#E\n",
    "month = input(\"Enter the first three letters of the month: \")\n",
    "month = month.strip()\n",
    "month = month.lower()\n",
    "month = month.capitalize()\n",
    "for k, v in days.items():\n",
    "    if k[:3] == month:\n",
    "        print(f\"There are {v} days in the month of {k}.\")"
   ]
  },
  {
   "cell_type": "markdown",
   "id": "74db9e8e",
   "metadata": {},
   "source": [
    "4. Write a program that uses a dictionary that contains ten user names and passwords. The program should ask the user to enter their username and password. If the username is not in the dictionary, the program should indicate that the person is not a valid user of the system. If the username is in the dictionary, but the user does not enter the right password, the program should say that the password is invalid. If the password is correct, then the program should tell the user that they are now logged in to the system."
   ]
  },
  {
   "cell_type": "code",
   "execution_count": null,
   "id": "2917c164",
   "metadata": {},
   "outputs": [],
   "source": [
    "d_system = dict()\n",
    "count = 0\n",
    "while count != 10:\n",
    "    username = input(\"Enter a username: \")\n",
    "    username = username.strip()\n",
    "    if username in d_system:\n",
    "        print(f\"{username} is already exists. Enter different username.\")\n",
    "        continue\n",
    "    else:\n",
    "        password = input(f\"Enter the password for {username}: \")\n",
    "        password = password.strip()\n",
    "        d_system[username] = password\n",
    "        count += 1\n",
    "    print(\"\")\n",
    "\n",
    "while True:\n",
    "    input_user = input(\"Enter your username: \")\n",
    "    input_user = input_user.strip()\n",
    "    if input_user not in d_system:\n",
    "        print(f\"{input_user} does not exist in the system. Enter different username.\")\n",
    "        continue\n",
    "    else:\n",
    "        while True:\n",
    "            input_pass = input(f\"Enter your password: \")\n",
    "            input_pass = input_pass.strip()\n",
    "            if d_system[input_user] == input_pass:\n",
    "                print(\"You are now logged in to the system.\")\n",
    "                break\n",
    "            else:\n",
    "                print(\"Password is invalid! Try again.\\n\")\n",
    "                continue\n",
    "        break"
   ]
  },
  {
   "cell_type": "markdown",
   "id": "b7e770ad",
   "metadata": {},
   "source": [
    "5. Repeatedly ask the user to enter a team name and the how many games the team won and how many they lost. Store this information in a dictionary where the keys are the team names and the values are lists of the form [wins, losses]. $\\newline$\n",
    "(a) Using the dictionary created above, allow the user to enter a team name and print out the team’s winning percentage.$\\newline$\n",
    "(b) Using the dictionary, create a list whose entries are the number of wins of each team.$\\newline$\n",
    "(c) Using the dictionary, create a list of all those teams that have winning records."
   ]
  },
  {
   "cell_type": "code",
   "execution_count": null,
   "id": "a38f68fa",
   "metadata": {
    "scrolled": true
   },
   "outputs": [],
   "source": [
    "#Input data\n",
    "d_team = dict()\n",
    "while True:\n",
    "    team = input(\"Enter the name of the team (Type \\\"Done\\\" if done): \")\n",
    "    team = team.strip()\n",
    "    team = team.lower()\n",
    "    team = team.capitalize()\n",
    "    if team == \"Done\":\n",
    "        break\n",
    "    elif team in d_team:\n",
    "        print(f\"{team} already exists. Try again.\")\n",
    "        continue\n",
    "    else:\n",
    "        win = eval(input(f\"Enter the wins of team {team}: \"))\n",
    "        loss = eval(input(f\"Enter the losses of team {team}: \"))\n",
    "        d_team[team] = [win, loss]  "
   ]
  },
  {
   "cell_type": "code",
   "execution_count": null,
   "id": "18884613",
   "metadata": {
    "scrolled": true
   },
   "outputs": [],
   "source": [
    "#A\n",
    "name = input(\"Enter the name of the team: \")\n",
    "name = name.strip()\n",
    "name = name.lower()\n",
    "name = name.capitalize()\n",
    "if name in d_team:\n",
    "    percentage = (d_team[name][0]/(d_team[name][0]+ d_team[name][1]))*100\n",
    "    print(f\"Winning percentage of team {name}: {percentage}%\")"
   ]
  },
  {
   "cell_type": "code",
   "execution_count": null,
   "id": "6f86f1b0",
   "metadata": {},
   "outputs": [],
   "source": [
    "#B\n",
    "list_val = list(d_team.values())\n",
    "list_wins = [item[0] for item in list_val]\n",
    "print(list_wins)"
   ]
  },
  {
   "cell_type": "code",
   "execution_count": null,
   "id": "ba7b5380",
   "metadata": {
    "scrolled": true
   },
   "outputs": [],
   "source": [
    "#C\n",
    "for k, v in d_team.items():\n",
    "    if v[0] > 0:\n",
    "        print(f\"{k}: {v[0]} wins, {v[1]} losses\")"
   ]
  },
  {
   "cell_type": "code",
   "execution_count": null,
   "id": "64a0a8e6",
   "metadata": {
    "scrolled": true
   },
   "outputs": [],
   "source": [
    "d_team"
   ]
  },
  {
   "cell_type": "markdown",
   "id": "bbbc9067",
   "metadata": {},
   "source": [
    "6. Repeatedly ask the user to enter game scores in a format like team1 score1 - team2 score2. Store this information in a dictionary where the keys are the team names and the values are lists of the form [wins, losses].\n"
   ]
  },
  {
   "cell_type": "code",
   "execution_count": null,
   "id": "8c406c3c",
   "metadata": {
    "scrolled": true
   },
   "outputs": [],
   "source": [
    "d_team = dict()\n",
    "while True:\n",
    "    \n",
    "    record = input(\"Enter game scores in a format like team1 score1 - team2 score2 (Type \\\"done\\\" if done): \")\n",
    "    record = record.strip()\n",
    "    \n",
    "    if record == \"Done\" or record == \"done\":\n",
    "        break\n",
    "    else:\n",
    "        r_team1 = record.split(\"-\")[0]\n",
    "        r_team2 = record.split(\"-\")[1]\n",
    "        r_team1 = r_team1.strip()\n",
    "        r_team2 = r_team2.strip()\n",
    "        team1 = r_team1.split(\" \")[0]\n",
    "        score1 = int(r_team1.split(\" \")[1])\n",
    "        team2 = r_team2.split(\" \")[0]\n",
    "        score2 = int(r_team2.split(\" \")[1])\n",
    "        team1 = team1.strip()\n",
    "        team1 = team1.lower()\n",
    "        team1 = team1.capitalize()\n",
    "        team2 = team2.strip()\n",
    "        team2 = team2.lower()\n",
    "        team2 = team2.capitalize()\n",
    "        \n",
    "        if score1 > score2:\n",
    "            winner = \"left\"\n",
    "        elif score1 < score2:\n",
    "            winner = \"right\"\n",
    "        else:\n",
    "            print(\"Invalid Input\")\n",
    "            continue\n",
    "        \n",
    "        if team1 in d_team:\n",
    "            if winner == \"left\":\n",
    "                d_team[team1][0] += 1\n",
    "            else:\n",
    "                d_team[team1][1] += 1\n",
    "        else:\n",
    "            if winner == \"left\":\n",
    "                d_team[team1] = [1, 0]\n",
    "            else:\n",
    "                d_team[team1] = [0, 1]\n",
    "                \n",
    "        if team2 in d_team:\n",
    "            if winner == \"right\":\n",
    "                d_team[team2][0] += 1\n",
    "            else:\n",
    "                d_team[team2][1] += 1\n",
    "        else:\n",
    "            if winner == \"right\":\n",
    "                d_team[team2] = [1, 0]\n",
    "            else:\n",
    "                d_team[team2] = [0, 1]\n",
    "\n",
    "for k, v in d_team.items():\n",
    "    print(f\"{k}: wins {v[0]}, losses {v[1]}\")"
   ]
  },
  {
   "cell_type": "markdown",
   "id": "5944fbf9",
   "metadata": {},
   "source": [
    "7. Create a 5 × 5 list of numbers. Then write a program that creates a dictionary whose keys are the numbers and whose values are the how many times the number occurs. Then print the three most common numbers."
   ]
  },
  {
   "cell_type": "code",
   "execution_count": null,
   "id": "20e79633",
   "metadata": {},
   "outputs": [],
   "source": [
    "from random import randint\n",
    "import pandas as pd\n",
    "list_num = [[randint(0, 9) for i in range(5)] for j in range(5)]\n",
    "d_num = dict()\n",
    "for item in list_num:\n",
    "    for elem in item:\n",
    "        if elem in d_num:\n",
    "            d_num[elem] += 1\n",
    "        else:\n",
    "            d_num[elem] = 1\n",
    "row_col = [\" \"]*5\n",
    "print(\"5 x 5 list of random numbers\")\n",
    "df = pd.DataFrame(list_num, index = row_col, columns = row_col)\n",
    "print(df)\n",
    "\n",
    "list_count = [[x, y] for x, y in d_num.items()]\n",
    "list_count.sort()\n",
    "print(\"\\nNumber of times a number appear\")\n",
    "for items in list_count:\n",
    "    print(f\"{items[0]}: {items[1]}\")"
   ]
  },
  {
   "cell_type": "markdown",
   "id": "6e17433b",
   "metadata": {},
   "source": [
    "8. Using the card dictionary from earlier in this chapter, create a simple card game that deals two players three cards each. The player with the highest card wins. If there is a tie, then compare the second highest card and, if necessary, the third highest. If all three cards have the same value, then the game is a draw."
   ]
  },
  {
   "cell_type": "code",
   "execution_count": null,
   "id": "bd26d2ac",
   "metadata": {
    "scrolled": false
   },
   "outputs": [],
   "source": [
    "import random\n",
    "deck = [{'suit':c, 'value':i} for c in ['Spades', 'Clubs', 'Hearts', 'Diamonds'] for i in range(1,14)]\n",
    "shuffle = random.sample(deck, 6)\n",
    "player1 = shuffle[0:3]\n",
    "player2 = shuffle[3:6]\n",
    "\n",
    "print(\"Player 1\")\n",
    "for item in player1:\n",
    "    if item[\"value\"] == 1:\n",
    "        print(\"Ace of\", item[\"suit\"])\n",
    "    elif item[\"value\"] == 11:\n",
    "        print(\"Jack of\", item[\"suit\"])\n",
    "    elif item[\"value\"] == 12:\n",
    "        print(\"Queen of\", item[\"suit\"])\n",
    "    elif item[\"value\"] == 13:\n",
    "        print(\"King of\", item[\"suit\"])\n",
    "    else:\n",
    "        print(item[\"value\"], \"of\", item[\"suit\"])\n",
    "print(\" \")\n",
    "\n",
    "print(\"Player 2\")\n",
    "for item in player2:\n",
    "    if item[\"value\"] == 1:\n",
    "        print(\"Ace of\", item[\"suit\"])\n",
    "    elif item[\"value\"] == 11:\n",
    "        print(\"Jack of\", item[\"suit\"])\n",
    "    elif item[\"value\"] == 12:\n",
    "        print(\"Queen of\", item[\"suit\"])\n",
    "    elif item[\"value\"] == 13:\n",
    "        print(\"King of\", item[\"suit\"])\n",
    "    else:\n",
    "        print(item[\"value\"], \"of\", item[\"suit\"])\n",
    "print(\" \")\n",
    "\n",
    "count1 = 0\n",
    "count2 = 0\n",
    "\n",
    "for item in player1:\n",
    "    count1 += item[\"value\"]\n",
    "    \n",
    "for item in player2:\n",
    "    count2 += item[\"value\"]\n",
    "\n",
    "value1 = [item[\"value\"] for item in player1]\n",
    "value2 = [item[\"value\"] for item in player2]\n",
    "value1.sort()\n",
    "value2.sort()\n",
    "\n",
    "if count1 > count2:\n",
    "    print(\"Player 1 Wins!\")\n",
    "elif count1 < count2:\n",
    "    print(\"Player 2 Wins!\")\n",
    "else:\n",
    "    if value1[1] > value2[1]:\n",
    "        print(\"Player 1 Wins!\")\n",
    "    elif value1[1] < value2[1]:\n",
    "        print(\"Player 2 Wins!\")\n",
    "    else:\n",
    "        if value1[2] > value2[2]:\n",
    "            print(\"Player 1 Wins!\")\n",
    "        elif value1[2] < value2[2]:\n",
    "            print(\"Player 2 Wins!\")\n",
    "        else:\n",
    "            print(\"The game is a draw.\")"
   ]
  },
  {
   "cell_type": "markdown",
   "id": "998a98bf",
   "metadata": {},
   "source": [
    "9. Using the card dictionary from earlier in the chapter, deal out three cards. Determine the following: $\\newline$\n",
    "(a) If the three cards form a flush (all of the same suit) $\\newline$\n",
    "(b) If there is a three-of-a-kind (all of the same value)$\\newline$\n",
    "(c) If there is a pair, but not three-of-a-kind$\\newline$\n",
    "(d) If the three cards form a straight (all in a row, like (2, 3, 4) or (10, Jack, Queen))"
   ]
  },
  {
   "cell_type": "code",
   "execution_count": null,
   "id": "6aed3090",
   "metadata": {
    "scrolled": false
   },
   "outputs": [],
   "source": [
    "import random\n",
    "deck = [{'suit':c, 'value':i} for c in ['Spades', 'Clubs', 'Hearts', 'Diamonds'] for i in range(1,14)]\n",
    "shuffle = random.sample(deck, 3)\n",
    "values = [item[\"value\"] for item in shuffle]\n",
    "suits = [item[\"suit\"] for item in shuffle]\n",
    "values.sort()\n",
    "\n",
    "print(\"Cards\")\n",
    "for item in shuffle:\n",
    "    if item[\"value\"] == 1:\n",
    "        print(\"Ace of\", item[\"suit\"])\n",
    "    elif item[\"value\"] == 11:\n",
    "        print(\"Jack of\", item[\"suit\"])\n",
    "    elif item[\"value\"] == 12:\n",
    "        print(\"Queen of\", item[\"suit\"])\n",
    "    elif item[\"value\"] == 13:\n",
    "        print(\"King of\", item[\"suit\"])\n",
    "    else:\n",
    "        print(item[\"value\"], \"of\", item[\"suit\"])\n",
    "print(\" \")\n",
    "\n",
    "#A\n",
    "if suits[0] == suits[1] == suits[2]:\n",
    "    print(\"Flush!\")\n",
    "\n",
    "#B\n",
    "if values[0] == values[1] == values[2]:\n",
    "    print(\"Three-of-a-kind!\")\n",
    "    \n",
    "#C\n",
    "if (values[0] == values[1] or values[1] == values[2] or values[0] == values[2]) and not values[0] == values[1] == values[2]:\n",
    "    print(\"Pair but not three-of-a-kind.\")\n",
    "    \n",
    "#D\n",
    "if values[1] == values[0] + 1 and values[2] == values[1] + 1:\n",
    "    print(\"Straight!\")"
   ]
  },
  {
   "cell_type": "markdown",
   "id": "76ea568f",
   "metadata": {},
   "source": [
    "10. Using the card dictionary from earlier in the chapter run a Monte Carlo simulation to estimate the probability of being dealt a flush in a five card hand. See Exercise 32 of Chapter 10 for more about Monte Carlo simulations."
   ]
  },
  {
   "cell_type": "code",
   "execution_count": null,
   "id": "a1f207b6",
   "metadata": {},
   "outputs": [],
   "source": [
    "import random\n",
    "loop = eval(input(\"Enter how many do you want simulate this program: \"))\n",
    "count = 0\n",
    "for i in range(loop):\n",
    "    deck = [{'suit':c, 'value':i} for c in ['Spades', 'Clubs', 'Hearts', 'Diamonds'] for i in range(1,14)]\n",
    "    shuffle = random.sample(deck, 5)\n",
    "    suits = [item[\"suit\"] for item in shuffle]\n",
    "    \n",
    "    if suits[0] == suits[1] == suits[2] == suits[3] == suits[4]:\n",
    "        count += 1\n",
    "\n",
    "average = (count/loop)*100\n",
    "print(f\"The probability of getting a flush after {loop} tries is {average}%.\")"
   ]
  },
  {
   "cell_type": "markdown",
   "id": "d284b67d",
   "metadata": {},
   "source": [
    "11. In Section 6.10 we met the substitution cipher. This cipher replaces every letter with a different letter. For instance every a might be replaced with an e, every b might be replaced with an\n",
    "a, etc. Write a program that asks the user to enter two strings. Then determine if the second string could be an encoded version of the first one with a substitution cipher. For instance, CXYZ is not an encoded version of BOOK because O got mapped to two separate letters. Also, CXXK is not an encoded version of BOOK, because K got mapped to itself. On the other hand, CXXZ would be an encoding of BOOK. This problem can be done with or without a dictionary."
   ]
  },
  {
   "cell_type": "code",
   "execution_count": null,
   "id": "1393bc7c",
   "metadata": {
    "scrolled": true
   },
   "outputs": [],
   "source": [
    "from os import system, name\n",
    "string1 = input(\"Enter string: \")\n",
    "string2 = input(\"Enter another string: \")\n",
    "\n",
    "d_char = dict()\n",
    "cipherable = 0\n",
    "if len(string1) == len(string2):\n",
    "    for i in range(len(string1)):\n",
    "        d_char[string2[i]] = string1[i]\n",
    "else:\n",
    "    cipherable = 1\n",
    "\n",
    "            \n",
    "for j in range(len(string1)):\n",
    "    if string1[j] != d_char[string2[j]] or string1[j] == string2[j]:\n",
    "        cipherable = 1\n",
    "        break\n",
    "    else:\n",
    "        continue\n",
    "        \n",
    "if cipherable == 0:\n",
    "\tprint('Yes, the messages can be encrypted with substitution cipher.')\n",
    "else:\n",
    "\tprint('No, the messages cannot be encrypted with substitution cipher.')"
   ]
  },
  {
   "cell_type": "markdown",
   "id": "2c542b3d",
   "metadata": {},
   "source": [
    "12. Below are the notes used in music:\n",
    "       $$C C# D D# E F F# G G# A A# B$$\n",
    "The notes for the C major chord are C, E, G. A mathematical way to get this is that E is 4 steps past C and G is 7 steps past C. This works for any base. For example, the notes for D major are D, F#, A. We can represent the major chord steps as a list with two elements: [4,7]. The corresponding lists for some other chord types are shown below:$\\newline$\n",
    "Minor [3,7] $\\newline$\n",
    "Augmented fifth [4,8]$\\newline$\n",
    "Minor fifth [4,6]$\\newline$\n",
    "Major sixth [4,7,9]$\\newline$\n",
    "Minor sixth [3,7,9]$\\newline$\n",
    "Dominant seventh [4,7,10]$\\newline$\n",
    "Minor seventh [3,7,10]$\\newline$\n",
    "Diminished seventh [3,6,10]$\\newline$\n",
    "Write a program that asks the user for the key and the chord type and prints out the notes of the chord. Use a dictionary whose keys are the (musical) keys and whose values are the lists of steps.\n"
   ]
  },
  {
   "cell_type": "code",
   "execution_count": null,
   "id": "3a3c1d02",
   "metadata": {},
   "outputs": [],
   "source": [
    "key = {1: \"C\", 2: \"C#\", 3: \"D\", 4: \"D#\", 5: \"E\", 6: \"F\", 7: \"F#\", 8: \"G\", 9: \"G#\", 10: \"A\", 11: \"A#\", 12: \"B\"}\n",
    "chords = {\"Major\": [4, 7], \"Minor\": [3, 7], \"Augmented fifth\": [4, 8], \"Minor fifth\": [4, 6], \"Major sixth\": [4, 7, 9], \"Minor sixth\": [3, 7, 9], \"Dominant seventh\": [4, 7, 10], \"Minor seventh\": [3, 7, 10], \"Major seventh\": [4, 7, 11], \"Diminished seventh\": [3, 6, 10]} \n",
    "key_rev = dict()\n",
    "for k, v in key.items():\n",
    "    key_rev[v] = k\n",
    "\n",
    "list_key = list(key.values())\n",
    "list_chords = list(chords)\n",
    "print(f\"Choose a key from keys:\", \", \".join(list_key))\n",
    "while True:\n",
    "    ent_key = input(\"Enter a key: \")\n",
    "    ent_key = ent_key.strip()\n",
    "    ent_key = ent_key.lower()\n",
    "    ent_key = ent_key.capitalize()\n",
    "    if ent_key not in list_key:\n",
    "        print(\"Invalid Input.\")\n",
    "        continue\n",
    "    else:\n",
    "        print(f\"\\nChoose a chord types from chord types:\", \", \".join(list_chords))\n",
    "        while True:\n",
    "            ent_chords = input(\"Enter a chord type: \")\n",
    "            ent_chords = ent_chords.strip()\n",
    "            ent_chords = ent_chords.lower()\n",
    "            ent_chords = ent_chords.capitalize()\n",
    "            if ent_chords not in list_chords:\n",
    "                print(\"Invalid Input.\\n\")\n",
    "                continue\n",
    "            else:\n",
    "                chord = list()\n",
    "                for item in chords[ent_chords]:\n",
    "                    num = key_rev[ent_key] + item\n",
    "                    if num <= 12:\n",
    "                        chord.append(key[num])\n",
    "                    else:\n",
    "                        num = (key_rev[ent_key] + item)%12\n",
    "                        chord.append(key[num])\n",
    "                print(f\"\\nNotes of {ent_key} {ent_chords} are\", \", \".join(chord), end = \".\")  \n",
    "                \n",
    "            break\n",
    "    break"
   ]
  },
  {
   "cell_type": "markdown",
   "id": "b3d5ee0d",
   "metadata": {},
   "source": [
    "13. Suppose you are given the following list of strings:$\\newline$\n",
    "$$L = ['aabaabac', 'cabaabca', 'aaabbcba', 'aabacbab', 'acababba']$$\n",
    "Patterns like this show up in many places, including DNA sequencing. The user has a string of their own with only some letters filled in and the rest as asterisks. An example is a\\*\\*a\\*\\*\\*\\*. The user would like to know which of the strings in the list fit with their pattern. In the example just given, the matching strings are the first and fourth. One way to solve this problem is to create a dictionary whose keys are the indices in the user’s string of the non-asterisk characters and whose values are those characters. Write a program implementing this approach (or some other approach) to find the strings that match a user-entered string."
   ]
  },
  {
   "cell_type": "code",
   "execution_count": null,
   "id": "2a903527",
   "metadata": {
    "scrolled": true
   },
   "outputs": [],
   "source": [
    "string = input(\"Enter a string: \")\n",
    "L = ['aabaabac', 'cabaabca', 'aaabbcba', 'aabacbab', 'acababba']\n",
    "non_ast = dict()\n",
    "exists = False\n",
    "print(\"Possible strings are:\")\n",
    "if len(string) == len(L[0]):\n",
    "    for i in range(len(string)):\n",
    "        if string[i] != \"*\":\n",
    "            non_ast[i] = string[i]\n",
    "                \n",
    "else:\n",
    "    print('No string of that length is available in library.')\n",
    "list_key = list(non_ast)\n",
    "for item in L:\n",
    "    list_str = {index: item[index] for index in list_key}\n",
    "    if list_str == non_ast:\n",
    "            print(item)\n",
    "            exists = True\n",
    "            continue\n",
    "            \n",
    "if exists == False:\n",
    "    print('No string of that length is available in library.')        "
   ]
  },
  {
   "cell_type": "markdown",
   "id": "6f8122f5",
   "metadata": {},
   "source": [
    "14. Dictionaries provide a convenient way to store structured data. Here is an example dictionary: $\\newline$\n",
    "Write a program that reads through any dictionary like this and prints the following:$\\newline$\n",
    "(a) All the users whose phone number ends in an 8$\\newline$\n",
    "(b) All the users that don’t have an email address listed"
   ]
  },
  {
   "cell_type": "code",
   "execution_count": null,
   "id": "1e26d6d6",
   "metadata": {
    "scrolled": false
   },
   "outputs": [],
   "source": [
    "d=[{'name':'Todd', 'phone':'555-1414', 'email':'todd@mail.net'}, {'name':'Helga', 'phone':'555-1618', 'email':'helga@mail.net'}, {'name':'Princess', 'phone':'555-3141', 'email':''}, {'name':'LJ', 'phone':'555-2718', 'email':'lj@mail.net'}]\n",
    "#A\n",
    "user = 1\n",
    "for item in d:\n",
    "    if item[\"phone\"][-1] == \"8\":\n",
    "        print(f\"User {user}\")\n",
    "        print(f\"Name:\", item[\"name\"])\n",
    "        print(f\"Phone:\", item[\"phone\"])\n",
    "        print(f\"Email:\", item[\"email\"])\n",
    "        print(\" \")\n",
    "        user += 1"
   ]
  },
  {
   "cell_type": "code",
   "execution_count": null,
   "id": "fdc65f5d",
   "metadata": {
    "scrolled": false
   },
   "outputs": [],
   "source": [
    "#B\n",
    "user = 1\n",
    "for item in d:\n",
    "    if item[\"email\"] == \"\" or item[\"email\"] == \" \":\n",
    "        print(f\"User {user}\")\n",
    "        print(f\"Name:\", item[\"name\"])\n",
    "        print(f\"Phone:\", item[\"phone\"])\n",
    "        print(f\"Email:\", item[\"email\"])\n",
    "        print(\" \")\n",
    "        user += 1"
   ]
  },
  {
   "cell_type": "markdown",
   "id": "784c6237",
   "metadata": {},
   "source": [
    "15.\n",
    "The following problem is from Chapter 6. Try it again, this time using a dictionary whose keys are the names of the time zones and whose values are offsets from the Eastern time zone.$\\newline$\n",
    "Write a program that converts a time from one time zone to another. The user enters the time in the usual American way, such as 3:48pm or 11:26am. The first time zone the user enters is that of the original time and the second is the desired time zone. The possible time zones are Eastern, Central, Mountain, or Pacific.$\\newline$\n",
    "    Time: 11:48pm$\\newline$\n",
    "    Starting zone: Pacific$\\newline$\n",
    "    Ending zone: Eastern$\\newline$\n",
    "    2:48am"
   ]
  },
  {
   "cell_type": "code",
   "execution_count": null,
   "id": "b476962b",
   "metadata": {
    "scrolled": true
   },
   "outputs": [],
   "source": [
    "zone = {\"Eastern\": {\"Eastern\": hour, \"Central\": hour-1, \"Mountain\": hour-2, \"Pacific\": hour-3}, \n",
    "        \"Central\": {\"Eastern\": hour+1, \"Central\": hour, \"Mountain\": hour-1, \"Pacific\": hour-2},\n",
    "        \"Mountain\": {\"Eastern\": hour+2, \"Central\": hour+1, \"Mountain\": hour, \"Pacific\": hour-1},\n",
    "        \"Pacific\": {\"Eastern\": hour+3, \"Central\": hour+2, \"Mountain\": hour+1, \"Pacific\": hour}}\n",
    "\n",
    "time = input(\"Enter time: \")\n",
    "start = input(\"Enter starting time zone: \")\n",
    "end = input(\"Enter ending time zone: \")\n",
    "start = start.strip()\n",
    "start = start.lower()\n",
    "start = start.capitalize()\n",
    "end = end.strip()\n",
    "end = end.lower()\n",
    "end = end.capitalize()\n",
    "hour = int(time.split(\":\")[0])\n",
    "minute = time.split(\":\")[1][0:2]\n",
    "reference = time.split(\":\")[1][2:4]\n",
    "\n",
    "print(f\"\\nTime: {time}\")\n",
    "print(f\"Starting zone: {start}\")\n",
    "print(f\"Ending zone: {end}\")\n",
    "\n",
    "if zone[start][end] == 0:\n",
    "    if reference == \"am\":\n",
    "        print(f\"New Time: 12:{minute}am\")\n",
    "    elif reference == \"pm\":\n",
    "        print(f\"New Time: 12:{minute}pm\")     \n",
    "elif zone[start][end] >= 1 and zone[start][end] <= 11:\n",
    "    print(f\"New Time: {zone[start][end]}:{minute}{reference}\")\n",
    "elif zone[start][end] == 12:\n",
    "    if reference == \"am\":\n",
    "        print(f\"New Time: {zone[start][end]}:{minute}pm\")\n",
    "    elif reference == \"pm\":\n",
    "        print(f\"New Time: {zone[start][end]}:{minute}am\")\n",
    "elif zone[start][end] < 0 or zone[start][end] > 12:\n",
    "    if reference == \"am\":\n",
    "        print(f\"New Time: {zone[start][end]%12}:{minute}pm\")\n",
    "    elif reference == \"pm\":\n",
    "        print(f\"New Time: {zone[start][end]%12}:{minute}am\")"
   ]
  },
  {
   "cell_type": "markdown",
   "id": "0820f431",
   "metadata": {},
   "source": [
    "16. (a) Write a program that converts Roman numerals into ordinary numbers. Here are the conversions: M=1000, D=500, C=100, L=50, X=10, V=5 I=1. Don’t forget about things like IV being 4 and XL being 40.$\\newline $\n",
    "(b) Write a program that converts ordinary numbers into Roman numerals$\\newline $"
   ]
  },
  {
   "cell_type": "code",
   "execution_count": null,
   "id": "068bfc6a",
   "metadata": {},
   "outputs": [],
   "source": [
    "#A\n",
    "roman = {\"M\": 1000, \"D\": 500, \"C\": 100, \"L\": 50, \"X\": 10, \"V\": 5, \"I\": 1}\n",
    "num = eval(input(\"Enter a number: \"))\n",
    "string = \"\"\n",
    "\n",
    "while num != 0:\n",
    "    while (num - 1000) >= 0:\n",
    "        string += \"M\"\n",
    "        num -= 1000\n",
    "    while (num - 500) >= 0:\n",
    "        string += \"D\"\n",
    "        num -= 500\n",
    "    while (num - 100) >= 0:\n",
    "        string += \"C\"\n",
    "        num -= 100\n",
    "    while (num - 50) >= 0:\n",
    "        string += \"L\"\n",
    "        num -= 50\n",
    "    while (num - 10) >= 0:\n",
    "        string += \"X\"\n",
    "        num -= 10\n",
    "    while (num - 5) >= 0:\n",
    "        string += \"V\"\n",
    "        num -= 5\n",
    "    while (num - 1) >= 0:\n",
    "        string += \"I\"\n",
    "        num -= 1\n",
    "\n",
    "string = string.replace(\"DCCCC\", \"CM\")\n",
    "string = string.replace(\"LXXXX\", \"XC\")\n",
    "string = string.replace(\"VIIII\", \"IX\")\n",
    "string = string.replace(\"IIII\", \"IV\")\n",
    "string = string.replace(\"XXXX\", \"XL\")\n",
    "string = string.replace(\"CCCC\", \"CD\")\n",
    "print(string)"
   ]
  },
  {
   "cell_type": "code",
   "execution_count": null,
   "id": "d59d93e6",
   "metadata": {
    "scrolled": true
   },
   "outputs": [],
   "source": [
    "#B\n",
    "roman = {\"M\": 1000, \"D\": 500, \"C\": 100, \"L\": 50, \"X\": 10, \"V\": 5, \"I\": 1}\n",
    "\n",
    "num = input(\"Enter a roman numeral: \")\n",
    "num = num.strip()\n",
    "num = num.upper()\n",
    "orig_num = 0\n",
    "for char in num:\n",
    "    if char.isalpha() and char in roman:\n",
    "        orig_num += roman[char]\n",
    "    else:\n",
    "        print(\"Invalid Input!\")\n",
    "\n",
    "orig_num = orig_num\n",
    "\n",
    "CD = num.count(\"CD\")\n",
    "\n",
    "orig_num -= (200)*CD\n",
    "\n",
    "CM = num.count(\"CM\")\n",
    "\n",
    "orig_num -= (200)*CM\n",
    "\n",
    "XC = num.count(\"XC\")\n",
    "\n",
    "orig_num -= (20)*XC\n",
    "\n",
    "XL = num.count(\"XL\")\n",
    "\n",
    "orig_num -= (20)*XL\n",
    "\n",
    "IX = num.count(\"IX\")\n",
    "\n",
    "orig_num -= (2)*IX\n",
    "\n",
    "IV = num.count(\"IV\")\n",
    "\n",
    "orig_num -= (2)*IV\n",
    "\n",
    "print(orig_num)"
   ]
  },
  {
   "cell_type": "code",
   "execution_count": null,
   "id": "300a5bb8",
   "metadata": {},
   "outputs": [],
   "source": []
  }
 ],
 "metadata": {
  "kernelspec": {
   "display_name": "Python 3 (ipykernel)",
   "language": "python",
   "name": "python3"
  },
  "language_info": {
   "codemirror_mode": {
    "name": "ipython",
    "version": 3
   },
   "file_extension": ".py",
   "mimetype": "text/x-python",
   "name": "python",
   "nbconvert_exporter": "python",
   "pygments_lexer": "ipython3",
   "version": "3.9.7"
  }
 },
 "nbformat": 4,
 "nbformat_minor": 5
}
