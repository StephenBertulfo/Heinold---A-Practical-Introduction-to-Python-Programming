{
 "cells": [
  {
   "cell_type": "markdown",
   "id": "689378db",
   "metadata": {},
   "source": [
    "1. Write a function called rectangle that takes two integers m and n as arguments and prints\n",
    "out an m × n box consisting of asterisks. Shown below is the output of rectangle(2,4)"
   ]
  },
  {
   "cell_type": "code",
   "execution_count": null,
   "id": "f0c356ac",
   "metadata": {},
   "outputs": [],
   "source": [
    "def box(m, n):\n",
    "    for i in range(m):\n",
    "        print(\"*\"*n)\n",
    "        \n",
    "x = eval(input(\"Enter the height of the rectangle: \"))\n",
    "y = eval(input(\"Enter the width of the rectangle: \"))\n",
    "        \n",
    "box(x, y)"
   ]
  },
  {
   "cell_type": "markdown",
   "id": "29d115bf",
   "metadata": {},
   "source": [
    "2. (a) Write a function called add_excitement that takes a list of strings and adds an exclamation point (!) to the end of each string in the list. The program should modify the\n",
    "original list and not return anything. $\\newline$\n",
    "(b) Write the same function except that it should not modify the original list and should\n",
    "instead return a new list."
   ]
  },
  {
   "cell_type": "code",
   "execution_count": null,
   "id": "5304f9af",
   "metadata": {
    "scrolled": true
   },
   "outputs": [],
   "source": [
    "#A\n",
    "def add_excitement(phrase):\n",
    "    for i in range(len(phrase)):\n",
    "        phrase[i] = phrase[i]+\"!\"\n",
    "        \n",
    "string = eval(input(\"Enter a list of string: \"))\n",
    "\n",
    "add_excitement(string)\n",
    "print(string)"
   ]
  },
  {
   "cell_type": "code",
   "execution_count": null,
   "id": "18579068",
   "metadata": {
    "scrolled": true
   },
   "outputs": [],
   "source": [
    "#B\n",
    "def add_excitement(phrase):\n",
    "    new_string = list()\n",
    "    for i in range(len(phrase)):\n",
    "        sent = phrase[i]+\"!\"\n",
    "        new_string.append(sent)\n",
    "    return (new_string)\n",
    "\n",
    "string = eval(input(\"Enter a list of string: \"))\n",
    "\n",
    "print(add_excitement(string))"
   ]
  },
  {
   "cell_type": "markdown",
   "id": "22f50d01",
   "metadata": {},
   "source": [
    "3. Write a function called sum_digits that is given an integer num and returns the sum of the\n",
    "digits of num."
   ]
  },
  {
   "cell_type": "code",
   "execution_count": null,
   "id": "8e1858ce",
   "metadata": {},
   "outputs": [],
   "source": [
    "def sum_digit(list_num):\n",
    "    return(sum(list_num))\n",
    "\n",
    "count = eval(input(\"Enter how many numbers do you want to enter: \"))\n",
    "num = list()\n",
    "for i in range(count):\n",
    "    digit = eval(input(\"Enter an integer: \"))\n",
    "    num.append(digit)\n",
    "\n",
    "print(f\"Sum of all input integers: {sum_digit(num)}\")"
   ]
  },
  {
   "cell_type": "markdown",
   "id": "7ea7a046",
   "metadata": {},
   "source": [
    "4. The digital root of a number n is obtained as follows: Add up the digits n to get a new number.\n",
    "Add up the digits of that to get another new number. Keep doing this until you get a number\n",
    "that has only one digit. That number is the digital root.\n",
    "For example, if n = 45893, we add up the digits to get 4 + 5 + 8 + 9 + 3 = 29. We then add up\n",
    "the digits of 29 to get 2 + 9 = 11. We then add up the digits of 11 to get 1 + 1 = 2. Since 2 has\n",
    "only one digit, 2 is our digital root.\n",
    "Write a function that returns the digital root of an integer n. [Note: there is a shortcut, where\n",
    "the digital root is equal to n mod 9, but do not use that here.]"
   ]
  },
  {
   "cell_type": "code",
   "execution_count": null,
   "id": "addd488f",
   "metadata": {},
   "outputs": [],
   "source": [
    "def digital_root(num):\n",
    "    while True:\n",
    "        list_num = list(str(num))\n",
    "        summation = 0\n",
    "        for digit in list_num:\n",
    "            summation += int(digit)\n",
    "        \n",
    "        if summation//10 == 0:\n",
    "            break\n",
    "        else:\n",
    "            num = summation\n",
    "    \n",
    "    return(summation)\n",
    "\n",
    "integer = eval(input(\"Enter an integer: \"))\n",
    "print(f\"Digital Roof of {integer}: {digital_root(integer)}\")"
   ]
  },
  {
   "cell_type": "markdown",
   "id": "a54de812",
   "metadata": {},
   "source": [
    "5. Write a function called first_diff that is given two strings and returns the first location in\n",
    "which the strings differ. If the strings are identical, it should return -1."
   ]
  },
  {
   "cell_type": "code",
   "execution_count": null,
   "id": "aa469bcf",
   "metadata": {},
   "outputs": [],
   "source": [
    "def first_diff(string1, string2):\n",
    "    if len(string1) >= len(string2):\n",
    "        string1 = string1\n",
    "        string2 = string2\n",
    "    else:\n",
    "        hold = string1\n",
    "        string1 = string2\n",
    "        string2 = hold\n",
    "    count = -1\n",
    "    string1 = string1.lower()\n",
    "    string2 = string2.lower()\n",
    "    for i in range(len(string2)):\n",
    "        if string1[i] != string2[i]:\n",
    "            count += 1\n",
    "            break\n",
    "        else:\n",
    "            count += 1\n",
    "    \n",
    "    return(count)\n",
    "\n",
    "x = input(\"Enter a string: \")\n",
    "y = input(\"Enter another string: \")\n",
    "\n",
    "print(first_diff(x, y))"
   ]
  },
  {
   "cell_type": "markdown",
   "id": "e7635737",
   "metadata": {},
   "source": [
    "6. Write a function called binom that takes two integers n and k and returns the binomial coefficient\n",
    "$\\binom{n}{k}$. The definition is $\\binom{n}{k}$ = $\\frac{n!}{k(n-k)!}$."
   ]
  },
  {
   "cell_type": "code",
   "execution_count": null,
   "id": "3d1f3605",
   "metadata": {},
   "outputs": [],
   "source": [
    "import math\n",
    "def binom(n, k):\n",
    "    if n < k:\n",
    "        print(\"Undefined. The value of n should be greater than k.\")\n",
    "    else:\n",
    "        binomial = (math.factorial(n))/(math.factorial(k)*math.factorial(n-k))\n",
    "        return(int(binomial))\n",
    "\n",
    "x = eval(input(\"Enter the value of n (n should be greater than k): \"))\n",
    "y = eval(input(\"Enter the value of k: \"))\n",
    "\n",
    "print(f\"{x} choose {y}: {binom(x, y)}\"\")"
   ]
  },
  {
   "cell_type": "markdown",
   "id": "240ae55c",
   "metadata": {},
   "source": [
    "7. Write a function that takes an integer n and returns a random integer with exactly n digits. For\n",
    "instance, if n is 3, then 125 and 593 would be valid return values, but 093 would not because\n",
    "that is really 93, which is a two-digit number."
   ]
  },
  {
   "cell_type": "code",
   "execution_count": null,
   "id": "9087dbb7",
   "metadata": {},
   "outputs": [],
   "source": [
    "from random import randint\n",
    "def random_num(n):\n",
    "    if n < 1:\n",
    "        print(\"The number of digit should be greater than 1.\")\n",
    "    else:\n",
    "        num = randint(10**(n-1), 10**(n)-1)\n",
    "        return (num)\n",
    "    \n",
    "x = eval(input(\"Enter the number of digits: \"))\n",
    "\n",
    "print(f\"Random number {x} digit number: {random_num(x)}\")"
   ]
  },
  {
   "cell_type": "markdown",
   "id": "c459cead",
   "metadata": {},
   "source": [
    "8. Write a function called number_of_factors that takes an integer and returns how many\n",
    "factors the number has."
   ]
  },
  {
   "cell_type": "code",
   "execution_count": null,
   "id": "83bd3d59",
   "metadata": {},
   "outputs": [],
   "source": [
    "def number_of_factors(n):\n",
    "    count = 0\n",
    "    for i in range(1, n+1):\n",
    "        if n%i == 0:\n",
    "            count += 1\n",
    "    return (count)\n",
    "\n",
    "x = eval(input(\"Enter a number: \"))\n",
    "print(f\"Number of factors of {x}: {number_of_factors(x)}\")"
   ]
  },
  {
   "cell_type": "markdown",
   "id": "3b36500b",
   "metadata": {},
   "source": [
    "9. Write a function called factors that takes an integer and returns a list of its factor"
   ]
  },
  {
   "cell_type": "code",
   "execution_count": null,
   "id": "c604fbac",
   "metadata": {},
   "outputs": [],
   "source": [
    "def factors(n):\n",
    "    factors = list()\n",
    "    for i in range(1, n+1):\n",
    "        if n%i == 0:\n",
    "            factors.append(str(i))\n",
    "    return (factors)\n",
    "\n",
    "x = eval(input(\"Enter a number: \"))\n",
    "print(f\"Factors of {x}:\", \", \".join(factors(x)))"
   ]
  },
  {
   "cell_type": "markdown",
   "id": "15681832",
   "metadata": {},
   "source": [
    "10. Write a function called closest that takes a list of numbers L and a number n and returns\n",
    "the largest element in L that is not larger than n. For instance, if L=[1,6,3,9,11] and n=8,\n",
    "then the function should return 6, because 6 is the closest thing in L to 8 that is not larger than 8. Don’t worry about if all of the things in L are smaller than n."
   ]
  },
  {
   "cell_type": "code",
   "execution_count": null,
   "id": "94dd74f5",
   "metadata": {},
   "outputs": [],
   "source": [
    "def closest(L, n):\n",
    "    L.sort()\n",
    "    new_L = list() \n",
    "    for num in L:\n",
    "        if num <= n:\n",
    "            new_L.append(num)\n",
    "    return(new_L[-1])\n",
    "\n",
    "list_num = eval(input(\"Enter a list: \"))\n",
    "num = eval(input(\"Enter a number: \"))\n",
    "\n",
    "print(f\"Number in list that closest to {num}: {closest(list_num, num)}\")"
   ]
  },
  {
   "cell_type": "markdown",
   "id": "1bf0013c",
   "metadata": {},
   "source": [
    "11. Write a function called matches that takes two strings as arguments and returns how many\n",
    "matches there are between the strings. A match is where the two strings have the same character at the same index. For instance, 'python' and 'path' match in the first, third, and\n",
    "fourth characters, so the function should return 3."
   ]
  },
  {
   "cell_type": "code",
   "execution_count": null,
   "id": "7e8522d2",
   "metadata": {},
   "outputs": [],
   "source": [
    "def matches(s1, s2):\n",
    "    count = 0\n",
    "    for char1 in s1:\n",
    "        for char2 in s2:\n",
    "            if char1.isalpha() and char2.isalpha():\n",
    "                if char1 == char2:\n",
    "                    count += 1\n",
    "                    \n",
    "    return (count)\n",
    "\n",
    "string1 = input(\"Enter a string: \")\n",
    "string2 = input(\"Enter another string: \")\n",
    "\n",
    "print(f\"Number of matches between the strings: {matches(string1, string2)}\")"
   ]
  },
  {
   "cell_type": "markdown",
   "id": "5bfea71d",
   "metadata": {},
   "source": [
    "12. Recall that if s is a string, then s.find('a') will find the location of the first a in s. The\n",
    "problem is that it does not find the location of every a. Write a function called findall that\n",
    "given a string and a single character, returns a list containing all of the locations of that character in the string. It should return an empty list if there are no occurrences of the character\n",
    "in the string."
   ]
  },
  {
   "cell_type": "code",
   "execution_count": null,
   "id": "2dd31cf2",
   "metadata": {},
   "outputs": [],
   "source": [
    "def findall(s, c):\n",
    "    L = list()\n",
    "    s = s.lower()\n",
    "    c = c.lower()\n",
    "    for i in range(len(s)):\n",
    "        if s[i] == c:\n",
    "            L.append(i)\n",
    "    return (L)\n",
    "\n",
    "string = input(\"Enter a string: \")\n",
    "char = input(\"Enter a character: \")\n",
    "\n",
    "print(f\"Location of all {char} in {string}: {findall(string, char)}\")"
   ]
  },
  {
   "cell_type": "markdown",
   "id": "e7c03121",
   "metadata": {},
   "source": [
    "13. Write a function called change_case that given a string, returns a string with each upper\n",
    "case letter replaced by a lower case letter and vice-versa."
   ]
  },
  {
   "cell_type": "code",
   "execution_count": null,
   "id": "6db302e2",
   "metadata": {},
   "outputs": [],
   "source": [
    "def change_case(s):\n",
    "    sent = \"\"\n",
    "    for c in s:\n",
    "        if c.isupper():\n",
    "            sent += c.lower()\n",
    "        else:\n",
    "            sent += c.upper()\n",
    "    return (sent)      \n",
    "\n",
    "string = input(\"Enter a string: \")\n",
    "print(f\"Change case: {change_case(string)}\")"
   ]
  },
  {
   "cell_type": "markdown",
   "id": "3f57cf4f",
   "metadata": {},
   "source": [
    "14. Write a function called is_sorted that is given a list and returns True if the list is sorted\n",
    "and False otherwise."
   ]
  },
  {
   "cell_type": "code",
   "execution_count": null,
   "id": "aa36cff2",
   "metadata": {
    "scrolled": true
   },
   "outputs": [],
   "source": [
    "def is_sorted(l):\n",
    "    sort = True\n",
    "    for i in range(len(l)-1):\n",
    "        for j in range(i+1, len(l)):\n",
    "            if l[i] > l[j]:\n",
    "                sort = False\n",
    "    return(sort)\n",
    "            \n",
    "list_num = eval(input(\"Enter a list of numbers: \"))\n",
    "print(is_sorted(list_num))"
   ]
  },
  {
   "cell_type": "markdown",
   "id": "21db2142",
   "metadata": {},
   "source": [
    "15. Write a function called root that is given a number x and an integer n and returns $x^\\frac{1}{n}$. In\n",
    "the function definition, set the default value of n to 2."
   ]
  },
  {
   "cell_type": "code",
   "execution_count": null,
   "id": "5d394592",
   "metadata": {
    "scrolled": true
   },
   "outputs": [],
   "source": [
    "def root(n):\n",
    "    root = n**(1/2)\n",
    "    return (root)\n",
    "\n",
    "x = eval(input(\"Enter a number: \"))\n",
    "root(x)"
   ]
  },
  {
   "cell_type": "markdown",
   "id": "6c7b20cf",
   "metadata": {},
   "source": [
    "16. Write a function called one_away that takes two strings and returns True if the strings are of\n",
    "the same length and differ in exactly one letter, like bike/hike or water/wafer."
   ]
  },
  {
   "cell_type": "code",
   "execution_count": null,
   "id": "7770da16",
   "metadata": {},
   "outputs": [],
   "source": [
    "def one_away(s1, s2):\n",
    "    if len(s1) != len(s2):\n",
    "        boolean = False\n",
    "    else:\n",
    "        count = 0\n",
    "        for i in range(len(s1)):\n",
    "            if s1[i] != s2[i]:\n",
    "                count += 1\n",
    "        \n",
    "        if count == 1:\n",
    "            boolean = True\n",
    "        else:\n",
    "            boolean = False\n",
    "    \n",
    "    return (boolean)\n",
    "\n",
    "string1 = input(\"Enter a string: \")\n",
    "string2 = input(\"Enter another string: \")\n",
    "\n",
    "one_away(string1, string2)"
   ]
  },
  {
   "cell_type": "markdown",
   "id": "f7b0c450",
   "metadata": {},
   "source": [
    "17. (a) Write a function called primes that is given a number n and returns a list of the first n\n",
    "primes. Let the default value of n be 100. $\\newline$\n",
    "(b) Modify the function above so that there is an optional argument called start that allows\n",
    "the list to start at a value other than 2. The function should return the first n primes that\n",
    "are greater than or equal to start. The default value of start should be 2."
   ]
  },
  {
   "cell_type": "code",
   "execution_count": null,
   "id": "57a240b8",
   "metadata": {
    "scrolled": true
   },
   "outputs": [],
   "source": [
    "#A\n",
    "def primes(n):\n",
    "    primes = list()\n",
    "    i = 2\n",
    "    while True:\n",
    "        num_prime = list()\n",
    "        for j in range(1, i+1):\n",
    "            if i%j == 0:\n",
    "                num_prime.append(j)\n",
    "        \n",
    "        if num_prime == [1, i]:\n",
    "            primes.append(i)\n",
    "        \n",
    "        if len(primes) == n:\n",
    "            break\n",
    "            \n",
    "        i += 1\n",
    "        \n",
    "    return(primes)\n",
    "x = eval(input(\"Enter an integer: \"))\n",
    "print(f\"First {x} prime numbers: {primes(x)}\")"
   ]
  },
  {
   "cell_type": "code",
   "execution_count": null,
   "id": "7d32954b",
   "metadata": {},
   "outputs": [],
   "source": [
    "#B\n",
    "def primes(n, start):\n",
    "    primes = list()\n",
    "    i = start\n",
    "    while True:\n",
    "        num_prime = list()\n",
    "        for j in range(1, i+1):\n",
    "            if i%j == 0:\n",
    "                num_prime.append(j)\n",
    "        \n",
    "        if num_prime == [1, i]:\n",
    "            primes.append(i)\n",
    "        \n",
    "        if len(primes) == n:\n",
    "            break\n",
    "            \n",
    "        i += 1\n",
    "        \n",
    "    return(primes)\n",
    "\n",
    "x = eval(input(\"Enter an integer: \"))\n",
    "y = eval(input(\"Enter the integer where to start: \"))\n",
    "print(f\"First {x} prime numbers: {primes(x, y)}\")"
   ]
  },
  {
   "cell_type": "markdown",
   "id": "30593ca2",
   "metadata": {},
   "source": [
    "18. Our number system is called base 10 because we have ten digits: 0, 1, . . . , 9. Some cultures,\n",
    "including the Mayans and Celts, used a base 20 system. In one version of this system, the 20\n",
    "digits are represented by the letters A through T. Here is a table showing a few conversions: $\\newline$ Write a function called base20 that converts a base 10 number to base 20. It should return\n",
    "the result as a string of base 20 digits. One way to convert is to find the remainder when\n",
    "the number is divided by 20, then divide the number by 20, and repeat the process until the\n",
    "number is 0. The remainders are the base 20 digits in reverse order, though you have to\n",
    "convert them into their letter equivalents."
   ]
  },
  {
   "cell_type": "code",
   "execution_count": null,
   "id": "fe6b3fb9",
   "metadata": {},
   "outputs": [],
   "source": [
    "def base20(n):\n",
    "    letter = \"ABCDEFGHIJKLMNOPQRST\"\n",
    "    char = [n%20]\n",
    "    while n//20 != 0:\n",
    "        n = n//20\n",
    "        char.append(n%20)\n",
    "    char.reverse()\n",
    "    return(\"\".join(letter[c] for c in char))\n",
    "\n",
    "x = eval(input(\"Enter an integer: \"))\n",
    "print(f\"{x} in base 10 is equal to {base20(x)} in base 20.\")"
   ]
  },
  {
   "cell_type": "markdown",
   "id": "8a38702c",
   "metadata": {},
   "source": [
    "19. Write a function called verbose that, given an integer less than 1015, returns the name of\n",
    "the integer in English. As an example, verbose(123456) should return one hundred\n",
    "twenty-three thousand, four hundred fifty-six."
   ]
  },
  {
   "cell_type": "code",
   "execution_count": null,
   "id": "fe3f5952",
   "metadata": {},
   "outputs": [],
   "source": [
    "def verbose(n):\n",
    "    num1 = {1: \"one\", 2: \"two\", 3: \"three\", 4: \"four\", 5: \"five\", 6: \"six\", 7: \"seven\", 8: \"eight\", 9: \"nine\"}\n",
    "    num2 = {2: \"twenty\", 3: \"thirty\", 4: \"fourty\", 5: \"fifty\", 6: \"sixty\", 7: \"seventy\", 8: \"eighty\", 9: \"ninety\"}\n",
    "    num3 = {10: \"ten\", 11: \"eleven\", 12: \"twelve\", 13: \"thirteen\", 14: \"fourteen\", 15: \"fifteen\", 16: \"sixteen\", 17: \"seventeen\", 18: \"eighteen\", 19: \"nineteen\"}\n",
    "    word_num = \"\"\n",
    "    if n//1000 != 0 and n < 10000:\n",
    "        word_num += num1[n//1000] + \" thousand \"\n",
    "        n = n - 1000*(n//1000)\n",
    "    \n",
    "    if n//100 != 0:\n",
    "        word_num += num1[n//100] + \" hundred \"\n",
    "        n = n - 100*(n//100)\n",
    "        \n",
    "    if n < 20 and n >= 10:\n",
    "        word_num += num3[n]\n",
    "    else:\n",
    "        word_num += num2[n//10] + \"-\"\n",
    "        n = n - 10*(n//10)\n",
    "        word_num += num1[n]\n",
    "        \n",
    "    return(word_num)\n",
    "\n",
    "x = eval(input(\"Enter a number less than 10000: \"))\n",
    "print(verbose(x))"
   ]
  },
  {
   "cell_type": "markdown",
   "id": "8ed3c056",
   "metadata": {},
   "source": [
    "20. Write a function called merge that takes two already sorted lists of possibly different lengths,\n",
    "and merges them into a single sorted list. $\\newline$\n",
    "(a) Do this using the sort method.$\\newline$\n",
    "(b) Do this without using the sort method."
   ]
  },
  {
   "cell_type": "code",
   "execution_count": null,
   "id": "5301a596",
   "metadata": {
    "scrolled": true
   },
   "outputs": [],
   "source": [
    "#A\n",
    "def merge(L1, L2):\n",
    "    L = L1 + L2\n",
    "    L.sort()\n",
    "    return (L)\n",
    "\n",
    "list1 = eval(input(\"Enter a list: \"))\n",
    "list2 = eval(input(\"Enter another list: \"))\n",
    "\n",
    "print(merge(list1, list2))"
   ]
  },
  {
   "cell_type": "code",
   "execution_count": null,
   "id": "79069abf",
   "metadata": {},
   "outputs": [],
   "source": [
    "#B\n",
    "def merge(L1, L2):\n",
    "    L = L1 + L2\n",
    "    return (L)\n",
    "\n",
    "list1 = eval(input(\"Enter a list: \"))\n",
    "list2 = eval(input(\"Enter another list: \"))\n",
    "\n",
    "print(merge(list1, list2))"
   ]
  },
  {
   "cell_type": "markdown",
   "id": "131adfdf",
   "metadata": {},
   "source": [
    "21. In Chapter 12, the way we checked to see if a word w was a real word was: $\\newline$\n",
    "if w in words: $\\newline$\n",
    "where words was the list of words generated from a wordlist. This is unfortunately slow, but\n",
    "there is a faster way, called a binary search. To implement a binary search in a function, start\n",
    "by comparing w with the middle entry in words. If they are equal, then you are done and\n",
    "the function should return True. On the other hand, if w comes before the middle entry, then\n",
    "search the first half of the list. If it comes after the middle entry, then search the second half of\n",
    "the list. Then repeat the process on the appropriate half of the list and continue until the word\n",
    "is found or there is nothing left to search, in which case the function short return False. The\n",
    "< and > operators can be used to alphabetically compare two strings."
   ]
  },
  {
   "cell_type": "code",
   "execution_count": null,
   "id": "178c3564",
   "metadata": {
    "scrolled": true
   },
   "outputs": [],
   "source": [
    "\"a\" < \"m\""
   ]
  },
  {
   "cell_type": "code",
   "execution_count": null,
   "id": "66d5727d",
   "metadata": {},
   "outputs": [],
   "source": [
    "def binary_search(word):\n",
    "    all_words = [line.strip().lower() for line in open('/Users/joshua/Downloads/wordlist.txt')]\n",
    "    if word[0] < \"m\":\n",
    "        if word in all_words[:len(all_words)//2]:\n",
    "            return (True)\n",
    "        else:\n",
    "            return (False)\n",
    "        \n",
    "    if word[0] > \"m\":\n",
    "        if word in all_words[len(all_words)//2:len(all_words)]:\n",
    "            return (True)\n",
    "        else:\n",
    "            return (False)\n",
    "\n",
    "w = input(\"Enter a word: \")\n",
    "print(f\"Is the entered word in the list? {binary_search(w)}\")"
   ]
  },
  {
   "cell_type": "markdown",
   "id": "293e0227",
   "metadata": {},
   "source": [
    "22. A Tic-tac-toe board can be represented be a 3×3 two-dimensional list, where zeroes stand for\n",
    "empty cells, ones stand for X’s and twos stand for O’s. $\\newline$\n",
    "(a) Write a function that is given such a list and randomly chooses a spot in which to place\n",
    "a 2. The spot chosen must currently be a 0 and a spot must be chosen.$\\newline$\n",
    "(b) Write a function that is given such a list and checks to see if someone has won. Return\n",
    "True if there is a winner and False otherwise."
   ]
  },
  {
   "cell_type": "code",
   "execution_count": null,
   "id": "3c922abf",
   "metadata": {
    "scrolled": true
   },
   "outputs": [],
   "source": [
    "from random import randint\n",
    "import pandas as pd\n",
    "def choice():\n",
    "    while True:\n",
    "        x = randint(0, 2)\n",
    "        y = randint(0, 2)\n",
    "        lists2 = [j for item in lists for j in item]\n",
    "        if lists2.count(0) == 0:\n",
    "            break\n",
    "        else:\n",
    "            if lists[x][y] == 0:\n",
    "                lists[x][y] = 2\n",
    "                break\n",
    "        \n",
    "def game_over():\n",
    "    diagonal = [[lists[i][i] for i in range(3)]] + [[lists[0][2], lists[1][1], lists[2][0]]]\n",
    "    reverse = [[lists[i][j] for i in range(3)] for j in range(3)]\n",
    "    game_over = 0\n",
    "    for i in range(3):\n",
    "        if lists[i] == [\"X\", \"X\", \"X\"] or reverse[i] == [\"X\", \"X\", \"X\"]:\n",
    "            game_over = 1\n",
    "            \n",
    "        elif lists[i] == [2, 2, 2] or reverse[i] == [2, 2, 2]:\n",
    "            game_over = 2\n",
    "            \n",
    "    for i in range(2):\n",
    "        if diagonal[i] == [\"X\", \"X\", \"X\"]:\n",
    "            game_over = 1\n",
    "        elif diagonal[i] == [2, 2, 2]:\n",
    "            game_over = 2\n",
    "            \n",
    "    return (game_over)\n",
    "\n",
    "def pick():\n",
    "    while True:\n",
    "        r = eval(input(\"Enter the row number: \"))\n",
    "        c = eval(input(\"Enter the column number: \"))\n",
    "        if lists[r][c] == 0:\n",
    "            lists[r][c] = \"X\"\n",
    "            break\n",
    "        else:\n",
    "            print(\"The coordinate has already chosen.\")\n",
    "            \n",
    "def check():\n",
    "    lists2 = [j for item in lists for j in item]\n",
    "    if lists2.count(0) == 0:\n",
    "        game_over = 3\n",
    "        return(game_over)"
   ]
  },
  {
   "cell_type": "code",
   "execution_count": null,
   "id": "8f297b00",
   "metadata": {
    "scrolled": false
   },
   "outputs": [],
   "source": [
    "import pandas as pd\n",
    "lists = [[0]*3 for i in range(3)]\n",
    "while True:\n",
    "    pick()\n",
    "    choice()\n",
    "    row_col = [\"\"]*3\n",
    "    df = pd.DataFrame(lists)\n",
    "    df.columns = row_col\n",
    "    df.index = row_col\n",
    "    print(df)\n",
    "    if game_over() == 1:\n",
    "        print(\"\\nPlayer 1 Wins.\")\n",
    "        break\n",
    "    elif game_over() == 2:\n",
    "        print(\"\\nPlayer 2 Wins.\")\n",
    "        break\n",
    "    elif check() == 3:\n",
    "        print(\"\\nGame Over. Tie.\")\n",
    "        break"
   ]
  }
 ],
 "metadata": {
  "kernelspec": {
   "display_name": "Python 3 (ipykernel)",
   "language": "python",
   "name": "python3"
  },
  "language_info": {
   "codemirror_mode": {
    "name": "ipython",
    "version": 3
   },
   "file_extension": ".py",
   "mimetype": "text/x-python",
   "name": "python",
   "nbconvert_exporter": "python",
   "pygments_lexer": "ipython3",
   "version": "3.9.7"
  }
 },
 "nbformat": 4,
 "nbformat_minor": 5
}
