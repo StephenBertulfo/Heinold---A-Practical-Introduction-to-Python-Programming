{
 "cells": [
  {
   "cell_type": "markdown",
   "id": "20a0498d",
   "metadata": {},
   "source": [
    "# Exercises"
   ]
  },
  {
   "cell_type": "markdown",
   "id": "c302c05d",
   "metadata": {},
   "source": [
    "1. Write a program that prints your name 100 times"
   ]
  },
  {
   "cell_type": "code",
   "execution_count": null,
   "id": "c6a81c2d",
   "metadata": {
    "scrolled": true
   },
   "outputs": [],
   "source": [
    "for i in range(100):\n",
    "    print(\"Stephen Joshua Bertulfo\")"
   ]
  },
  {
   "cell_type": "markdown",
   "id": "cf87e0f5",
   "metadata": {},
   "source": [
    "2. Write a program to fill the screen horizontally and vertically with your name. [Hint: add the\n",
    "option end='' into the print function to fill the screen horizontally.]"
   ]
  },
  {
   "cell_type": "code",
   "execution_count": null,
   "id": "ccc303f7",
   "metadata": {
    "scrolled": true
   },
   "outputs": [],
   "source": [
    "for i in range(100):\n",
    "    for j in range(3):\n",
    "        print(\"Stephen Joshua Bertulfo\", end = \" \")\n",
    "    print(\"\")"
   ]
  },
  {
   "cell_type": "markdown",
   "id": "7dace8e5",
   "metadata": {},
   "source": [
    "3. Write a program that outputs 100 lines, numbered 1 to 100, each with your name on it. The output should look like the output below."
   ]
  },
  {
   "cell_type": "code",
   "execution_count": null,
   "id": "d96fd59e",
   "metadata": {
    "scrolled": true
   },
   "outputs": [],
   "source": [
    "for i in range(100):\n",
    "    i=i+1\n",
    "    print(i, \"Stephen Joshua Bertulfo\")"
   ]
  },
  {
   "cell_type": "markdown",
   "id": "2157c781",
   "metadata": {},
   "source": [
    "4. Write a program that prints out a list of the integers from 1 to 20 and their squares. The output\n",
    "should look like this:"
   ]
  },
  {
   "cell_type": "code",
   "execution_count": null,
   "id": "f676edc4",
   "metadata": {
    "scrolled": true
   },
   "outputs": [],
   "source": [
    "for i in range(20):\n",
    "    i = i + 1\n",
    "    print(i, \"-\"*3, i**2)"
   ]
  },
  {
   "cell_type": "markdown",
   "id": "72e0cf9e",
   "metadata": {},
   "source": [
    "5. Write a program that uses a for loop to print the numbers 8, 11, 14, 17, 20, . . . , 83, 86, 89."
   ]
  },
  {
   "cell_type": "code",
   "execution_count": null,
   "id": "3e8c92b3",
   "metadata": {
    "scrolled": true
   },
   "outputs": [],
   "source": [
    "for i in range(8, 90, 3):\n",
    "    print(i, end = \",\")"
   ]
  },
  {
   "cell_type": "markdown",
   "id": "4a0cf621",
   "metadata": {},
   "source": [
    "6. Write a program that uses a for loop to print the numbers 100, 98, 96, . . . , 4, 2"
   ]
  },
  {
   "cell_type": "code",
   "execution_count": null,
   "id": "7ef77ac8",
   "metadata": {
    "scrolled": true
   },
   "outputs": [],
   "source": [
    "for i in range(100, 1, -2):\n",
    "    print(i, end = \",\")"
   ]
  },
  {
   "cell_type": "markdown",
   "id": "5b67e24a",
   "metadata": {},
   "source": [
    "7. Write a program that uses exactly four for loops to print the sequence of letters below."
   ]
  },
  {
   "cell_type": "code",
   "execution_count": null,
   "id": "d002d446",
   "metadata": {},
   "outputs": [],
   "source": [
    "for i in range(10):\n",
    "    print(\"A\", end = '')\n",
    "for i in range(7):\n",
    "    print(\"B\", end = '')\n",
    "for i in range(4):\n",
    "    print(\"CD\", end = '')\n",
    "print(\"E\", end = '')\n",
    "for i in range(6):\n",
    "    print(\"F\", end = '')\n",
    "print(\"G\")"
   ]
  },
  {
   "cell_type": "markdown",
   "id": "526ad2d2",
   "metadata": {},
   "source": [
    "8. Write a program that asks the user for their name and how many times to print it. The program should print out the user’s name the specified number of times."
   ]
  },
  {
   "cell_type": "code",
   "execution_count": null,
   "id": "5b845dad",
   "metadata": {
    "scrolled": true
   },
   "outputs": [],
   "source": [
    "name = input(\"Enter your name: \")\n",
    "loop = eval(input(\"Enter how many times do you want to loop your name: \"))\n",
    "\n",
    "for i in range(loop):\n",
    "    print(name)"
   ]
  },
  {
   "cell_type": "markdown",
   "id": "634cf3d4",
   "metadata": {},
   "source": [
    "9. The Fibonacci numbers are the sequence below, where the first two numbers are 1, and each number thereafter is the sum of the two preceding numbers. Write a program that asks the user how many Fibonacci numbers to print and then prints that many"
   ]
  },
  {
   "cell_type": "code",
   "execution_count": null,
   "id": "17cb1bf8",
   "metadata": {
    "scrolled": true
   },
   "outputs": [],
   "source": [
    "x=1\n",
    "y=1\n",
    "print(x,y, sep = \",\", end = \",\")\n",
    "for i in range(30):\n",
    "    z = x + y\n",
    "    x = y\n",
    "    y = z\n",
    "    print(z, end = \",\")\n",
    "print(\"...\")"
   ]
  },
  {
   "cell_type": "markdown",
   "id": "34f5a038",
   "metadata": {},
   "source": [
    "10. Use a for loop to print a box like the one below. Allow the user to specify how wide and how high the box should be. [Hint: print('*'*10) prints ten asterisks.]"
   ]
  },
  {
   "cell_type": "code",
   "execution_count": null,
   "id": "006ef229",
   "metadata": {
    "scrolled": true
   },
   "outputs": [],
   "source": [
    "wide = eval(input(\"Enter how many wide do you want the box should be: \"))\n",
    "high = eval(input(\"Enter how many high do you want the box should be: \"))\n",
    "for i in range(high):\n",
    "    print(\"*\"*wide)"
   ]
  },
  {
   "cell_type": "markdown",
   "id": "0122fc78",
   "metadata": {},
   "source": [
    "11. Use a for loop to print a box like the one below. Allow the user to specify how wide and how\n",
    "high the box should be."
   ]
  },
  {
   "cell_type": "code",
   "execution_count": null,
   "id": "e453feaa",
   "metadata": {
    "scrolled": true
   },
   "outputs": [],
   "source": [
    "wide = eval(input(\"Enter how many wide do you want the box should be: \"))\n",
    "high = eval(input(\"Enter how many high do you want the box should be: \"))\n",
    "print(\"*\"*wide)\n",
    "for i in range(high-2):\n",
    "    print(\"*\", \" \"*(wide-2),\"*\", sep = \"\")\n",
    "print(\"*\"*wide)"
   ]
  },
  {
   "cell_type": "markdown",
   "id": "9cad4ecf",
   "metadata": {},
   "source": [
    "12. Use a for loop to print a triangle like the one below. Allow the user to specify how high the triangle should be."
   ]
  },
  {
   "cell_type": "code",
   "execution_count": null,
   "id": "e8865e5c",
   "metadata": {
    "scrolled": true
   },
   "outputs": [],
   "source": [
    "high = eval(input(\"Enter how many high do you want the triangle should be: \"))\n",
    "for i in range(high):\n",
    "    i = i + 1\n",
    "    print(\"*\"*i)"
   ]
  },
  {
   "cell_type": "markdown",
   "id": "89d92a8c",
   "metadata": {},
   "source": [
    "13. Use a for loop to print an upside down triangle like the one below. Allow the user to specify how high the triangle should be."
   ]
  },
  {
   "cell_type": "code",
   "execution_count": null,
   "id": "f07d09f1",
   "metadata": {
    "scrolled": true
   },
   "outputs": [],
   "source": [
    "high = eval(input(\"Enter how many high do you want the triangle should be: \"))\n",
    "for i in range(high, 0, -1):\n",
    "    print(\"*\"*i)"
   ]
  },
  {
   "cell_type": "markdown",
   "id": "51f1c4b3",
   "metadata": {},
   "source": [
    "14. Use for loops to print a diamond like the one below. Allow the user to specify how high the\n",
    "diamond should be"
   ]
  },
  {
   "cell_type": "code",
   "execution_count": null,
   "id": "da88e61b",
   "metadata": {},
   "outputs": [],
   "source": [
    "from math import floor, ceil\n",
    "high = eval(input(\"Enter how many high do you want the diamond should be: \"))\n",
    "floor = floor(high/2)\n",
    "ceil = ceil(high/2)\n",
    "if high%2 == 1:\n",
    "    for i in range(1,ceil+1):\n",
    "        print(\" \"*(ceil-i), \"*\"*(i*2-1))\n",
    "    for i in range(floor,0,-1):\n",
    "        print(\" \"*(floor-i+1), \"*\"*(i*2-1))\n",
    "if high%2 == 0:\n",
    "    for i in range(1,ceil+1):\n",
    "        print(\" \"*(ceil-i), \"*\"*(i*2-1))\n",
    "    for i in range(floor,0,-1):\n",
    "        print(\" \"*(floor-i), \"*\"*(i*2-1))"
   ]
  },
  {
   "cell_type": "markdown",
   "id": "00c53425",
   "metadata": {},
   "source": [
    "15. Write a program that prints a giant letter A like the one below. Allow the user to specify how\n",
    "large the letter should be."
   ]
  },
  {
   "cell_type": "code",
   "execution_count": null,
   "id": "dbe46a9a",
   "metadata": {},
   "outputs": [],
   "source": [
    "from math import floor, ceil\n",
    "large = eval(input(\"Enter how many large do you want the letter should be(should be odd number): \"))\n",
    "half = floor(large/2)\n",
    "print(\" \"*(large-1),\"*\", sep = \"\")\n",
    "for i in range(1,half):\n",
    "    print(\" \"*(large-i-1),\"*\",\" \"*(2*i-1),\"*\", sep = \"\")\n",
    "print(\" \"*(large-half-2), \"*\"*large)\n",
    "for i in range(1,half+1):\n",
    "    print(\" \"*(large-i-1-half),\"*\", \" \"*(large+i*2-2), \"*\", sep = \"\")"
   ]
  }
 ],
 "metadata": {
  "kernelspec": {
   "display_name": "Python 3 (ipykernel)",
   "language": "python",
   "name": "python3"
  },
  "language_info": {
   "codemirror_mode": {
    "name": "ipython",
    "version": 3
   },
   "file_extension": ".py",
   "mimetype": "text/x-python",
   "name": "python",
   "nbconvert_exporter": "python",
   "pygments_lexer": "ipython3",
   "version": "3.9.7"
  }
 },
 "nbformat": 4,
 "nbformat_minor": 5
}
