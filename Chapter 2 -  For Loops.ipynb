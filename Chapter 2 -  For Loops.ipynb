{
 "cells": [
  {
   "cell_type": "markdown",
   "id": "20a0498d",
   "metadata": {},
   "source": [
    "# Exercises"
   ]
  },
  {
   "cell_type": "markdown",
   "id": "c302c05d",
   "metadata": {},
   "source": [
    "1. Write a program that prints your name 100 times"
   ]
  },
  {
   "cell_type": "code",
   "execution_count": 2,
   "id": "c6a81c2d",
   "metadata": {
    "scrolled": true
   },
   "outputs": [
    {
     "name": "stdout",
     "output_type": "stream",
     "text": [
      "Stephen Joshua Bertulfo\n",
      "Stephen Joshua Bertulfo\n",
      "Stephen Joshua Bertulfo\n",
      "Stephen Joshua Bertulfo\n",
      "Stephen Joshua Bertulfo\n",
      "Stephen Joshua Bertulfo\n",
      "Stephen Joshua Bertulfo\n",
      "Stephen Joshua Bertulfo\n",
      "Stephen Joshua Bertulfo\n",
      "Stephen Joshua Bertulfo\n",
      "Stephen Joshua Bertulfo\n",
      "Stephen Joshua Bertulfo\n",
      "Stephen Joshua Bertulfo\n",
      "Stephen Joshua Bertulfo\n",
      "Stephen Joshua Bertulfo\n",
      "Stephen Joshua Bertulfo\n",
      "Stephen Joshua Bertulfo\n",
      "Stephen Joshua Bertulfo\n",
      "Stephen Joshua Bertulfo\n",
      "Stephen Joshua Bertulfo\n",
      "Stephen Joshua Bertulfo\n",
      "Stephen Joshua Bertulfo\n",
      "Stephen Joshua Bertulfo\n",
      "Stephen Joshua Bertulfo\n",
      "Stephen Joshua Bertulfo\n",
      "Stephen Joshua Bertulfo\n",
      "Stephen Joshua Bertulfo\n",
      "Stephen Joshua Bertulfo\n",
      "Stephen Joshua Bertulfo\n",
      "Stephen Joshua Bertulfo\n",
      "Stephen Joshua Bertulfo\n",
      "Stephen Joshua Bertulfo\n",
      "Stephen Joshua Bertulfo\n",
      "Stephen Joshua Bertulfo\n",
      "Stephen Joshua Bertulfo\n",
      "Stephen Joshua Bertulfo\n",
      "Stephen Joshua Bertulfo\n",
      "Stephen Joshua Bertulfo\n",
      "Stephen Joshua Bertulfo\n",
      "Stephen Joshua Bertulfo\n",
      "Stephen Joshua Bertulfo\n",
      "Stephen Joshua Bertulfo\n",
      "Stephen Joshua Bertulfo\n",
      "Stephen Joshua Bertulfo\n",
      "Stephen Joshua Bertulfo\n",
      "Stephen Joshua Bertulfo\n",
      "Stephen Joshua Bertulfo\n",
      "Stephen Joshua Bertulfo\n",
      "Stephen Joshua Bertulfo\n",
      "Stephen Joshua Bertulfo\n",
      "Stephen Joshua Bertulfo\n",
      "Stephen Joshua Bertulfo\n",
      "Stephen Joshua Bertulfo\n",
      "Stephen Joshua Bertulfo\n",
      "Stephen Joshua Bertulfo\n",
      "Stephen Joshua Bertulfo\n",
      "Stephen Joshua Bertulfo\n",
      "Stephen Joshua Bertulfo\n",
      "Stephen Joshua Bertulfo\n",
      "Stephen Joshua Bertulfo\n",
      "Stephen Joshua Bertulfo\n",
      "Stephen Joshua Bertulfo\n",
      "Stephen Joshua Bertulfo\n",
      "Stephen Joshua Bertulfo\n",
      "Stephen Joshua Bertulfo\n",
      "Stephen Joshua Bertulfo\n",
      "Stephen Joshua Bertulfo\n",
      "Stephen Joshua Bertulfo\n",
      "Stephen Joshua Bertulfo\n",
      "Stephen Joshua Bertulfo\n",
      "Stephen Joshua Bertulfo\n",
      "Stephen Joshua Bertulfo\n",
      "Stephen Joshua Bertulfo\n",
      "Stephen Joshua Bertulfo\n",
      "Stephen Joshua Bertulfo\n",
      "Stephen Joshua Bertulfo\n",
      "Stephen Joshua Bertulfo\n",
      "Stephen Joshua Bertulfo\n",
      "Stephen Joshua Bertulfo\n",
      "Stephen Joshua Bertulfo\n",
      "Stephen Joshua Bertulfo\n",
      "Stephen Joshua Bertulfo\n",
      "Stephen Joshua Bertulfo\n",
      "Stephen Joshua Bertulfo\n",
      "Stephen Joshua Bertulfo\n",
      "Stephen Joshua Bertulfo\n",
      "Stephen Joshua Bertulfo\n",
      "Stephen Joshua Bertulfo\n",
      "Stephen Joshua Bertulfo\n",
      "Stephen Joshua Bertulfo\n",
      "Stephen Joshua Bertulfo\n",
      "Stephen Joshua Bertulfo\n",
      "Stephen Joshua Bertulfo\n",
      "Stephen Joshua Bertulfo\n",
      "Stephen Joshua Bertulfo\n",
      "Stephen Joshua Bertulfo\n",
      "Stephen Joshua Bertulfo\n",
      "Stephen Joshua Bertulfo\n",
      "Stephen Joshua Bertulfo\n",
      "Stephen Joshua Bertulfo\n"
     ]
    }
   ],
   "source": [
    "for i in range(100):\n",
    "    print(\"Stephen Joshua Bertulfo\")"
   ]
  },
  {
   "cell_type": "markdown",
   "id": "cf87e0f5",
   "metadata": {},
   "source": [
    "2. Write a program to fill the screen horizontally and vertically with your name. [Hint: add the\n",
    "option end='' into the print function to fill the screen horizontally.]"
   ]
  },
  {
   "cell_type": "code",
   "execution_count": 5,
   "id": "ccc303f7",
   "metadata": {
    "scrolled": true
   },
   "outputs": [
    {
     "name": "stdout",
     "output_type": "stream",
     "text": [
      "Stephen Joshua Bertulfo Stephen Joshua Bertulfo Stephen Joshua Bertulfo \n",
      "Stephen Joshua Bertulfo Stephen Joshua Bertulfo Stephen Joshua Bertulfo \n",
      "Stephen Joshua Bertulfo Stephen Joshua Bertulfo Stephen Joshua Bertulfo \n",
      "Stephen Joshua Bertulfo Stephen Joshua Bertulfo Stephen Joshua Bertulfo \n",
      "Stephen Joshua Bertulfo Stephen Joshua Bertulfo Stephen Joshua Bertulfo \n",
      "Stephen Joshua Bertulfo Stephen Joshua Bertulfo Stephen Joshua Bertulfo \n",
      "Stephen Joshua Bertulfo Stephen Joshua Bertulfo Stephen Joshua Bertulfo \n",
      "Stephen Joshua Bertulfo Stephen Joshua Bertulfo Stephen Joshua Bertulfo \n",
      "Stephen Joshua Bertulfo Stephen Joshua Bertulfo Stephen Joshua Bertulfo \n",
      "Stephen Joshua Bertulfo Stephen Joshua Bertulfo Stephen Joshua Bertulfo \n",
      "Stephen Joshua Bertulfo Stephen Joshua Bertulfo Stephen Joshua Bertulfo \n",
      "Stephen Joshua Bertulfo Stephen Joshua Bertulfo Stephen Joshua Bertulfo \n",
      "Stephen Joshua Bertulfo Stephen Joshua Bertulfo Stephen Joshua Bertulfo \n",
      "Stephen Joshua Bertulfo Stephen Joshua Bertulfo Stephen Joshua Bertulfo \n",
      "Stephen Joshua Bertulfo Stephen Joshua Bertulfo Stephen Joshua Bertulfo \n",
      "Stephen Joshua Bertulfo Stephen Joshua Bertulfo Stephen Joshua Bertulfo \n",
      "Stephen Joshua Bertulfo Stephen Joshua Bertulfo Stephen Joshua Bertulfo \n",
      "Stephen Joshua Bertulfo Stephen Joshua Bertulfo Stephen Joshua Bertulfo \n",
      "Stephen Joshua Bertulfo Stephen Joshua Bertulfo Stephen Joshua Bertulfo \n",
      "Stephen Joshua Bertulfo Stephen Joshua Bertulfo Stephen Joshua Bertulfo \n",
      "Stephen Joshua Bertulfo Stephen Joshua Bertulfo Stephen Joshua Bertulfo \n",
      "Stephen Joshua Bertulfo Stephen Joshua Bertulfo Stephen Joshua Bertulfo \n",
      "Stephen Joshua Bertulfo Stephen Joshua Bertulfo Stephen Joshua Bertulfo \n",
      "Stephen Joshua Bertulfo Stephen Joshua Bertulfo Stephen Joshua Bertulfo \n",
      "Stephen Joshua Bertulfo Stephen Joshua Bertulfo Stephen Joshua Bertulfo \n",
      "Stephen Joshua Bertulfo Stephen Joshua Bertulfo Stephen Joshua Bertulfo \n",
      "Stephen Joshua Bertulfo Stephen Joshua Bertulfo Stephen Joshua Bertulfo \n",
      "Stephen Joshua Bertulfo Stephen Joshua Bertulfo Stephen Joshua Bertulfo \n",
      "Stephen Joshua Bertulfo Stephen Joshua Bertulfo Stephen Joshua Bertulfo \n",
      "Stephen Joshua Bertulfo Stephen Joshua Bertulfo Stephen Joshua Bertulfo \n",
      "Stephen Joshua Bertulfo Stephen Joshua Bertulfo Stephen Joshua Bertulfo \n",
      "Stephen Joshua Bertulfo Stephen Joshua Bertulfo Stephen Joshua Bertulfo \n",
      "Stephen Joshua Bertulfo Stephen Joshua Bertulfo Stephen Joshua Bertulfo \n",
      "Stephen Joshua Bertulfo Stephen Joshua Bertulfo Stephen Joshua Bertulfo \n",
      "Stephen Joshua Bertulfo Stephen Joshua Bertulfo Stephen Joshua Bertulfo \n",
      "Stephen Joshua Bertulfo Stephen Joshua Bertulfo Stephen Joshua Bertulfo \n",
      "Stephen Joshua Bertulfo Stephen Joshua Bertulfo Stephen Joshua Bertulfo \n",
      "Stephen Joshua Bertulfo Stephen Joshua Bertulfo Stephen Joshua Bertulfo \n",
      "Stephen Joshua Bertulfo Stephen Joshua Bertulfo Stephen Joshua Bertulfo \n",
      "Stephen Joshua Bertulfo Stephen Joshua Bertulfo Stephen Joshua Bertulfo \n",
      "Stephen Joshua Bertulfo Stephen Joshua Bertulfo Stephen Joshua Bertulfo \n",
      "Stephen Joshua Bertulfo Stephen Joshua Bertulfo Stephen Joshua Bertulfo \n",
      "Stephen Joshua Bertulfo Stephen Joshua Bertulfo Stephen Joshua Bertulfo \n",
      "Stephen Joshua Bertulfo Stephen Joshua Bertulfo Stephen Joshua Bertulfo \n",
      "Stephen Joshua Bertulfo Stephen Joshua Bertulfo Stephen Joshua Bertulfo \n",
      "Stephen Joshua Bertulfo Stephen Joshua Bertulfo Stephen Joshua Bertulfo \n",
      "Stephen Joshua Bertulfo Stephen Joshua Bertulfo Stephen Joshua Bertulfo \n",
      "Stephen Joshua Bertulfo Stephen Joshua Bertulfo Stephen Joshua Bertulfo \n",
      "Stephen Joshua Bertulfo Stephen Joshua Bertulfo Stephen Joshua Bertulfo \n",
      "Stephen Joshua Bertulfo Stephen Joshua Bertulfo Stephen Joshua Bertulfo \n",
      "Stephen Joshua Bertulfo Stephen Joshua Bertulfo Stephen Joshua Bertulfo \n",
      "Stephen Joshua Bertulfo Stephen Joshua Bertulfo Stephen Joshua Bertulfo \n",
      "Stephen Joshua Bertulfo Stephen Joshua Bertulfo Stephen Joshua Bertulfo \n",
      "Stephen Joshua Bertulfo Stephen Joshua Bertulfo Stephen Joshua Bertulfo \n",
      "Stephen Joshua Bertulfo Stephen Joshua Bertulfo Stephen Joshua Bertulfo \n",
      "Stephen Joshua Bertulfo Stephen Joshua Bertulfo Stephen Joshua Bertulfo \n",
      "Stephen Joshua Bertulfo Stephen Joshua Bertulfo Stephen Joshua Bertulfo \n",
      "Stephen Joshua Bertulfo Stephen Joshua Bertulfo Stephen Joshua Bertulfo \n",
      "Stephen Joshua Bertulfo Stephen Joshua Bertulfo Stephen Joshua Bertulfo \n",
      "Stephen Joshua Bertulfo Stephen Joshua Bertulfo Stephen Joshua Bertulfo \n",
      "Stephen Joshua Bertulfo Stephen Joshua Bertulfo Stephen Joshua Bertulfo \n",
      "Stephen Joshua Bertulfo Stephen Joshua Bertulfo Stephen Joshua Bertulfo \n",
      "Stephen Joshua Bertulfo Stephen Joshua Bertulfo Stephen Joshua Bertulfo \n",
      "Stephen Joshua Bertulfo Stephen Joshua Bertulfo Stephen Joshua Bertulfo \n",
      "Stephen Joshua Bertulfo Stephen Joshua Bertulfo Stephen Joshua Bertulfo \n",
      "Stephen Joshua Bertulfo Stephen Joshua Bertulfo Stephen Joshua Bertulfo \n",
      "Stephen Joshua Bertulfo Stephen Joshua Bertulfo Stephen Joshua Bertulfo \n",
      "Stephen Joshua Bertulfo Stephen Joshua Bertulfo Stephen Joshua Bertulfo \n",
      "Stephen Joshua Bertulfo Stephen Joshua Bertulfo Stephen Joshua Bertulfo \n",
      "Stephen Joshua Bertulfo Stephen Joshua Bertulfo Stephen Joshua Bertulfo \n",
      "Stephen Joshua Bertulfo Stephen Joshua Bertulfo Stephen Joshua Bertulfo \n",
      "Stephen Joshua Bertulfo Stephen Joshua Bertulfo Stephen Joshua Bertulfo \n",
      "Stephen Joshua Bertulfo Stephen Joshua Bertulfo Stephen Joshua Bertulfo \n",
      "Stephen Joshua Bertulfo Stephen Joshua Bertulfo Stephen Joshua Bertulfo \n",
      "Stephen Joshua Bertulfo Stephen Joshua Bertulfo Stephen Joshua Bertulfo \n",
      "Stephen Joshua Bertulfo Stephen Joshua Bertulfo Stephen Joshua Bertulfo \n",
      "Stephen Joshua Bertulfo Stephen Joshua Bertulfo Stephen Joshua Bertulfo \n",
      "Stephen Joshua Bertulfo Stephen Joshua Bertulfo Stephen Joshua Bertulfo \n",
      "Stephen Joshua Bertulfo Stephen Joshua Bertulfo Stephen Joshua Bertulfo \n",
      "Stephen Joshua Bertulfo Stephen Joshua Bertulfo Stephen Joshua Bertulfo \n",
      "Stephen Joshua Bertulfo Stephen Joshua Bertulfo Stephen Joshua Bertulfo \n",
      "Stephen Joshua Bertulfo Stephen Joshua Bertulfo Stephen Joshua Bertulfo \n",
      "Stephen Joshua Bertulfo Stephen Joshua Bertulfo Stephen Joshua Bertulfo \n",
      "Stephen Joshua Bertulfo Stephen Joshua Bertulfo Stephen Joshua Bertulfo \n",
      "Stephen Joshua Bertulfo Stephen Joshua Bertulfo Stephen Joshua Bertulfo \n",
      "Stephen Joshua Bertulfo Stephen Joshua Bertulfo Stephen Joshua Bertulfo \n",
      "Stephen Joshua Bertulfo Stephen Joshua Bertulfo Stephen Joshua Bertulfo \n",
      "Stephen Joshua Bertulfo Stephen Joshua Bertulfo Stephen Joshua Bertulfo \n",
      "Stephen Joshua Bertulfo Stephen Joshua Bertulfo Stephen Joshua Bertulfo \n",
      "Stephen Joshua Bertulfo Stephen Joshua Bertulfo Stephen Joshua Bertulfo \n",
      "Stephen Joshua Bertulfo Stephen Joshua Bertulfo Stephen Joshua Bertulfo \n",
      "Stephen Joshua Bertulfo Stephen Joshua Bertulfo Stephen Joshua Bertulfo \n",
      "Stephen Joshua Bertulfo Stephen Joshua Bertulfo Stephen Joshua Bertulfo \n",
      "Stephen Joshua Bertulfo Stephen Joshua Bertulfo Stephen Joshua Bertulfo \n",
      "Stephen Joshua Bertulfo Stephen Joshua Bertulfo Stephen Joshua Bertulfo \n",
      "Stephen Joshua Bertulfo Stephen Joshua Bertulfo Stephen Joshua Bertulfo \n",
      "Stephen Joshua Bertulfo Stephen Joshua Bertulfo Stephen Joshua Bertulfo \n",
      "Stephen Joshua Bertulfo Stephen Joshua Bertulfo Stephen Joshua Bertulfo \n",
      "Stephen Joshua Bertulfo Stephen Joshua Bertulfo Stephen Joshua Bertulfo \n",
      "Stephen Joshua Bertulfo Stephen Joshua Bertulfo Stephen Joshua Bertulfo \n"
     ]
    }
   ],
   "source": [
    "for i in range(100):\n",
    "    for j in range(3):\n",
    "        print(\"Stephen Joshua Bertulfo\", end = \" \")\n",
    "    print(\"\")"
   ]
  },
  {
   "cell_type": "markdown",
   "id": "7dace8e5",
   "metadata": {},
   "source": [
    "3. Write a program that outputs 100 lines, numbered 1 to 100, each with your name on it. The output should look like the output below."
   ]
  },
  {
   "cell_type": "code",
   "execution_count": 7,
   "id": "d96fd59e",
   "metadata": {
    "scrolled": true
   },
   "outputs": [
    {
     "name": "stdout",
     "output_type": "stream",
     "text": [
      "1 Stephen Joshua Bertulfo\n",
      "2 Stephen Joshua Bertulfo\n",
      "3 Stephen Joshua Bertulfo\n",
      "4 Stephen Joshua Bertulfo\n",
      "5 Stephen Joshua Bertulfo\n",
      "6 Stephen Joshua Bertulfo\n",
      "7 Stephen Joshua Bertulfo\n",
      "8 Stephen Joshua Bertulfo\n",
      "9 Stephen Joshua Bertulfo\n",
      "10 Stephen Joshua Bertulfo\n",
      "11 Stephen Joshua Bertulfo\n",
      "12 Stephen Joshua Bertulfo\n",
      "13 Stephen Joshua Bertulfo\n",
      "14 Stephen Joshua Bertulfo\n",
      "15 Stephen Joshua Bertulfo\n",
      "16 Stephen Joshua Bertulfo\n",
      "17 Stephen Joshua Bertulfo\n",
      "18 Stephen Joshua Bertulfo\n",
      "19 Stephen Joshua Bertulfo\n",
      "20 Stephen Joshua Bertulfo\n",
      "21 Stephen Joshua Bertulfo\n",
      "22 Stephen Joshua Bertulfo\n",
      "23 Stephen Joshua Bertulfo\n",
      "24 Stephen Joshua Bertulfo\n",
      "25 Stephen Joshua Bertulfo\n",
      "26 Stephen Joshua Bertulfo\n",
      "27 Stephen Joshua Bertulfo\n",
      "28 Stephen Joshua Bertulfo\n",
      "29 Stephen Joshua Bertulfo\n",
      "30 Stephen Joshua Bertulfo\n",
      "31 Stephen Joshua Bertulfo\n",
      "32 Stephen Joshua Bertulfo\n",
      "33 Stephen Joshua Bertulfo\n",
      "34 Stephen Joshua Bertulfo\n",
      "35 Stephen Joshua Bertulfo\n",
      "36 Stephen Joshua Bertulfo\n",
      "37 Stephen Joshua Bertulfo\n",
      "38 Stephen Joshua Bertulfo\n",
      "39 Stephen Joshua Bertulfo\n",
      "40 Stephen Joshua Bertulfo\n",
      "41 Stephen Joshua Bertulfo\n",
      "42 Stephen Joshua Bertulfo\n",
      "43 Stephen Joshua Bertulfo\n",
      "44 Stephen Joshua Bertulfo\n",
      "45 Stephen Joshua Bertulfo\n",
      "46 Stephen Joshua Bertulfo\n",
      "47 Stephen Joshua Bertulfo\n",
      "48 Stephen Joshua Bertulfo\n",
      "49 Stephen Joshua Bertulfo\n",
      "50 Stephen Joshua Bertulfo\n",
      "51 Stephen Joshua Bertulfo\n",
      "52 Stephen Joshua Bertulfo\n",
      "53 Stephen Joshua Bertulfo\n",
      "54 Stephen Joshua Bertulfo\n",
      "55 Stephen Joshua Bertulfo\n",
      "56 Stephen Joshua Bertulfo\n",
      "57 Stephen Joshua Bertulfo\n",
      "58 Stephen Joshua Bertulfo\n",
      "59 Stephen Joshua Bertulfo\n",
      "60 Stephen Joshua Bertulfo\n",
      "61 Stephen Joshua Bertulfo\n",
      "62 Stephen Joshua Bertulfo\n",
      "63 Stephen Joshua Bertulfo\n",
      "64 Stephen Joshua Bertulfo\n",
      "65 Stephen Joshua Bertulfo\n",
      "66 Stephen Joshua Bertulfo\n",
      "67 Stephen Joshua Bertulfo\n",
      "68 Stephen Joshua Bertulfo\n",
      "69 Stephen Joshua Bertulfo\n",
      "70 Stephen Joshua Bertulfo\n",
      "71 Stephen Joshua Bertulfo\n",
      "72 Stephen Joshua Bertulfo\n",
      "73 Stephen Joshua Bertulfo\n",
      "74 Stephen Joshua Bertulfo\n",
      "75 Stephen Joshua Bertulfo\n",
      "76 Stephen Joshua Bertulfo\n",
      "77 Stephen Joshua Bertulfo\n",
      "78 Stephen Joshua Bertulfo\n",
      "79 Stephen Joshua Bertulfo\n",
      "80 Stephen Joshua Bertulfo\n",
      "81 Stephen Joshua Bertulfo\n",
      "82 Stephen Joshua Bertulfo\n",
      "83 Stephen Joshua Bertulfo\n",
      "84 Stephen Joshua Bertulfo\n",
      "85 Stephen Joshua Bertulfo\n",
      "86 Stephen Joshua Bertulfo\n",
      "87 Stephen Joshua Bertulfo\n",
      "88 Stephen Joshua Bertulfo\n",
      "89 Stephen Joshua Bertulfo\n",
      "90 Stephen Joshua Bertulfo\n",
      "91 Stephen Joshua Bertulfo\n",
      "92 Stephen Joshua Bertulfo\n",
      "93 Stephen Joshua Bertulfo\n",
      "94 Stephen Joshua Bertulfo\n",
      "95 Stephen Joshua Bertulfo\n",
      "96 Stephen Joshua Bertulfo\n",
      "97 Stephen Joshua Bertulfo\n",
      "98 Stephen Joshua Bertulfo\n",
      "99 Stephen Joshua Bertulfo\n",
      "100 Stephen Joshua Bertulfo\n"
     ]
    }
   ],
   "source": [
    "for i in range(100):\n",
    "    i=i+1\n",
    "    print(i, \"Stephen Joshua Bertulfo\")"
   ]
  },
  {
   "cell_type": "markdown",
   "id": "2157c781",
   "metadata": {},
   "source": [
    "4. Write a program that prints out a list of the integers from 1 to 20 and their squares. The output\n",
    "should look like this:"
   ]
  },
  {
   "cell_type": "code",
   "execution_count": 8,
   "id": "f676edc4",
   "metadata": {
    "scrolled": true
   },
   "outputs": [
    {
     "name": "stdout",
     "output_type": "stream",
     "text": [
      "1 --- 1\n",
      "2 --- 4\n",
      "3 --- 9\n",
      "4 --- 16\n",
      "5 --- 25\n",
      "6 --- 36\n",
      "7 --- 49\n",
      "8 --- 64\n",
      "9 --- 81\n",
      "10 --- 100\n",
      "11 --- 121\n",
      "12 --- 144\n",
      "13 --- 169\n",
      "14 --- 196\n",
      "15 --- 225\n",
      "16 --- 256\n",
      "17 --- 289\n",
      "18 --- 324\n",
      "19 --- 361\n",
      "20 --- 400\n"
     ]
    }
   ],
   "source": [
    "for i in range(20):\n",
    "    i = i + 1\n",
    "    print(i, \"-\"*3, i**2)"
   ]
  },
  {
   "cell_type": "markdown",
   "id": "72e0cf9e",
   "metadata": {},
   "source": [
    "5. Write a program that uses a for loop to print the numbers 8, 11, 14, 17, 20, . . . , 83, 86, 89."
   ]
  },
  {
   "cell_type": "code",
   "execution_count": 14,
   "id": "3e8c92b3",
   "metadata": {
    "scrolled": true
   },
   "outputs": [
    {
     "name": "stdout",
     "output_type": "stream",
     "text": [
      "8,11,14,17,20,23,26,29,32,35,38,41,44,47,50,53,56,59,62,65,68,71,74,77,80,83,86,89,"
     ]
    }
   ],
   "source": [
    "for i in range(8, 90, 3):\n",
    "    print(i, end = \",\")"
   ]
  },
  {
   "cell_type": "markdown",
   "id": "4a0cf621",
   "metadata": {},
   "source": [
    "6. Write a program that uses a for loop to print the numbers 100, 98, 96, . . . , 4, 2"
   ]
  },
  {
   "cell_type": "code",
   "execution_count": 15,
   "id": "7ef77ac8",
   "metadata": {
    "scrolled": true
   },
   "outputs": [
    {
     "name": "stdout",
     "output_type": "stream",
     "text": [
      "100,98,96,94,92,90,88,86,84,82,80,78,76,74,72,70,68,66,64,62,60,58,56,54,52,50,48,46,44,42,40,38,36,34,32,30,28,26,24,22,20,18,16,14,12,10,8,6,4,2,"
     ]
    }
   ],
   "source": [
    "for i in range(100, 1, -2):\n",
    "    print(i, end = \",\")"
   ]
  },
  {
   "cell_type": "markdown",
   "id": "5b67e24a",
   "metadata": {},
   "source": [
    "7. Write a program that uses exactly four for loops to print the sequence of letters below."
   ]
  },
  {
   "cell_type": "code",
   "execution_count": 16,
   "id": "d002d446",
   "metadata": {},
   "outputs": [
    {
     "name": "stdout",
     "output_type": "stream",
     "text": [
      "AAAAAAAAAABBBBBBBCDCDCDCDEFFFFFFG\n"
     ]
    }
   ],
   "source": [
    "for i in range(10):\n",
    "    print(\"A\", end = '')\n",
    "for i in range(7):\n",
    "    print(\"B\", end = '')\n",
    "for i in range(4):\n",
    "    print(\"CD\", end = '')\n",
    "print(\"E\", end = '')\n",
    "for i in range(6):\n",
    "    print(\"F\", end = '')\n",
    "print(\"G\")"
   ]
  },
  {
   "cell_type": "markdown",
   "id": "526ad2d2",
   "metadata": {},
   "source": [
    "8. Write a program that asks the user for their name and how many times to print it. The program should print out the user’s name the specified number of times."
   ]
  },
  {
   "cell_type": "code",
   "execution_count": 18,
   "id": "5b845dad",
   "metadata": {
    "scrolled": true
   },
   "outputs": [
    {
     "name": "stdout",
     "output_type": "stream",
     "text": [
      "Enter your name: Stephen\n",
      "Enter how many times do you want to loop your name: 5\n",
      "Stephen\n",
      "Stephen\n",
      "Stephen\n",
      "Stephen\n",
      "Stephen\n"
     ]
    }
   ],
   "source": [
    "name = input(\"Enter your name: \")\n",
    "loop = eval(input(\"Enter how many times do you want to loop your name: \"))\n",
    "\n",
    "for i in range(loop):\n",
    "    print(name)"
   ]
  },
  {
   "cell_type": "markdown",
   "id": "634cf3d4",
   "metadata": {},
   "source": [
    "9. The Fibonacci numbers are the sequence below, where the first two numbers are 1, and each number thereafter is the sum of the two preceding numbers. Write a program that asks the user how many Fibonacci numbers to print and then prints that many"
   ]
  },
  {
   "cell_type": "code",
   "execution_count": 23,
   "id": "17cb1bf8",
   "metadata": {
    "scrolled": true
   },
   "outputs": [
    {
     "name": "stdout",
     "output_type": "stream",
     "text": [
      "1,1,2,3,5,8,13,21,34,55,89,144,233,377,610,987,1597,2584,4181,6765,10946,17711,28657,46368,75025,121393,196418,317811,514229,832040,1346269,2178309,...\n"
     ]
    }
   ],
   "source": [
    "x=1\n",
    "y=1\n",
    "print(x,y, sep = \",\", end = \",\")\n",
    "for i in range(30):\n",
    "    z = x + y\n",
    "    x = y\n",
    "    y = z\n",
    "    print(z, end = \",\")\n",
    "print(\"...\")"
   ]
  },
  {
   "cell_type": "markdown",
   "id": "34f5a038",
   "metadata": {},
   "source": [
    "10. Use a for loop to print a box like the one below. Allow the user to specify how wide and how high the box should be. [Hint: print('*'*10) prints ten asterisks.]"
   ]
  },
  {
   "cell_type": "code",
   "execution_count": 27,
   "id": "006ef229",
   "metadata": {
    "scrolled": true
   },
   "outputs": [
    {
     "name": "stdout",
     "output_type": "stream",
     "text": [
      "Enter how many wide do you want the box should be: 20\n",
      "Enter how many high do you want the box should be: 4\n",
      "********************\n",
      "********************\n",
      "********************\n",
      "********************\n"
     ]
    }
   ],
   "source": [
    "wide = eval(input(\"Enter how many wide do you want the box should be: \"))\n",
    "high = eval(input(\"Enter how many high do you want the box should be: \"))\n",
    "for i in range(high):\n",
    "    print(\"*\"*wide)"
   ]
  },
  {
   "cell_type": "markdown",
   "id": "0122fc78",
   "metadata": {},
   "source": [
    "11. Use a for loop to print a box like the one below. Allow the user to specify how wide and how\n",
    "high the box should be."
   ]
  },
  {
   "cell_type": "code",
   "execution_count": 31,
   "id": "e453feaa",
   "metadata": {
    "scrolled": true
   },
   "outputs": [
    {
     "name": "stdout",
     "output_type": "stream",
     "text": [
      "Enter how many wide do you want the box should be: 20\n",
      "Enter how many high do you want the box should be: 6\n",
      "********************\n",
      "*                  *\n",
      "*                  *\n",
      "*                  *\n",
      "*                  *\n",
      "********************\n"
     ]
    }
   ],
   "source": [
    "wide = eval(input(\"Enter how many wide do you want the box should be: \"))\n",
    "high = eval(input(\"Enter how many high do you want the box should be: \"))\n",
    "print(\"*\"*wide)\n",
    "for i in range(high-2):\n",
    "    print(\"*\", \" \"*(wide-2),\"*\", sep = \"\")\n",
    "print(\"*\"*wide)"
   ]
  },
  {
   "cell_type": "markdown",
   "id": "9cad4ecf",
   "metadata": {},
   "source": [
    "12. Use a for loop to print a triangle like the one below. Allow the user to specify how high the triangle should be."
   ]
  },
  {
   "cell_type": "code",
   "execution_count": 1,
   "id": "e8865e5c",
   "metadata": {
    "scrolled": true
   },
   "outputs": [
    {
     "name": "stdout",
     "output_type": "stream",
     "text": [
      "Enter how many high do you want the triangle should be: 5\n",
      "*\n",
      "**\n",
      "***\n",
      "****\n",
      "*****\n"
     ]
    }
   ],
   "source": [
    "high = eval(input(\"Enter how many high do you want the triangle should be: \"))\n",
    "for i in range(high):\n",
    "    i = i + 1\n",
    "    print(\"*\"*i)"
   ]
  },
  {
   "cell_type": "markdown",
   "id": "89d92a8c",
   "metadata": {},
   "source": [
    "13. Use a for loop to print an upside down triangle like the one below. Allow the user to specify how high the triangle should be."
   ]
  },
  {
   "cell_type": "code",
   "execution_count": 34,
   "id": "f07d09f1",
   "metadata": {
    "scrolled": true
   },
   "outputs": [
    {
     "name": "stdout",
     "output_type": "stream",
     "text": [
      "Enter how many high do you want the triangle should be: 6\n",
      "******\n",
      "*****\n",
      "****\n",
      "***\n",
      "**\n",
      "*\n"
     ]
    }
   ],
   "source": [
    "high = eval(input(\"Enter how many high do you want the triangle should be: \"))\n",
    "for i in range(high, 0, -1):\n",
    "    print(\"*\"*i)"
   ]
  },
  {
   "cell_type": "markdown",
   "id": "51f1c4b3",
   "metadata": {},
   "source": [
    "14. Use for loops to print a diamond like the one below. Allow the user to specify how high the\n",
    "diamond should be"
   ]
  },
  {
   "cell_type": "code",
   "execution_count": 96,
   "id": "da88e61b",
   "metadata": {},
   "outputs": [
    {
     "name": "stdout",
     "output_type": "stream",
     "text": [
      "Enter how many high do you want the diamond should be: 8\n",
      "    *\n",
      "   ***\n",
      "  *****\n",
      " *******\n",
      " *******\n",
      "  *****\n",
      "   ***\n",
      "    *\n"
     ]
    }
   ],
   "source": [
    "from math import floor, ceil\n",
    "high = eval(input(\"Enter how many high do you want the diamond should be: \"))\n",
    "floor = floor(high/2)\n",
    "ceil = ceil(high/2)\n",
    "if high%2 == 1:\n",
    "    for i in range(1,ceil+1):\n",
    "        print(\" \"*(ceil-i), \"*\"*(i*2-1))\n",
    "    for i in range(floor,0,-1):\n",
    "        print(\" \"*(floor-i+1), \"*\"*(i*2-1))\n",
    "if high%2 == 0:\n",
    "    for i in range(1,ceil+1):\n",
    "        print(\" \"*(ceil-i), \"*\"*(i*2-1))\n",
    "    for i in range(floor,0,-1):\n",
    "        print(\" \"*(floor-i), \"*\"*(i*2-1))"
   ]
  },
  {
   "cell_type": "markdown",
   "id": "00c53425",
   "metadata": {},
   "source": [
    "15. Write a program that prints a giant letter A like the one below. Allow the user to specify how\n",
    "large the letter should be."
   ]
  },
  {
   "cell_type": "code",
   "execution_count": 136,
   "id": "dbe46a9a",
   "metadata": {},
   "outputs": [
    {
     "name": "stdout",
     "output_type": "stream",
     "text": [
      "Enter how many large do you want the letter should be(should be odd number): 17\n",
      "                *\n",
      "               * *\n",
      "              *   *\n",
      "             *     *\n",
      "            *       *\n",
      "           *         *\n",
      "          *           *\n",
      "         *             *\n",
      "        *****************\n",
      "       *                 *\n",
      "      *                   *\n",
      "     *                     *\n",
      "    *                       *\n",
      "   *                         *\n",
      "  *                           *\n",
      " *                             *\n",
      "*                               *\n"
     ]
    }
   ],
   "source": [
    "from math import floor, ceil\n",
    "large = eval(input(\"Enter how many large do you want the letter should be(should be odd number): \"))\n",
    "half = floor(large/2)\n",
    "print(\" \"*(large-1),\"*\", sep = \"\")\n",
    "for i in range(1,half):\n",
    "    print(\" \"*(large-i-1),\"*\",\" \"*(2*i-1),\"*\", sep = \"\")\n",
    "print(\" \"*(large-half-2), \"*\"*large)\n",
    "for i in range(1,half+1):\n",
    "    print(\" \"*(large-i-1-half),\"*\", \" \"*(large+i*2-2), \"*\", sep = \"\")"
   ]
  }
 ],
 "metadata": {
  "kernelspec": {
   "display_name": "Python 3 (ipykernel)",
   "language": "python",
   "name": "python3"
  },
  "language_info": {
   "codemirror_mode": {
    "name": "ipython",
    "version": 3
   },
   "file_extension": ".py",
   "mimetype": "text/x-python",
   "name": "python",
   "nbconvert_exporter": "python",
   "pygments_lexer": "ipython3",
   "version": "3.9.7"
  }
 },
 "nbformat": 4,
 "nbformat_minor": 5
}
