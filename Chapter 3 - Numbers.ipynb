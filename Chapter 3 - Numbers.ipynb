{
 "cells": [
  {
   "cell_type": "markdown",
   "id": "14fad06c",
   "metadata": {},
   "source": [
    "# Exercises"
   ]
  },
  {
   "cell_type": "markdown",
   "id": "a68e21ef",
   "metadata": {},
   "source": [
    "1. Write a program that generates and prints 50 random integers, each between 3 and 6"
   ]
  },
  {
   "cell_type": "code",
   "execution_count": null,
   "id": "80608bfe",
   "metadata": {},
   "outputs": [],
   "source": [
    "from random import randint\n",
    "for i in range(50):\n",
    "    int = randint(3,6)\n",
    "    print(int, end = \" \")"
   ]
  },
  {
   "cell_type": "markdown",
   "id": "d8594631",
   "metadata": {},
   "source": [
    "2. Write a program that generates a random number, x, between 1 and 50, a random number y\n",
    "between 2 and 5, and computes $x^y$\n",
    "."
   ]
  },
  {
   "cell_type": "code",
   "execution_count": null,
   "id": "3a562a05",
   "metadata": {},
   "outputs": [],
   "source": [
    "from random import randint \n",
    "x = randint(1,50)\n",
    "y = randint(2,5)\n",
    "print(\"x =\", x)\n",
    "print(\"y =\", y)\n",
    "print(\"x^y =\", x**y)"
   ]
  },
  {
   "cell_type": "markdown",
   "id": "dd212405",
   "metadata": {},
   "source": [
    "3. Write a program that generates a random number between 1 and 10 and prints your name\n",
    "that many times."
   ]
  },
  {
   "cell_type": "code",
   "execution_count": null,
   "id": "d8fb6e5e",
   "metadata": {
    "scrolled": true
   },
   "outputs": [],
   "source": [
    "from random import randint \n",
    "name = input(\"Enter your name: \")\n",
    "rand_n = randint(1,10)\n",
    "print(\"Random number:\", rand_n)\n",
    "for i in range(rand_n):\n",
    "    print(name)"
   ]
  },
  {
   "cell_type": "markdown",
   "id": "7caf57cb",
   "metadata": {},
   "source": [
    "4.  Write a program that generates a random decimal number between 1 and 10 with two decimal\n",
    "places of accuracy. Examples are 1.23, 3.45, 9.80, and 5.00."
   ]
  },
  {
   "cell_type": "code",
   "execution_count": null,
   "id": "fed37c94",
   "metadata": {},
   "outputs": [],
   "source": [
    "from random import randint \n",
    "rand_float = randint(100, 1000)\n",
    "print(\"Random float:\", rand_float/100)"
   ]
  },
  {
   "cell_type": "markdown",
   "id": "e6a8b904",
   "metadata": {},
   "source": [
    "5. Write a program that generates 50 random numbers such that the first number is between 1\n",
    "and 2, the second is between 1 and 3, the third is between 1 and 4, . . . , and the last is between\n",
    "1 and 51."
   ]
  },
  {
   "cell_type": "code",
   "execution_count": null,
   "id": "d8871100",
   "metadata": {
    "scrolled": true
   },
   "outputs": [],
   "source": [
    "for i in range(2,52):\n",
    "    rand_n = randint(1, i)\n",
    "    print(rand_n, end = \" \")"
   ]
  },
  {
   "cell_type": "markdown",
   "id": "c213f942",
   "metadata": {},
   "source": [
    "6. Write a program that asks the user to enter two numbers, x and y, and computes |x−y|\n",
    "x+y."
   ]
  },
  {
   "cell_type": "code",
   "execution_count": null,
   "id": "965b32ac",
   "metadata": {
    "scrolled": true
   },
   "outputs": [],
   "source": [
    "num1 = eval(input(\"Enter a number: \"))\n",
    "num2 = eval(input(\"Enter a another number: \"))\n",
    "form = (abs(num1-num2))/(num1+num2)\n",
    "print(form)"
   ]
  },
  {
   "cell_type": "markdown",
   "id": "c7afed8a",
   "metadata": {},
   "source": [
    "7. Write a program that asks the user to enter an angle between −180◦\n",
    "and 180◦. Using an\n",
    "expression with the modulo operator, convert the angle to its equivalent between 0\n",
    "◦\n",
    "and\n",
    "360◦\n",
    "."
   ]
  },
  {
   "cell_type": "code",
   "execution_count": null,
   "id": "84c3bd16",
   "metadata": {},
   "outputs": [],
   "source": [
    "angle = eval(input(\"Enter an angle between -180 to 180: \"))\n",
    "conv_angle = angle%360\n",
    "print(\"Converted Angle:\", conv_angle)"
   ]
  },
  {
   "cell_type": "markdown",
   "id": "180bd452",
   "metadata": {},
   "source": [
    "8. Write a program that asks the user for a number of seconds and prints out how many minutes\n",
    "and seconds that is. For instance, 200 seconds is 3 minutes and 20 seconds. [Hint: Use the //\n",
    "operator to get minutes and the % operator to get seconds.]"
   ]
  },
  {
   "cell_type": "code",
   "execution_count": null,
   "id": "7ff1392d",
   "metadata": {
    "scrolled": true
   },
   "outputs": [],
   "source": [
    "secs = eval(input(\"Enter how many number of seconds: \"))\n",
    "minutes = secs//60\n",
    "exc_secs = secs%60\n",
    "print(minutes, \"minute/s\", exc_secs, \"second/s\")"
   ]
  },
  {
   "cell_type": "markdown",
   "id": "148e68c2",
   "metadata": {},
   "source": [
    "9. Write a program that asks the user for an hour between 1 and 12 and for how many hours in\n",
    "the future they want to go. Print out what the hour will be that many hours into the future.\n",
    "An example is shown below."
   ]
  },
  {
   "cell_type": "code",
   "execution_count": null,
   "id": "d067fa75",
   "metadata": {
    "scrolled": false
   },
   "outputs": [],
   "source": [
    "hour = eval(input(\"Enter hour: \"))\n",
    "ahead = eval(input(\"How many hours ahead? \"))\n",
    "print(\"New hour:\", (hour+ahead)%12, \"o'clock\")"
   ]
  },
  {
   "cell_type": "markdown",
   "id": "3d5e6c5b",
   "metadata": {},
   "source": [
    "10. A) One way to find out the last digit of a number is to mod the number by 10. Write a\n",
    "program that asks the user to enter a power. Then find the last digit of 2 raised to that\n",
    "power"
   ]
  },
  {
   "cell_type": "code",
   "execution_count": null,
   "id": "690a96a7",
   "metadata": {
    "scrolled": true
   },
   "outputs": [],
   "source": [
    "power = eval(input(\"Enter a power: \"))\n",
    "raised = 2**power\n",
    "last_digit = raised%10\n",
    "print(\"The last digit of 2 raised to\", power, \"is\", last_digit, end = \".\")"
   ]
  },
  {
   "cell_type": "markdown",
   "id": "688b7430",
   "metadata": {},
   "source": [
    "10. B) One way to find out the last two digits of a number is to mod the number by 100. Write\n",
    "a program that asks the user to enter a power. Then find the last two digits of 2 raised to\n",
    "that power."
   ]
  },
  {
   "cell_type": "code",
   "execution_count": null,
   "id": "6a8cc3fa",
   "metadata": {
    "scrolled": true
   },
   "outputs": [],
   "source": [
    "power = eval(input(\"Enter a power: \"))\n",
    "raised = 2**power\n",
    "last_two_digit = raised%100\n",
    "print(\"The last two digits of 2 raised to\", power, \"is\", last_two_digit, end = \".\")"
   ]
  },
  {
   "cell_type": "markdown",
   "id": "538133b3",
   "metadata": {},
   "source": [
    "10. C) Write a program that asks the user to enter a power and how many digits they want.\n",
    "Find the last that many digits of 2 raised to the power the user entered."
   ]
  },
  {
   "cell_type": "code",
   "execution_count": null,
   "id": "f26c8fe4",
   "metadata": {},
   "outputs": [],
   "source": [
    "power = eval(input(\"Enter a power: \"))\n",
    "digits = eval(input(\"Enter how many last digit/s do you want to get: \"))\n",
    "raised = 2**power\n",
    "last_digit = raised%(10**digits)\n",
    "print(\"The last\", digits, \"digit of 2 raised to\", power, \"is\", last_digit, end = \".\")"
   ]
  },
  {
   "cell_type": "markdown",
   "id": "eb2a6d44",
   "metadata": {},
   "source": [
    "11. Write a program that asks the user to enter a weight in kilograms. The program should\n",
    "convert it to pounds, printing the answer rounded to the nearest tenth of a pound."
   ]
  },
  {
   "cell_type": "code",
   "execution_count": null,
   "id": "40164be5",
   "metadata": {},
   "outputs": [],
   "source": [
    "kilo = eval(input(\"Enter a weight in kilograms: \"))\n",
    "pounds = round(kilo*2.20462262185, 1)\n",
    "print(kilo, \"kilo/s =\", pounds, \"pound/s\")"
   ]
  },
  {
   "cell_type": "markdown",
   "id": "19a62d9e",
   "metadata": {},
   "source": [
    "12. Write a program that asks the user for a number and prints out the factorial of that number."
   ]
  },
  {
   "cell_type": "code",
   "execution_count": null,
   "id": "a8e591c2",
   "metadata": {},
   "outputs": [],
   "source": [
    "from math import factorial\n",
    "num = eval(input(\"Enter a number: \"))\n",
    "fact = factorial(num)\n",
    "print(num, \"! = \", fact, sep = \"\")"
   ]
  },
  {
   "cell_type": "markdown",
   "id": "0664297e",
   "metadata": {},
   "source": [
    "13. Write a program that asks the user for a number and then prints out the sine, cosine, and\n",
    "tangent of that number."
   ]
  },
  {
   "cell_type": "code",
   "execution_count": null,
   "id": "c19fa0a4",
   "metadata": {},
   "outputs": [],
   "source": [
    "from math import sin, cos, tan\n",
    "num = eval(input(\"Enter a number: \"))\n",
    "sin = sin(num)\n",
    "cos = cos(num)\n",
    "tan = tan(num)\n",
    "print(\"sin(\", num, \") = \", sin, sep = \"\")\n",
    "print(\"cos(\", num, \") = \", cos, sep = \"\")\n",
    "print(\"tan(\", num, \") = \", tan, sep = \"\")"
   ]
  },
  {
   "cell_type": "markdown",
   "id": "16a1e353",
   "metadata": {},
   "source": [
    "14. Write a program that asks the user to enter an angle in degrees and prints out the sine of that\n",
    "angle.\n"
   ]
  },
  {
   "cell_type": "code",
   "execution_count": null,
   "id": "ea9d6ce2",
   "metadata": {
    "scrolled": true
   },
   "outputs": [],
   "source": [
    "from math import sin, pi\n",
    "num = eval(input(\"Enter an angle in degrees: \"))\n",
    "degrees = num*pi/180\n",
    "sin = sin(degrees)\n",
    "print(\"sin(\", num, \") = \", sin, sep = \"\")"
   ]
  },
  {
   "cell_type": "markdown",
   "id": "3304cafa",
   "metadata": {},
   "source": [
    "15. Write a program that prints out the sine and cosine of the angles ranging from 0 to 345◦\n",
    "in\n",
    "15◦\n",
    "increments. Each result should be rounded to 4 decimal places. Sample output is shown\n",
    "below:"
   ]
  },
  {
   "cell_type": "code",
   "execution_count": null,
   "id": "c1bf4196",
   "metadata": {
    "scrolled": true
   },
   "outputs": [],
   "source": [
    "from math import sin, cos\n",
    "for i in range(0, 346, 15):\n",
    "    degrees = (i*pi)/180\n",
    "    sinx = round(sin(degrees), 4)\n",
    "    cosx = round(cos(degrees), 4)\n",
    "    print(i, \"-\"*3, sinx, cosx)"
   ]
  },
  {
   "cell_type": "markdown",
   "id": "954293b6",
   "metadata": {},
   "source": [
    "16. Below is described how to find the date of Easter in any year. Despite its intimidating appearance, this is not a hard problem. Note that [x] is the floor function, which for positive numbers\n",
    "just drops the decimal part of the number. For instance [3.14] = 3. The floor function is part\n",
    "of the math module.\n",
    "\n",
    "C = century (1900’s → C = 19)\n",
    "\n",
    "Y = year (all four digits)\n",
    "\n",
    "m = (15 + C − [$\\frac{C}{4}$] - [$\\frac{8C+13}{25}$]) mod 30$\\\\$\n",
    "n = (4 + C − [$\\frac{C}{4}$] mod 7\n",
    "\n",
    "a = Y mod 4\n",
    "\n",
    "b = Y mod 7\n",
    "\n",
    "c = Y mod 19\n",
    "\n",
    "d = (19c + m) mod 30\n",
    "\n",
    "e = (2a + 4b + 6d + n) mod 7\n",
    "\n",
    "Easter is either March (22+d +e) or April (d +e−9). There is an exception if d = 29 and e = 6.\n",
    "In this case, Easter falls one week earlier on April 19. There is another exception if d = 28,\n",
    "e = 6, and m = 2, 5, 10, 13, 16, 21, 24, or 39. In this case, Easter falls one week earlier on April\n",
    "18. Write a program that asks the user to enter a year and prints out the date of Easter in that\n",
    "year."
   ]
  },
  {
   "cell_type": "code",
   "execution_count": null,
   "id": "9c3213b1",
   "metadata": {},
   "outputs": [],
   "source": [
    "from math import floor\n",
    "y = eval(input(\"Enter a year: \"))\n",
    "c = y//100\n",
    "m = floor((15+c-(c/4)-((8*c+13)/25)))%30\n",
    "n = floor((4 + c - (c/4)))%7\n",
    "a = y%4\n",
    "b = y%7\n",
    "c= y%19\n",
    "d = (19*c+m)%30\n",
    "e = (2*a+4*b+6*d+n)%7\n",
    "march = 22+d+e\n",
    "april = d+e-9\n",
    "if march > 31 and april > 0 and april == march - 31:\n",
    "    print(\"Easter \", y, \": April \", april, sep = \"\")\n",
    "elif march == 31 and april == 0:\n",
    "    print(\"Easter \", y, \": March 31\", sep = \"\")\n",
    "elif march < 31 and april <0:\n",
    "    print(\"Easter \", y, \": either March \", march, \" or April \", april+7, sep = '')"
   ]
  },
  {
   "cell_type": "markdown",
   "id": "346387a4",
   "metadata": {},
   "source": [
    "17. A year is a leap year if it is divisible by 4, except that years divisible by 100 are not leap years\n",
    "unless they are also divisible by 400. Ask the user to enter a year, and, using the // operator,\n",
    "determine how many leap years there have been between 1600 and that year."
   ]
  },
  {
   "cell_type": "code",
   "execution_count": null,
   "id": "0e684c60",
   "metadata": {
    "scrolled": true
   },
   "outputs": [],
   "source": [
    "year = eval(input(\"Enter a year between 1600 up to the current year: \"))\n",
    "leap = (year-1600)//4 + (year-1600)//400 - (year-1600)//100\n",
    "print(\"There are\", leap, 'leap years between 1600 and', year)"
   ]
  },
  {
   "cell_type": "markdown",
   "id": "a3236891",
   "metadata": {},
   "source": [
    "18. Write a program that given an amount of change less than $1.00 will print out exactly how\n",
    "many quarters, dimes, nickels, and pennies will be needed to efficiently make that change.\n",
    "[Hint: the // operator may be useful.\n"
   ]
  },
  {
   "cell_type": "code",
   "execution_count": null,
   "id": "b108f944",
   "metadata": {},
   "outputs": [],
   "source": [
    "from math import floor\n",
    "change = eval(input('Enter the amount of change less than $1.00: '))\n",
    "changex = floor(change*100)\n",
    "quarter = changex//25\n",
    "dime = (changex-quarter*25)//10\n",
    "nickel = (changex-quarter*25-dime*10)//5\n",
    "penny = (changex-quarter*25-dime*10-nickel*5)\n",
    "print(\"You need\", quarter, \"quarter/s,\", dime, \"dime/s,\", nickel, \"nickle/s and\", penny, \"pennies\")"
   ]
  },
  {
   "cell_type": "markdown",
   "id": "afa42f33",
   "metadata": {},
   "source": [
    "19. Write a program that draws “modular rectangles” like the ones below. The user specifies the\n",
    "width and height of the rectangle, and the entries start at 0 and increase typewriter fashion\n",
    "from left to right and top to bottom, but are all done mod 10. Below are examples of a 3 × 5\n",
    "rectangle and a 4 × 8."
   ]
  },
  {
   "cell_type": "code",
   "execution_count": null,
   "id": "dc6f36e4",
   "metadata": {},
   "outputs": [],
   "source": [
    "width = eval(input(\"Enter the width of the rectangle: \"))\n",
    "height = eval(input(\"Enter the heigh of the rectangle: \"))\n",
    "z=-1\n",
    "for j in range(height):\n",
    "    for i in range(width):\n",
    "        z=(z+1)%10\n",
    "        print(z, end = \" \")\n",
    "    print(\"\")"
   ]
  }
 ],
 "metadata": {
  "kernelspec": {
   "display_name": "Python 3 (ipykernel)",
   "language": "python",
   "name": "python3"
  },
  "language_info": {
   "codemirror_mode": {
    "name": "ipython",
    "version": 3
   },
   "file_extension": ".py",
   "mimetype": "text/x-python",
   "name": "python",
   "nbconvert_exporter": "python",
   "pygments_lexer": "ipython3",
   "version": "3.9.7"
  },
  "vscode": {
   "interpreter": {
    "hash": "b2584329f10c13930cf30ec3e6bcf5fe94d30a715025875437cbb1c72ac2791e"
   }
  }
 },
 "nbformat": 4,
 "nbformat_minor": 5
}
