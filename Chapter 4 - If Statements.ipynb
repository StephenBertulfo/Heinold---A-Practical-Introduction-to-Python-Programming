{
 "cells": [
  {
   "cell_type": "markdown",
   "id": "02d1f2c1",
   "metadata": {},
   "source": [
    "# Exercises"
   ]
  },
  {
   "cell_type": "markdown",
   "id": "9abfe706",
   "metadata": {},
   "source": [
    "1. Write a program that asks the user to enter a length in centimeters. If the user enters a negative\n",
    "length, the program should tell the user that the entry is invalid. Otherwise, the program\n",
    "should convert the length to inches and print out the result. There are 2.54 centimeters in an\n",
    "inch."
   ]
  },
  {
   "cell_type": "code",
   "execution_count": null,
   "id": "5218e218",
   "metadata": {
    "scrolled": true
   },
   "outputs": [],
   "source": [
    "cm = eval(input(\"Enter a length in centimeters: \"))\n",
    "if cm < 0:\n",
    "    print(\"Invalid Input!\")\n",
    "else:\n",
    "    inches = round(cm/2.54,4)\n",
    "    print(cm, \"cm =\", inches, \"inch\")"
   ]
  },
  {
   "cell_type": "markdown",
   "id": "25e4409f",
   "metadata": {},
   "source": [
    "2. Ask the user for a temperature. Then ask them what units, Celsius or Fahrenheit, the temperature is in. Your program should convert the temperature to the other unit. The conversions\n",
    "are $F = \\frac{9}{5}C+32$ and $C = \\frac{5}{9}(F-32)$."
   ]
  },
  {
   "cell_type": "code",
   "execution_count": null,
   "id": "9d054d8b",
   "metadata": {},
   "outputs": [],
   "source": [
    "temp = eval(input(\"Enter a temperature: \"))\n",
    "unit = input(\"What unit the temperature is in(Celsius or Fahrenheit)? \")\n",
    "if unit == \"Celsius\" or unit == \"celsius\":\n",
    "    F = (9/5)*temp + 32\n",
    "    print(temp, \"Celsius =\", F, \"Fahrenheit\")\n",
    "elif unit == \"Fahrenheit\" or unit == \"fahrenheit\":\n",
    "    C = (5/9)*(temp-32)\n",
    "    print(temp, \"Fahrenheit =\", C, \"Celsius\")\n",
    "else:\n",
    "    print(\"Invalid Input!\")"
   ]
  },
  {
   "cell_type": "markdown",
   "id": "87d3798f",
   "metadata": {},
   "source": [
    "3. Ask the user to enter a temperature in Celsius. The program should print a message based\n",
    "on the temperature:$\\newline$\n",
    "• If the temperature is less than -273.15, print that the temperature is invalid because it is\n",
    "below absolute zero. $\\newline$\n",
    "• If it is exactly -273.15, print that the temperature is absolute 0.$\\newline$\n",
    "• If the temperature is between -273.15 and 0, print that the temperature is below freezing.$\\newline$\n",
    "• If it is 0, print that the temperature is at the freezing point.$\\newline$\n",
    "• If it is between 0 and 100, print that the temperature is in the normal range.$\\newline$\n",
    "• If it is 100, print that the temperature is at the boiling point.$\\newline$\n",
    "• If it is above 100, print that the temperature is above the boiling point$\\newline$"
   ]
  },
  {
   "cell_type": "code",
   "execution_count": null,
   "id": "5e28f07e",
   "metadata": {},
   "outputs": [],
   "source": [
    "temp = eval(input(\"Enter a temperature in celsius: \"))\n",
    "if temp < -273.15:\n",
    "    print(\"Temperature is invalid! The temperature is below aboslute zero.\")\n",
    "elif temp == -273.15:\n",
    "    print(\"The temperature is absolute 0.\")\n",
    "elif temp > -273.15 and temp < 0:\n",
    "    print(\"The temperature is below freezing.\")\n",
    "elif temp == 0:\n",
    "    print(\"The temperature is at the freezing point.\")\n",
    "elif temp > 0 and temp < 100:\n",
    "    print(\"The temperature is in the normal range.\")\n",
    "elif temp == 100:\n",
    "    print(\"The temperature is at the boiling point.\")\n",
    "elif temp > 100:\n",
    "    print(\"The temperature is above boiling point.\")\n",
    "else:\n",
    "    print(\"Invalid Input!\")"
   ]
  },
  {
   "cell_type": "markdown",
   "id": "44241b28",
   "metadata": {},
   "source": [
    "4. Write a program that asks the user how many credits they have taken. If they have taken 23\n",
    "or less, print that the student is a freshman. If they have taken between 24 and 53, print that\n",
    "they are a sophomore. The range for juniors is 54 to 83, and for seniors it is 84 and over."
   ]
  },
  {
   "cell_type": "code",
   "execution_count": null,
   "id": "19b82df0",
   "metadata": {},
   "outputs": [],
   "source": [
    "credits = eval(input(\"Enter how many credits do you have taken: \"))\n",
    "if credits <= 23 and credits >= 0:\n",
    "    print(\"The student is a freshman.\")\n",
    "elif credits >= 24 and credits <= 53:\n",
    "    print(\"The student is a sophomore.\")\n",
    "elif credits >= 54 and credits <= 83:\n",
    "    print(\"The student is a junior.\")\n",
    "elif credits >= 84:\n",
    "    print(\"The student is a senior.\")\n",
    "else:\n",
    "    print(\"Invalid Input!\")"
   ]
  },
  {
   "cell_type": "markdown",
   "id": "20d8e2fc",
   "metadata": {},
   "source": [
    "5. Generate a random number between 1 and 10. Ask the user to guess the number and print a\n",
    "message based on whether they get it right or not."
   ]
  },
  {
   "cell_type": "code",
   "execution_count": null,
   "id": "2d2220d3",
   "metadata": {},
   "outputs": [],
   "source": [
    "from random import randint\n",
    "print(\"This program generate a random number between 1 to 10. You need to guess the random number right.\")\n",
    "num = randint(1,10)\n",
    "guess = eval(input(\"Enter your guess: \"))\n",
    "if guess == num and guess >= 1 and guess <= 10:\n",
    "    print(\"You are correct!\")\n",
    "elif guess != num and guess >= 1 and guess <= 10:\n",
    "    print(\"You are wrong!\")\n",
    "else:\n",
    "    print(\"Invalid Input!\")\n",
    "print(\"Random Number:\", num)"
   ]
  },
  {
   "cell_type": "markdown",
   "id": "1fb5abcc",
   "metadata": {},
   "source": [
    "6. A store charges $\\$12$ per item if you buy less than 10 items. If you buy between 10 and 99 items, the cost is $\\$10$ per item. If you buy 100 or more items, the cost is $7 per item. Write a\n",
    "program that asks the user how many items they are buying and prints the total cost."
   ]
  },
  {
   "cell_type": "code",
   "execution_count": null,
   "id": "e7bb3fb4",
   "metadata": {
    "scrolled": true
   },
   "outputs": [],
   "source": [
    "items = eval(input(\"Enter how many items you are buying: \"))\n",
    "if items < 10 and items >= 0:\n",
    "    total = items*12\n",
    "    print(\"Total Cost: $\", total, sep = \"\")\n",
    "elif items >=10 and items <= 99:\n",
    "    total = items*10\n",
    "    print(\"Total Cost: $\", total, sep = \"\")\n",
    "elif items >= 100:\n",
    "    total = items*7\n",
    "    print(\"Total Cost: $\", total, sep = \"\")\n",
    "else:\n",
    "    print(\"Invalid Input\")"
   ]
  },
  {
   "cell_type": "markdown",
   "id": "ec2f963f",
   "metadata": {},
   "source": [
    "7. Write a program that asks the user for two numbers and prints Close if the numbers are\n",
    "within .001 of each other and Not close otherwise."
   ]
  },
  {
   "cell_type": "code",
   "execution_count": null,
   "id": "19529053",
   "metadata": {},
   "outputs": [],
   "source": [
    "num1 = eval(input(\"Enter a number: \"))\n",
    "num2 = eval(input(\"Enter another number: \"))\n",
    "dif = abs(num1-num2)\n",
    "if dif <= 0.001:\n",
    "    print(\"Close!\")\n",
    "else:\n",
    "    print(\"Not Close!\")"
   ]
  },
  {
   "cell_type": "markdown",
   "id": "9c25d0aa",
   "metadata": {},
   "source": [
    "8. A year is a leap year if it is divisible by 4, except that years divisible by 100 are not leap years\n",
    "unless they are also divisible by 400. Write a program that asks the user for a year and prints\n",
    "out whether it is a leap year or not."
   ]
  },
  {
   "cell_type": "code",
   "execution_count": null,
   "id": "d98d8d69",
   "metadata": {},
   "outputs": [],
   "source": [
    "year = eval(input(\"Enter a year: \"))\n",
    "if year%4 == 0 and year%100 == 0 and year%400 == 0:\n",
    "    print(year, \"is a leap year.\")\n",
    "elif year%4 == 0 and year%100 != 0:\n",
    "    print(year, \"is a leap year.\")\n",
    "else:\n",
    "    print(year, \"is not a leap year.\")"
   ]
  },
  {
   "cell_type": "markdown",
   "id": "186ba7e8",
   "metadata": {},
   "source": [
    "9. Write a program that asks the user to enter a number and prints out all the divisors of that\n",
    "number. [Hint: the % operator is used to tell if a number is divisible by something.]"
   ]
  },
  {
   "cell_type": "code",
   "execution_count": null,
   "id": "52a52410",
   "metadata": {},
   "outputs": [],
   "source": [
    "num = eval(input(\"Enter a number: \"))\n",
    "print(\"Divisors: \", end = \"\")\n",
    "for i in range(1, num):\n",
    "    if num%i == 0:\n",
    "        print(i, end = \", \")\n",
    "print(num)"
   ]
  },
  {
   "cell_type": "markdown",
   "id": "9607d816",
   "metadata": {},
   "source": [
    "10. Write a multiplication game program for kids. The program should give the player ten randomly generated multiplication questions to do. After each, the program should tell them\n",
    "whether they got it right or wrong and what the correct answer is."
   ]
  },
  {
   "cell_type": "code",
   "execution_count": null,
   "id": "96952c7c",
   "metadata": {
    "scrolled": false
   },
   "outputs": [],
   "source": [
    "from random import randint\n",
    "for i in range(1,11):\n",
    "    rand1 = randint(1,10)\n",
    "    rand2 = randint(1,10)\n",
    "    print(\"Question \", i, \": \", rand1, \" x \", rand2, sep = \"\", end = \"\")\n",
    "    answer = eval(input(\" = \"))\n",
    "    if answer == rand1*rand2:\n",
    "        print(\"Right!\")\n",
    "    else:\n",
    "        print(\"Wrong! The answer is \" , rand1*rand2, \".\", sep = \"\")"
   ]
  },
  {
   "cell_type": "markdown",
   "id": "62d64e06",
   "metadata": {},
   "source": [
    "11. Write a program that asks the user for an hour between 1 and 12, asks them to enter am or pm,\n",
    "and asks them how many hours into the future they want to go. Print out what the hour will\n",
    "be that many hours into the future, printing am or pm as appropriate. An example is shown\n",
    "below."
   ]
  },
  {
   "cell_type": "code",
   "execution_count": null,
   "id": "98a2d06e",
   "metadata": {},
   "outputs": [],
   "source": [
    "hour = eval(input(\"Enter hour: \"))\n",
    "am_pm = eval(input(\"am(1) or pm(2)? \"))\n",
    "ahead = eval(input(\"How many hours ahead? \"))\n",
    "final_hour = (hour+ahead)%12\n",
    "if hour+ahead < 12 and am_pm == 1:\n",
    "    print(\"New hour: \", final_hour, \"am\")\n",
    "elif hour+ahead > 12 and am_pm == 1:\n",
    "    print(\"New hour: \", final_hour, \"pm\")\n",
    "elif hour+ahead < 12 and am_pm == 2:\n",
    "    print(\"New hour: \", final_hour, \"pm\")\n",
    "elif hour+ahead > 12 and am_pm == 2:\n",
    "    print(\"New hour:\", final_hour, \"am\")\n",
    "else:\n",
    "    print(\"Invalid Input!\")"
   ]
  },
  {
   "cell_type": "markdown",
   "id": "11e3fc92",
   "metadata": {},
   "source": [
    "12. A jar of Halloween candy contains an unknown amount of candy and if you can guess exactly\n",
    "how much candy is in the bowl, then you win all the candy. You ask the person in charge the\n",
    "following: If the candy is divided evenly among 5 people, how many pieces would be left\n",
    "over? The answer is 2 pieces. You then ask about dividing the candy evenly among 6 people,\n",
    "and the amount left over is 3 pieces. Finally, you ask about dividing the candy evenly among\n",
    "7 people, and the amount left over is 2 pieces. By looking at the bowl, you can tell that there\n",
    "are less than 200 pieces. Write a program to determine how many pieces are in the bowl."
   ]
  },
  {
   "cell_type": "code",
   "execution_count": null,
   "id": "215574ef",
   "metadata": {
    "scrolled": false
   },
   "outputs": [],
   "source": [
    "for i in range(1,200):\n",
    "    if i%5 == 2 and i%6 == 3 and i%7 == 2:\n",
    "        print(i, \"candies are in the bowl.\")"
   ]
  },
  {
   "cell_type": "markdown",
   "id": "3d724be4",
   "metadata": {},
   "source": [
    "13. Write a program that lets the user play Rock-Paper-Scissors against the computer. There\n",
    "should be five rounds, and after those five rounds, your program should print out who won\n",
    "and lost or that there is a tie."
   ]
  },
  {
   "cell_type": "code",
   "execution_count": null,
   "id": "9c5fa8ab",
   "metadata": {},
   "outputs": [],
   "source": [
    "from random import randint\n",
    "for i in range(1,6):\n",
    "    print(\"Round\", i)\n",
    "    num = randint(1,3)\n",
    "    guess = input(\"Enter Rock, Paper, Scissors: \" )          \n",
    "    if num == 1 and guess == \"Rock\":\n",
    "        print(\"Tie - Rock vs Rock\")\n",
    "    elif num == 1 and guess == \"Paper\":\n",
    "        print(\"Won - Paper vs Rock\")\n",
    "    elif num == 1 and guess == \"Scissors\":\n",
    "        print(\"Lost - Scissors vs Rock\")\n",
    "    elif num == 2 and guess == \"Rock\":\n",
    "        print(\"Lost - Rock vs Paper\")\n",
    "    elif num == 2 and guess == \"Paper\":\n",
    "        print(\"Tie - Paper vs Paper\")\n",
    "    elif num == 2 and guess == \"Scissors\":\n",
    "        print(\"Won - Scissors vs Paper\")\n",
    "    elif num == 3 and guess == \"Rock\":\n",
    "        print(\"Won - Rock vs Scissors\")\n",
    "    elif num == 3 and guess == \"Paper\":\n",
    "        print(\"Lost - Paper vs Scissors\")\n",
    "    elif num == 3 and guess == \"Scissors\":\n",
    "        print(\"Tie - Scissors vs Scissors\")\n",
    "    else:\n",
    "        print(\"Invalid Input\")\n",
    "    print(\"\")"
   ]
  },
  {
   "cell_type": "code",
   "execution_count": null,
   "id": "b991500a",
   "metadata": {},
   "outputs": [],
   "source": []
  }
 ],
 "metadata": {
  "kernelspec": {
   "display_name": "Python 3 (ipykernel)",
   "language": "python",
   "name": "python3"
  },
  "language_info": {
   "codemirror_mode": {
    "name": "ipython",
    "version": 3
   },
   "file_extension": ".py",
   "mimetype": "text/x-python",
   "name": "python",
   "nbconvert_exporter": "python",
   "pygments_lexer": "ipython3",
   "version": "3.9.7"
  }
 },
 "nbformat": 4,
 "nbformat_minor": 5
}
