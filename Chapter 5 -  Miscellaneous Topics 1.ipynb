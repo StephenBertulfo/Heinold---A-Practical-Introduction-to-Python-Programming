{
 "cells": [
  {
   "cell_type": "markdown",
   "id": "0cfef7e4",
   "metadata": {},
   "source": [
    "# Exercises"
   ]
  },
  {
   "cell_type": "markdown",
   "id": "a4db7944",
   "metadata": {},
   "source": [
    "1. Write a program that counts how many of the squares of the numbers from 1 to 100 end in a 1."
   ]
  },
  {
   "cell_type": "code",
   "execution_count": null,
   "id": "98ac6503",
   "metadata": {
    "scrolled": true
   },
   "outputs": [],
   "source": [
    "count = 0\n",
    "for i in range(1,101):\n",
    "    if (i*i)%10 == 1:\n",
    "        count = count + 1\n",
    "print(\"There are\", count, \"numbers from 1 to 100 whos square of itself end in 1.\")"
   ]
  },
  {
   "cell_type": "markdown",
   "id": "42cb6830",
   "metadata": {},
   "source": [
    "2. Write a program that counts how many of the squares of the numbers from 1 to 100 end in a\n",
    "4 and how many end in a 9."
   ]
  },
  {
   "cell_type": "code",
   "execution_count": null,
   "id": "0d528511",
   "metadata": {
    "scrolled": true
   },
   "outputs": [],
   "source": [
    "count_4 = 0\n",
    "count_9 = 0\n",
    "for i in range(1, 101):\n",
    "    if (i*i)%10 == 4:\n",
    "        count_4 = count_4 + 1\n",
    "    elif (i*i)%10 == 9:\n",
    "        count_9 = count_9 + 1\n",
    "print(\"There are\", count_4, \"numbers from 1 to 100 whos square of itself end in 4 and there are\", count_9, \"numbers from 1 to 100 whos square of itself end in 9\")"
   ]
  },
  {
   "cell_type": "markdown",
   "id": "c0a5188d",
   "metadata": {},
   "source": [
    "3. Write a program that asks the user to enter a value n, and then computes (1+$\\frac{1}{2}+\\frac{1}{3}+...+\\frac{1}{n})-\\ln(n)$. The ln function is log in the math module."
   ]
  },
  {
   "cell_type": "code",
   "execution_count": null,
   "id": "4cab87db",
   "metadata": {},
   "outputs": [],
   "source": [
    "from math import log\n",
    "sum = 0\n",
    "n = eval(input(\"Enter a value n: \"))\n",
    "for i in range(1, n+1):\n",
    "    eq = 1/i\n",
    "    sum = sum + eq\n",
    "\n",
    "answer = round(sum - log(n), 4)\n",
    "print(\"Answer =\", answer)"
   ]
  },
  {
   "cell_type": "markdown",
   "id": "7ef3b6e8",
   "metadata": {},
   "source": [
    "4. Write a program to compute the sum 1 − 2 + 3 − 4 + ··· + 1999 − 2000."
   ]
  },
  {
   "cell_type": "code",
   "execution_count": null,
   "id": "5d250a89",
   "metadata": {
    "scrolled": true
   },
   "outputs": [],
   "source": [
    "sum = 0\n",
    "for i in range(1, 2000, 2):\n",
    "    dif = i-(i+1)\n",
    "    sum = sum + dif\n",
    "print(\"Sum =\", sum)"
   ]
  },
  {
   "cell_type": "markdown",
   "id": "782217a8",
   "metadata": {},
   "source": [
    "5. Write a program that asks the user to enter a number and prints the sum of the divisors of\n",
    "that number. The sum of the divisors of a number is an important function in number theory."
   ]
  },
  {
   "cell_type": "code",
   "execution_count": null,
   "id": "e9dd6277",
   "metadata": {},
   "outputs": [],
   "source": [
    "num = eval(input(\"Enter a number: \"))\n",
    "sum = 0\n",
    "for i in range(1, num+1):\n",
    "    if num%i == 0:\n",
    "        sum = sum + i\n",
    "print(\"Sum of Divisors of\", num, \"=\", sum)"
   ]
  },
  {
   "cell_type": "markdown",
   "id": "cb9bed32",
   "metadata": {},
   "source": [
    "6. A number is called a perfect number if it is equal to the sum of all of its divisors, not including\n",
    "the number itself. For instance, 6 is a perfect number because the divisors of 6 are 1, 2, 3, 6\n",
    "and 6 = 1 + 2 + 3. As another example, 28 is a perfect number because its divisors are 1, 2, 4,\n",
    "7, 14, 28 and 28 = 1 + 2 + 4 + 7 + 14. However, 15 is not a perfect number because its divisors\n",
    "are 1, 3, 5, 15 and 15 $\\neq$ 1 + 3 + 5. Write a program that finds all four of the perfect numbers\n",
    "that are less than 10000."
   ]
  },
  {
   "cell_type": "code",
   "execution_count": null,
   "id": "314a177e",
   "metadata": {},
   "outputs": [],
   "source": [
    "print(\"Perfect Numbers: \", end = \"\")\n",
    "for i in range(2, 10000):\n",
    "    sumx = 0\n",
    "    for j in range(1, i):\n",
    "        if i%j == 0:\n",
    "            sumx = sumx + j\n",
    "        else:\n",
    "            continue\n",
    "    if sumx == i:\n",
    "        print(i, end = \" \")\n",
    "    else:\n",
    "        continue"
   ]
  },
  {
   "cell_type": "markdown",
   "id": "3b81ed14",
   "metadata": {},
   "source": [
    "7. An integer is called squarefree if it is not divisible by any perfect squares other than 1. For\n",
    "instance, 42 is squarefree because its divisors are 1, 2, 3, 6, 7, 21, and 42, and none of those\n",
    "numbers (except 1) is a perfect square. On the other hand, 45 is not squarefree because it is\n",
    "divisible by 9, which is a perfect square. Write a program that asks the user for an integer and\n",
    "tells them if it is squarefree or not."
   ]
  },
  {
   "cell_type": "code",
   "execution_count": null,
   "id": "9d825914",
   "metadata": {
    "scrolled": true
   },
   "outputs": [],
   "source": [
    "from math import sqrt\n",
    "num = eval(input(\"Enter a number: \"))\n",
    "count = 0\n",
    "for i in range(2, num+1):\n",
    "    sqrtx = sqrt(i)\n",
    "    if num%i == 0 and sqrtx.is_integer():\n",
    "        count = count + 1\n",
    "    else:\n",
    "        continue\n",
    "if count > 0:\n",
    "    print(num, \"is not a squarefree number\")\n",
    "else:\n",
    "    print(num, \"is a squarefree number\")"
   ]
  },
  {
   "cell_type": "markdown",
   "id": "4671e02e",
   "metadata": {},
   "source": [
    "8. Write a program that swaps the values of three variables x, y, and z, so that x gets the value\n",
    "of y, y gets the value of z, and z gets the value of x."
   ]
  },
  {
   "cell_type": "code",
   "execution_count": null,
   "id": "b3c35361",
   "metadata": {},
   "outputs": [],
   "source": [
    "x = eval(input(\"Enter a number for variable x: \"))\n",
    "y = eval(input(\"Enter a number for variable y: \"))\n",
    "z = eval(input(\"Enter a number for variable z: \"))\n",
    "hold = x\n",
    "x = y\n",
    "y = z\n",
    "z = hold\n",
    "print(\"x =\", x)\n",
    "print(\"y =\", y)\n",
    "print(\"z =\", z)"
   ]
  },
  {
   "cell_type": "markdown",
   "id": "f8734847",
   "metadata": {},
   "source": [
    "9. Write a program to count how many integers from 1 to 1000 are not perfect squares, perfect\n",
    "cubes, or perfect fifth powers."
   ]
  },
  {
   "cell_type": "code",
   "execution_count": null,
   "id": "53f88d93",
   "metadata": {
    "scrolled": false
   },
   "outputs": [],
   "source": [
    "count = 0\n",
    "for i in range(1, 1001):\n",
    "    sqrtx = sqrt(i)\n",
    "    cubex = round(i**(1/3),6)\n",
    "    fifthx = round(i**(1/5),6)\n",
    "    if sqrtx.is_integer() or  cubex.is_integer() or fifthx.is_integer():\n",
    "        continue\n",
    "    else:\n",
    "        count = count + 1\n",
    "        \n",
    "print(\"There are\", count, \"number who are not perfect square, perfect cube or perfect fifth powers between 1 to 1000\")"
   ]
  },
  {
   "cell_type": "markdown",
   "id": "a5881ade",
   "metadata": {},
   "source": [
    "10. Ask the user to enter 10 test scores. Write a program to do the following: $\\newline$\n",
    "(a) Print out the highest and lowest scores. $\\newline$\n",
    "(b) Print out the average of the scores. $\\newline$\n",
    "(c) Print out the second largest score. $\\newline$\n",
    "(d) If any of the scores is greater than 100, then after all the scores have been entered, print\n",
    "a message warning the user that a value over 100 has been entered. $\\newline$\n",
    "(e) Drop the two lowest scores and print out the average of the rest of them. $\\newline$"
   ]
  },
  {
   "cell_type": "code",
   "execution_count": null,
   "id": "c4ca0f7f",
   "metadata": {
    "scrolled": false
   },
   "outputs": [],
   "source": [
    "sumx = 0\n",
    "largestx = 0\n",
    "smallestx = 1000\n",
    "for i in range(1,11):\n",
    "    print(\"Number \", i,\" :\", sep = \"\", end = \" \")\n",
    "    num = eval(input(\"Enter a number: \"))\n",
    "    sumx = sumx + num\n",
    "    \n",
    "    if num > 100:\n",
    "        print(\"Warning! You have entered a score greater than 100!\")\n",
    "        \n",
    "    if num >= largestx:\n",
    "        hold1 = largestx\n",
    "        largestx = num\n",
    "        sec_largestx = hold1\n",
    "    elif num < largestx and num >= sec_largestx:\n",
    "        sec_largestx = num\n",
    "        \n",
    "    if num <= smallestx:\n",
    "        hold2 = smallestx\n",
    "        smallestx = num\n",
    "        sec_smallestx = hold2\n",
    "    elif num > smallestx and num <= sec_smallestx:\n",
    "        sec_smallestx = num\n",
    "\n",
    "sum_8 = sumx - smallestx -sec_smallestx\n",
    "average_10 = sumx/10\n",
    "average_8 = sum_8/8\n",
    "    \n",
    "print(\"Largest Number =\", largestx)\n",
    "print(\"Smallest Number =\", smallestx)\n",
    "print(\"Average of all numbers =\", average_10)\n",
    "print(\"Average of 8 largest numbers =\", average_8)"
   ]
  },
  {
   "cell_type": "markdown",
   "id": "6a0b4ee6",
   "metadata": {},
   "source": [
    "11. Write a program that computes the factorial of a number. The factorial, n!, of a number n is the\n",
    "product of all the integers between 1 and n, including n. For instance, 5! = 1 · 2 · 3 · 4 · 5 = 120.\n",
    "[Hint: Try using a multiplicative equivalent of the summing technique.]"
   ]
  },
  {
   "cell_type": "code",
   "execution_count": null,
   "id": "75e6f4b2",
   "metadata": {},
   "outputs": [],
   "source": [
    "num = eval(input(\"Enter a number: \"))\n",
    "factorial = 1\n",
    "for i in range(2,num+1):\n",
    "    factorial = factorial*i\n",
    "print(num, \"! = \", factorial, sep = \"\")"
   ]
  },
  {
   "cell_type": "markdown",
   "id": "c88fe123",
   "metadata": {},
   "source": [
    "12.  Write a program that asks the user to guess a random number between 1 and 10. If they guess\n",
    "right, they get 10 points added to their score, and they lose 1 point for an incorrect guess. Give\n",
    "the user five numbers to guess and print their score after all the guessing is done."
   ]
  },
  {
   "cell_type": "code",
   "execution_count": null,
   "id": "563b9a8c",
   "metadata": {
    "scrolled": true
   },
   "outputs": [],
   "source": [
    "from random import randint\n",
    "score = 0\n",
    "print(\"Guess the Number!\")\n",
    "for i in range(1,6):\n",
    "    rand = randint(1,10)\n",
    "    print(\"Number\", i, end =\" \")\n",
    "    guess = eval(input(\"Enter your guess: \"))\n",
    "    if guess == rand:\n",
    "        score = score + 10\n",
    "        print(\"Correct!\")\n",
    "        print(\"Number to Guess:\", rand)\n",
    "    else:\n",
    "        score = score - 1\n",
    "        print(\"Wrong!\")\n",
    "        print(\"Number to Guess:\", rand)\n",
    "\n",
    "print(\"Total Score:\", score)"
   ]
  },
  {
   "cell_type": "markdown",
   "id": "a78c1267",
   "metadata": {},
   "source": [
    "13. In the last chapter there was an exercise that asked you to create a multiplication game for\n",
    "kids. Improve your program from that exercise to keep track of the number of right and\n",
    "wrong answers. At the end of the program, print a message that varies depending on how\n",
    "many questions the player got right."
   ]
  },
  {
   "cell_type": "code",
   "execution_count": null,
   "id": "cf49bbc7",
   "metadata": {
    "scrolled": true
   },
   "outputs": [],
   "source": [
    "from random import randint\n",
    "right = 0\n",
    "wrong = 0\n",
    "for i in range(1,11):\n",
    "    rand1 = randint(1,10)\n",
    "    rand2 = randint(1,10)\n",
    "    print(\"Question \", i, \": \", rand1, \" x \", rand2, sep = \"\", end = \"\")\n",
    "    answer = eval(input(\" = \"))\n",
    "    if answer == rand1*rand2:\n",
    "        print(\"Right!\")\n",
    "        right = right + 1\n",
    "    else:\n",
    "        print(\"Wrong! The answer is \" , rand1*rand2, \".\", sep = \"\")\n",
    "        wrong = wrong + 1\n",
    "\n",
    "print(\"You got\", right, \"right answers and\", wrong, \"wrong answers.\")"
   ]
  },
  {
   "cell_type": "markdown",
   "id": "eaa5b311",
   "metadata": {},
   "source": [
    "14. This exercise is about the well-known Monty Hall problem. In the problem, you are a contestant on a game show. The host, Monty Hall, shows you three doors. Behind one of those\n",
    "doors is a prize, and behind the other two doors are goats. You pick a door. Monty Hall, who knows behind which door the prize lies, then opens up one of the doors that doesn’t contain\n",
    "the prize. There are now two doors left, and Monty gives you the opportunity to change your choice. Should you keep the same door, change doors, or does it not matter? $\\newline$\n",
    "(a) Write a program that simulates playing this game 10000 times and calculates what percentage of the time you would win if you switch and what percentage of the time you\n",
    "would win by not switching.$\\newline$\n",
    "(b) Try the above but with four doors instead of three. There is still only one prize, and\n",
    "Monty still opens up one door and then gives you the opportunity to switch."
   ]
  },
  {
   "cell_type": "code",
   "execution_count": null,
   "id": "ac689c43",
   "metadata": {
    "scrolled": false
   },
   "outputs": [],
   "source": [
    "#A\n",
    "from random import randint\n",
    "count = 0\n",
    "for i in range(1000000):\n",
    "    door = randint(1,3)\n",
    "    pick = randint(1,3)\n",
    "    if pick == door:\n",
    "        continue\n",
    "    else:\n",
    "        count = count + 1\n",
    "percentage = (count/1000000)*100\n",
    "print(\"Percentage: \", percentage, \"%\", sep = \"\")"
   ]
  },
  {
   "cell_type": "code",
   "execution_count": null,
   "id": "20c0f329",
   "metadata": {},
   "outputs": [],
   "source": [
    "#B\n",
    "from random import randint\n",
    "import random\n",
    "count = 0\n",
    "for i in range(1000000):\n",
    "    doors = [\"1\", \"2\", \"3\", \"4\"]\n",
    "    pick = random.choice(doors)\n",
    "    rand = random.choice(doors)\n",
    "    if pick == rand:\n",
    "        continue\n",
    "    elif pick != rand:\n",
    "        remaining = list(set(doors) - set(pick) - set(rand))\n",
    "        opening = random.choice(remaining)\n",
    "        rem_doors = list(set(doors) - set(opening))\n",
    "        new_pick = random.choice(list(set(rem_doors)- set(pick)))\n",
    "        if new_pick == rand:\n",
    "            count = count + 1\n",
    "            \n",
    "percentage = (count/1000000)*100\n",
    "print(\"Percentage: \", percentage, \"%\", sep = \"\")"
   ]
  },
  {
   "cell_type": "code",
   "execution_count": null,
   "id": "f51428af",
   "metadata": {},
   "outputs": [],
   "source": []
  }
 ],
 "metadata": {
  "kernelspec": {
   "display_name": "Python 3 (ipykernel)",
   "language": "python",
   "name": "python3"
  },
  "language_info": {
   "codemirror_mode": {
    "name": "ipython",
    "version": 3
   },
   "file_extension": ".py",
   "mimetype": "text/x-python",
   "name": "python",
   "nbconvert_exporter": "python",
   "pygments_lexer": "ipython3",
   "version": "3.9.7"
  }
 },
 "nbformat": 4,
 "nbformat_minor": 5
}
