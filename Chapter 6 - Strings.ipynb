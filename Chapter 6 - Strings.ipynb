{
 "cells": [
  {
   "cell_type": "markdown",
   "id": "0ed902ce",
   "metadata": {},
   "source": [
    "# Exercises "
   ]
  },
  {
   "cell_type": "markdown",
   "id": "46f7be24",
   "metadata": {},
   "source": [
    "1. Write a program that asks the user to enter a string. The program should then print the\n",
    "following: $\\newline$\n",
    "(a) The total number of characters in the string $\\newline$\n",
    "(b) The string repeated 10 times $\\newline$\n",
    "(c) The first character of the string (remember that string indices start at 0) $\\newline$\n",
    "(d) The first three characters of the string $\\newline$\n",
    "(e) The last three characters of the string$\\newline$\n",
    "(f) The string backwards$\\newline$\n",
    "(g) The seventh character of the string if the string is long enough and a message otherwise$\\newline$\n",
    "(h) The string with its first and last characters removed$\\newline$\n",
    "(i) The string in all caps$\\newline$\n",
    "(j) The string with every a replaced with an e$\\newline$\n",
    "(k) The string with every letter replaced by a space"
   ]
  },
  {
   "cell_type": "code",
   "execution_count": null,
   "id": "e6c84805",
   "metadata": {
    "scrolled": true
   },
   "outputs": [],
   "source": [
    "string = input(\"Enter a string: \")\n",
    "print(\"A. Length:\", len(string))\n",
    "print(\"B.\")\n",
    "for i in range(10):\n",
    "    print(string)\n",
    "print(\"C. First character of the string:\", string[0])\n",
    "print(\"D. First three character of the string:\", string[0:3])\n",
    "print(\"E. Last three character of the string:\", string[len(string)-3:len(string)])\n",
    "print(\"F. string backwards: \", end = \"\")\n",
    "for i in range(len(string)-1, -1, -1):\n",
    "    print(string[i], end = \"\")\n",
    "print(\"\")\n",
    "if len(string) >= 7:\n",
    "    print(\"G. Seventh character of the string:\", string[6])\n",
    "else:\n",
    "    print(\"G. The string is not long enough.\")\n",
    "print(\"H. String with its first and last characters removed:\", string[1:len(string)-1])\n",
    "print(\"I. String in all caps:\", string.upper())\n",
    "string = string.replace(\"a\", \"e\")\n",
    "string = string.replace(\"A\", \"E\")\n",
    "print(\"J. String with every a replaced with an e:\", string)\n",
    "for i in range(0,len(string)):\n",
    "    if string[i].isalpha():\n",
    "        string = string.replace(string[i], \" \")\n",
    "print(\"K. String with every letter replaced by a space:\", string)"
   ]
  },
  {
   "cell_type": "markdown",
   "id": "4e79832d",
   "metadata": {},
   "source": [
    "2. A simple way to estimate the number of words in a string is to count the number of spaces\n",
    "in the string. Write a program that asks the user for a string and returns an estimate of how\n",
    "many words are in the string."
   ]
  },
  {
   "cell_type": "code",
   "execution_count": null,
   "id": "e3449f6d",
   "metadata": {},
   "outputs": [],
   "source": [
    "string = input(\"Enter a string: \")\n",
    "words = string.split()\n",
    "print(\"Total number of words:\", len(words))"
   ]
  },
  {
   "cell_type": "markdown",
   "id": "2a44d91a",
   "metadata": {},
   "source": [
    "3. People often forget closing parentheses when entering formulas. Write a program that asks\n",
    "the user to enter a formula and prints out whether the formula has the same number of opening and closing parentheses."
   ]
  },
  {
   "cell_type": "code",
   "execution_count": null,
   "id": "199e94af",
   "metadata": {},
   "outputs": [],
   "source": [
    "formula = input(\"Enter a formula with open and close parentheses: \")\n",
    "opening = formula.count(\"(\")\n",
    "closing = formula.count(\")\")\n",
    "if opening == closing:\n",
    "    print(\"The formula have the same number open and close parentheses.\")\n",
    "else:\n",
    "    print(\"The formula have not the same number open and close parentheses.\")\n",
    "print(\"Number of open parentheses:\", opening)\n",
    "print(\"Number of close parentheses:\", closing)"
   ]
  },
  {
   "cell_type": "markdown",
   "id": "c6c68a12",
   "metadata": {},
   "source": [
    "4. Write a program that asks the user to enter a word and prints out whether that word contains\n",
    "any vowels."
   ]
  },
  {
   "cell_type": "code",
   "execution_count": null,
   "id": "3aafd905",
   "metadata": {},
   "outputs": [],
   "source": [
    "string = input(\"Enter a word: \")\n",
    "count = 0\n",
    "for char in string:\n",
    "    if char.lower() in (\"a\", \"e\", \"i\", \"o\", \"u\"):\n",
    "        count = count + 1\n",
    "    elif char.upper() in (\"A\", \"E\", \"I\", \"O\", \"U\"):\n",
    "        count = count + 1\n",
    "    else:\n",
    "        continue\n",
    "\n",
    "if count > 0:\n",
    "    print(\"The word contains a vowel.\")\n",
    "else:\n",
    "    print(\"The word does not contains a vowel.\")"
   ]
  },
  {
   "cell_type": "markdown",
   "id": "94427b93",
   "metadata": {},
   "source": [
    "5. Write a program that asks the user to enter a string. The program should create a new string\n",
    "called new_string from the user’s string such that the second character is changed to an\n",
    "asterisk and three exclamation points are attached to the end of the string. Finally, print\n",
    "new_string. Typical output is shown below:"
   ]
  },
  {
   "cell_type": "code",
   "execution_count": null,
   "id": "d1beece7",
   "metadata": {},
   "outputs": [],
   "source": [
    "string = input(\"Enter a string: \")\n",
    "new_string = string.replace(string[1],\"*\")+\"!!!\"\n",
    "print(\"New String:\", new_string)"
   ]
  },
  {
   "cell_type": "markdown",
   "id": "7eae11ef",
   "metadata": {},
   "source": [
    "6. Write a program that asks the user to enter a string s and then converts s to lowercase, removes all the periods and commas from s, and prints the resulting string."
   ]
  },
  {
   "cell_type": "code",
   "execution_count": null,
   "id": "c9303f58",
   "metadata": {
    "scrolled": true
   },
   "outputs": [],
   "source": [
    "s = input(\"Enter a string with periods, commas and uppercases: \")\n",
    "s = s.lower()\n",
    "s = s.replace(\".\", \"\")\n",
    "s = s.replace(\",\", \"\")\n",
    "print(\"New String:\", s)"
   ]
  },
  {
   "cell_type": "markdown",
   "id": "954cb8e1",
   "metadata": {},
   "source": [
    "7. Write a program that asks the user to enter a word and determines whether the word is a\n",
    "palindrome or not. A palindrome is a word that reads the same backwards as forwards."
   ]
  },
  {
   "cell_type": "code",
   "execution_count": null,
   "id": "cf250748",
   "metadata": {
    "scrolled": true
   },
   "outputs": [],
   "source": [
    "word = input(\"Enter a word: \")\n",
    "word = word.lower()\n",
    "reverse = \"\"\n",
    "for i in range(len(word)-1, -1, -1):\n",
    "    reverse = reverse + word[i]\n",
    "if word == reverse:\n",
    "    print(\"The word is a palindrome.\")\n",
    "else:\n",
    "    print(\"The word is not a palindrome\")"
   ]
  },
  {
   "cell_type": "markdown",
   "id": "f296a4e2",
   "metadata": {},
   "source": [
    "8. At a certain school, student email addresses end with @student.college.edu, while professor email addresses end with @prof.college.edu. Write a program that first asks the\n",
    "user how many email addresses they will be entering, and then has the user enter those addresses. After all the email addresses are entered, the program should print out a message\n",
    "indicating either that all the addresses are student addresses or that there were some professor addresses entered."
   ]
  },
  {
   "cell_type": "code",
   "execution_count": null,
   "id": "7d4a0928",
   "metadata": {
    "scrolled": false
   },
   "outputs": [],
   "source": [
    "num = eval(input(\"Enter how many email do you want to enter: \"))\n",
    "student = 0\n",
    "prof = 0\n",
    "\n",
    "for i in range(1, num+1):\n",
    "    print(\"Email\", i, end = \": \")\n",
    "    email = input(\"Enter an email: \")\n",
    "    email = email.lower()\n",
    "    email = email.split(\"@\")\n",
    "    split = email[1]\n",
    "    if split == \"student.college.edu\":\n",
    "        student = student +1\n",
    "    elif split == \"prof.college.edu\":\n",
    "        prof = prof + 1\n",
    "    else:\n",
    "        print(\"Invalid Input!\")\n",
    "\n",
    "if student == num:\n",
    "    print(\"All of the addresses are student addresses.\")\n",
    "else:\n",
    "    print(\"Some of the addresses are proffesor addresses.\")"
   ]
  },
  {
   "cell_type": "markdown",
   "id": "e3d8ea52",
   "metadata": {},
   "source": [
    "9. Ask the user for a number and then print the following, where the pattern ends at the number\n",
    "that the user enters."
   ]
  },
  {
   "cell_type": "code",
   "execution_count": null,
   "id": "bd8f5b48",
   "metadata": {},
   "outputs": [],
   "source": [
    "num = eval(input(\"Enter a number: \"))\n",
    "for i in range(1, num+1):\n",
    "    print(\" \"*(i-1), i, sep = \"\")"
   ]
  },
  {
   "cell_type": "markdown",
   "id": "59e04f94",
   "metadata": {},
   "source": [
    "10. Write a program that asks the user to enter a string, then prints out each letter of the string\n",
    "doubled and on a separate line. For instance, if the user entered HEY, the output would be"
   ]
  },
  {
   "cell_type": "code",
   "execution_count": null,
   "id": "c2396a98",
   "metadata": {},
   "outputs": [],
   "source": [
    "string = input(\"Enter a string: \")\n",
    "for i in range(len(string)):\n",
    "    print(string[i]*2)"
   ]
  },
  {
   "cell_type": "markdown",
   "id": "07e1b61d",
   "metadata": {},
   "source": [
    "11. Write a program that asks the user to enter a word that contains the letter a. The program\n",
    "should then print the following two lines: On the first line should be the part of the string up\n",
    "to and including the first a, and on the second line should be the rest of the string. Sample\n",
    "output is shown below:"
   ]
  },
  {
   "cell_type": "code",
   "execution_count": null,
   "id": "d40ad96c",
   "metadata": {},
   "outputs": [],
   "source": [
    "string = input(\"Enter a string with a: \")\n",
    "\n",
    "print(string[0:string.index(\"a\")+1])\n",
    "print(string[string.index(\"a\")+2:len(string)])"
   ]
  },
  {
   "cell_type": "markdown",
   "id": "3f33a7d4",
   "metadata": {},
   "source": [
    "12. Write a program that asks the user to enter a word and then capitalizes every other letter of\n",
    "that word. So if the user enters rhinoceros, the program should print rHiNoCeRoS."
   ]
  },
  {
   "cell_type": "code",
   "execution_count": null,
   "id": "c40b0f8e",
   "metadata": {},
   "outputs": [],
   "source": [
    "word = input(\"Enter a word: \")\n",
    "output = \"\"\n",
    "for i in range(len(word)):\n",
    "    if i%2 != 0:\n",
    "        output = output + word[i].upper()\n",
    "    else:\n",
    "        output = output + word[i].lower()\n",
    "print(\"Output:\", output)"
   ]
  },
  {
   "cell_type": "markdown",
   "id": "75a2de35",
   "metadata": {},
   "source": [
    "13. Write a program that asks the user to enter two strings of the same length. The program\n",
    "should then check to see if the strings are of the same length. If they are not, the program\n",
    "should print an appropriate message and exit. If they are of the same length, the program\n",
    "should alternate the characters of the two strings. For example, if the user enters abcde and\n",
    "ABCDE the program should print out AaBbCcDdEe."
   ]
  },
  {
   "cell_type": "code",
   "execution_count": null,
   "id": "b4b7fd27",
   "metadata": {
    "scrolled": true
   },
   "outputs": [],
   "source": [
    "string1 = input(\"Enter first string: \")\n",
    "string2 = input(\"Enter second string: \")\n",
    "print(\"Output:\", end = ' ')\n",
    "if len(string1) == len(string2):\n",
    "    for i in range(0,len(string1)):\n",
    "        print(string1[i]+string2[i], end = \"\")\n",
    "else:\n",
    "    print(\"The two strings does not have the same length. Try Again!\")"
   ]
  },
  {
   "cell_type": "markdown",
   "id": "414b7698",
   "metadata": {},
   "source": [
    "14. Write a program that asks the user to enter their name in lowercase and then capitalizes the\n",
    "first letter of each word of their name."
   ]
  },
  {
   "cell_type": "code",
   "execution_count": null,
   "id": "72ed7c85",
   "metadata": {},
   "outputs": [],
   "source": [
    "name = input(\"Enter your name in lowercase: \")\n",
    "split = name.split(\" \")\n",
    "for items in split:\n",
    "    print(items.capitalize(), end = \" \")"
   ]
  },
  {
   "cell_type": "markdown",
   "id": "1fceb2a1",
   "metadata": {},
   "source": [
    "15. When I was a kid, we used to play this game called Mad Libs. The way it worked was a friend\n",
    "would ask me for some words and then insert those words into a story at specific places\n",
    "and read the story. The story would often turn out to be pretty funny with the words I had\n",
    "given since I had no idea what the story was about. The words were usually from a specific\n",
    "category, like a place, an animal, etc. $\\newline$\n",
    "For this problem you will write a Mad Libs program. First, you should make up a story and\n",
    "leave out some words of the story. Your program should ask the user to enter some words\n",
    "and tell them what types of words to enter. Then print the full story along with the inserted\n",
    "words. Here is a small example, but you should use your own (longer) example:"
   ]
  },
  {
   "cell_type": "code",
   "execution_count": null,
   "id": "72ca34d7",
   "metadata": {},
   "outputs": [],
   "source": [
    "adj1 = input(\"Enter an adjective: \")\n",
    "adj2 = input(\"Enter another adjective: \")\n",
    "bird = input(\"Enter a type of bird: \")\n",
    "room = input(\"Enter a room in a house: \")\n",
    "verb1 = input(\"Enter a verb in part tense: \")\n",
    "verb2 = input(\"Enter a verb: \")\n",
    "relative = input(\"Enter a name of your relative: \")\n",
    "noun1 = input(\"Enter a noun: \")\n",
    "liquid = input(\"Enter a liquid object: \")\n",
    "verb3 = input(\"Enter a verb ending in -ing: \")\n",
    "body = input(\"Enter a part of a body: \")\n",
    "plural = input(\"Enter a plural noun: \")\n",
    "verb4 = input(\"Enter another verb ending in -ing: \")\n",
    "noun2 = input(\"Enter another noun: \")\n",
    "print(\"I was a \", adj1, \", cold November day. I woke up to the \", adj2, \" smell of \", bird, \" roasting in the \", room, \" downstairs. I \", verb1, \" down the stairs to see if I could help \", verb2, \" the dinner. My mom said, \\\"See if \", relative, \" needs a fresh \", noun1, \" .\\\" So I carried a tray of glasses full of \", liquid, \" into the \", verb3, \"        room. When I got there, I couldn't believe my \", body, \"! There were \", plural, \" \", verb4, \" on the \", noun2, sep = \"\", end = \"!\")"
   ]
  },
  {
   "cell_type": "markdown",
   "id": "8873488e",
   "metadata": {},
   "source": [
    "16. Companies often try to personalize their offers to make them more attractive. One simple\n",
    "way to do this is just to insert the person’s name at various places in the offer. Of course,\n",
    "companies don’t manually type in every person’s name; everything is computer-generated.\n",
    "Write a program that asks the user for their name and then generates an offer like the one\n",
    "below. For simplicity’s sake, you may assume that the person’s first and last names are one\n",
    "word each."
   ]
  },
  {
   "cell_type": "code",
   "execution_count": null,
   "id": "72c09f1d",
   "metadata": {},
   "outputs": [],
   "source": [
    "name = input(\"Enter your name: \")\n",
    "split = name.split(\" \")\n",
    "print(\"Dear \", name, \",\", sep = \"\")\n",
    "print(\" \")\n",
    "print(\"I am pleased to offer you our new Platinum Plus Rewards card at a special introductory APR of 47.99%. \", split[0], \", an offer like this does not come along every day, so I urge you to call now toll-free at 1-800-314-1592. We cannot offer such a low rate for long \", split[0], \", so call right away.\", sep = \"\")"
   ]
  },
  {
   "cell_type": "markdown",
   "id": "5a5edf9b",
   "metadata": {},
   "source": [
    "17. Write a program that generates the 26-line block of letters partially shown below. Use a loop\n",
    "containing one or two print statements"
   ]
  },
  {
   "cell_type": "code",
   "execution_count": null,
   "id": "a38df51f",
   "metadata": {},
   "outputs": [],
   "source": [
    "letters = \"abcdefghijklmnopqrstuvwxyz\"\n",
    "z = -2\n",
    "for i in range(26):\n",
    "    z = z + 1\n",
    "    for j in range(26):\n",
    "        z = (z+1)%26\n",
    "        print(letters[z], end = \"\")\n",
    "    print(\"\")"
   ]
  },
  {
   "cell_type": "markdown",
   "id": "0e9eaa81",
   "metadata": {},
   "source": [
    "18. The goal of this exercise is to see if you can mimic the behavior of the in operator and the\n",
    "count and index methods using only variables, for loops, and if statements. $\\newline$\n",
    "(a) Without using the in operator, write a program that asks the user for a string and a letter\n",
    "and prints out whether or not the letter appears in the string. $\\newline$\n",
    "(b) Without using the count method, write a program that asks the user for a string and a\n",
    "letter and counts how many occurrences there are of the letter in the string. $\\newline$\n",
    "(c) Without using the index method, write a program that asks the user for a string and\n",
    "a letter and prints out the index of the first occurrence of the letter in the string. If the\n",
    "letter is not in the string, the program should say so."
   ]
  },
  {
   "cell_type": "code",
   "execution_count": null,
   "id": "2b03de85",
   "metadata": {},
   "outputs": [],
   "source": [
    "#A\n",
    "string = input(\"Enter a string: \")\n",
    "letter = input(\"Enter a letter: \")\n",
    "string = string.lower()\n",
    "letter = letter.lower()\n",
    "count = 0\n",
    "for char in string:\n",
    "    if char == letter:\n",
    "        count = count + 1\n",
    "    else:\n",
    "        continue\n",
    "\n",
    "if count > 0:\n",
    "    print(\"Letter\", letter, \"appears in the string.\")\n",
    "else:\n",
    "    print(\"Letter\", letter, \"does not appear in the string.\")"
   ]
  },
  {
   "cell_type": "code",
   "execution_count": null,
   "id": "7b5d5540",
   "metadata": {},
   "outputs": [],
   "source": [
    "#B\n",
    "string = input(\"Enter a string: \")\n",
    "letter = input(\"Enter a letter: \")\n",
    "string = string.lower()\n",
    "letter = letter.lower()\n",
    "count = string.count(letter)\n",
    "print(\"Letter\", letter, \"appears in the string\", count, \"times.\")"
   ]
  },
  {
   "cell_type": "code",
   "execution_count": null,
   "id": "1ccc567d",
   "metadata": {},
   "outputs": [],
   "source": [
    "#C\n",
    "string = input(\"Enter a string: \")\n",
    "letter = input(\"Enter a letter: \")\n",
    "string = string.lower()\n",
    "letter = letter.lower()\n",
    "count = -1\n",
    "if letter in string:\n",
    "    for char in string:\n",
    "        if char == letter:\n",
    "            count = count + 1\n",
    "            print(\"Letter\", letter, \"is in the index\", count, \"of the string.\")\n",
    "            break\n",
    "        else:\n",
    "            count = count + 1\n",
    "else:\n",
    "    print(\"Letter\", letter, \"is not in the string.\")"
   ]
  },
  {
   "cell_type": "markdown",
   "id": "7736ceaf",
   "metadata": {},
   "source": [
    "19. Write a program that asks the user for a large integer and inserts commas into it according\n",
    "to the standard American convention for commas in large numbers. For instance, if the user\n",
    "enters 1000000, the output should be 1,000,000."
   ]
  },
  {
   "cell_type": "code",
   "execution_count": null,
   "id": "4b3374a4",
   "metadata": {},
   "outputs": [],
   "source": [
    "num = input(\"Enter a large number: \")\n",
    "if len(num) <= 3:\n",
    "    print(num)\n",
    "else:\n",
    "    mod = len(num)%3\n",
    "    if mod == 0: \n",
    "        print(num[0:3], end = \"\")\n",
    "        for i in range(3, len(num), 3):\n",
    "            print(\",\"+num[i:i+3], end = \"\")\n",
    "    else:\n",
    "        print(num[0:mod], end = \"\")\n",
    "        for i in range(mod, len(num), 3):\n",
    "            print(\",\"+num[i:i+3], end = \"\")"
   ]
  },
  {
   "cell_type": "markdown",
   "id": "9dff8913",
   "metadata": {},
   "source": [
    "20. Write a program that converts a time from one time zone to another. The user enters the time\n",
    "in the usual American way, such as 3:48pm or 11:26am. The first time zone the user enters\n",
    "is that of the original time and the second is the desired time zone. The possible time zones\n",
    "are Eastern, Central, Mountain, or Pacific."
   ]
  },
  {
   "cell_type": "code",
   "execution_count": null,
   "id": "49852f52",
   "metadata": {},
   "outputs": [],
   "source": [
    "time = input(\"Time: \")\n",
    "start = input(\"Starting Zone: \")\n",
    "end = input(\"Ending Zone: \")\n",
    "\n",
    "if \"am\" in time:\n",
    "    am_pm = \"am\"\n",
    "    time = time.replace(\"am\", \"\")\n",
    "    split = time.split(\":\")\n",
    "    hour = int(split[0])\n",
    "    minute = int(split[1])\n",
    "elif \"pm\" in time:\n",
    "    am_pm = \"pm\"\n",
    "    time = time.replace(\"pm\", \"\")\n",
    "    split = time.split(\":\")\n",
    "    hour = int(split[0])\n",
    "    minute = int(split[1])\n",
    "else:\n",
    "    print(\"Invalid Input!\")\n",
    "\n",
    "    \n",
    "if start == \"Eastern\":\n",
    "    if end == \"Central\":\n",
    "        new_hour = (hour - 1)%12\n",
    "        if hour - 1 < 0:\n",
    "            if am_pm == \"am\":\n",
    "                 print(str(new_hour)+\":\"+str(minute)+\"pm\")\n",
    "            else:\n",
    "                print(str(new_hour)+\":\"+str(minute)+\"am\")\n",
    "        elif hour - 1 == 0:\n",
    "            if am_pm == \"am\":\n",
    "                 print(\"12\"+\":\"+str(minute)+\"pm\")\n",
    "            else:\n",
    "                print(\"12\"+\":\"+str(minute)+\"am\")  \n",
    "        else:\n",
    "            if am_pm == \"pm\":\n",
    "                print(str(new_hour)+\":\"+str(minute)+\"pm\")\n",
    "            else:\n",
    "                print(str(new_hour)+\":\"+str(minute)+\"am\")\n",
    "                \n",
    "    elif end == \"Mountain\":\n",
    "        new_hour = (hour - 2)%12\n",
    "        if hour - 2 < 0:\n",
    "            if am_pm == \"am\":\n",
    "                 print(str(new_hour)+\":\"+str(minute)+\"pm\")\n",
    "            else:\n",
    "                print(str(new_hour)+\":\"+str(minute)+\"am\")\n",
    "        elif hour - 2 == 0:\n",
    "            if am_pm == \"am\":\n",
    "                 print(\"12\"+\":\"+str(minute)+\"pm\")\n",
    "            else:\n",
    "                print(\"12\"+\":\"+str(minute)+\"am\")  \n",
    "        else:\n",
    "            if am_pm == \"pm\":\n",
    "                print(str(new_hour)+\":\"+str(minute)+\"pm\")\n",
    "            else:\n",
    "                print(str(new_hour)+\":\"+str(minute)+\"am\")\n",
    "        \n",
    "    elif end == \"Pacific\":\n",
    "        new_hour = (hour - 3)%12\n",
    "        if hour - 3 < 0:\n",
    "            if am_pm == \"am\":\n",
    "                 print(str(new_hour)+\":\"+str(minute)+\"pm\")\n",
    "            else:\n",
    "                print(str(new_hour)+\":\"+str(minute)+\"am\")\n",
    "        elif hour - 3 == 0:\n",
    "            if am_pm == \"am\":\n",
    "                 print(\"12\"+\":\"+str(minute)+\"pm\")\n",
    "            else:\n",
    "                print(\"12\"+\":\"+str(minute)+\"am\")  \n",
    "        else:\n",
    "            if am_pm == \"pm\":\n",
    "                print(str(new_hour)+\":\"+str(minute)+\"pm\")\n",
    "            else:\n",
    "                print(str(new_hour)+\":\"+str(minute)+\"am\")\n",
    "    else:\n",
    "        print(\"Invalid Input!\")\n",
    "\n",
    "elif start == \"Central\":\n",
    "    if end == \"Eastern\":\n",
    "        new_hour = (hour + 1)%12\n",
    "        if hour + 1 > 12:\n",
    "            if am_pm == \"am\":\n",
    "                 print(str(new_hour)+\":\"+str(minute)+\"pm\")\n",
    "            else:\n",
    "                print(str(new_hour)+\":\"+str(minute)+\"am\")\n",
    "        elif hour + 1 == 12:\n",
    "            if am_pm == \"am\":\n",
    "                 print(\"12\"+\":\"+str(minute)+\"pm\")\n",
    "            else:\n",
    "                print(\"12\"+\":\"+str(minute)+\"am\")         \n",
    "        else:\n",
    "            if am_pm == \"pm\":\n",
    "                print(str(new_hour)+\":\"+str(minute)+\"pm\")\n",
    "            else:\n",
    "                print(str(new_hour)+\":\"+str(minute)+\"am\")\n",
    "                \n",
    "    elif end == \"Mountain\":\n",
    "        new_hour = (hour - 1)%12\n",
    "        if hour - 1 < 0:\n",
    "            if am_pm == \"am\":\n",
    "                 print(str(new_hour)+\":\"+str(minute)+\"pm\")\n",
    "            else:\n",
    "                print(str(new_hour)+\":\"+str(minute)+\"am\")\n",
    "        elif hour - 1 == 0:\n",
    "            if am_pm == \"am\":\n",
    "                 print(\"12\"+\":\"+str(minute)+\"pm\")\n",
    "            else:\n",
    "                print(\"12\"+\":\"+str(minute)+\"am\")  \n",
    "        else:\n",
    "            if am_pm == \"pm\":\n",
    "                print(str(new_hour)+\":\"+str(minute)+\"pm\")\n",
    "            else:\n",
    "                print(str(new_hour)+\":\"+str(minute)+\"am\")\n",
    "        \n",
    "    elif end == \"Pacific\":\n",
    "        new_hour = (hour - 2)%12\n",
    "        if hour - 2 < 0:\n",
    "            if am_pm == \"am\":\n",
    "                 print(str(new_hour)+\":\"+str(minute)+\"pm\")\n",
    "            else:\n",
    "                print(str(new_hour)+\":\"+str(minute)+\"am\")\n",
    "        elif hour - 2 == 0:\n",
    "            if am_pm == \"am\":\n",
    "                 print(\"12\"+\":\"+str(minute)+\"pm\")\n",
    "            else:\n",
    "                print(\"12\"+\":\"+str(minute)+\"am\")  \n",
    "        else:\n",
    "            if am_pm == \"pm\":\n",
    "                print(str(new_hour)+\":\"+str(minute)+\"pm\")\n",
    "            else:\n",
    "                print(str(new_hour)+\":\"+str(minute)+\"am\")\n",
    "    else:\n",
    "        print(\"Invalid Input!\")\n",
    "\n",
    "elif start == \"Mountain\":\n",
    "    if end == \"Eastern\":\n",
    "        new_hour = (hour + 2)%12\n",
    "        if hour + 2 > 12:\n",
    "            if am_pm == \"am\":\n",
    "                 print(str(new_hour)+\":\"+str(minute)+\"pm\")\n",
    "            else:\n",
    "                print(str(new_hour)+\":\"+str(minute)+\"am\")\n",
    "        elif hour + 2 == 12:\n",
    "            if am_pm == \"am\":\n",
    "                 print(\"12\"+\":\"+str(minute)+\"pm\")\n",
    "            else:\n",
    "                print(\"12\"+\":\"+str(minute)+\"am\")  \n",
    "        else:\n",
    "            if am_pm == \"pm\":\n",
    "                print(str(new_hour)+\":\"+str(minute)+\"pm\")\n",
    "            else:\n",
    "                print(str(new_hour)+\":\"+str(minute)+\"am\")\n",
    "                \n",
    "    elif end == \"Central\":\n",
    "        new_hour = (hour + 1)%12\n",
    "        if hour + 1 > 12:\n",
    "            if am_pm == \"am\":\n",
    "                 print(str(new_hour)+\":\"+str(minute)+\"pm\")\n",
    "            else:\n",
    "                print(str(new_hour)+\":\"+str(minute)+\"am\")\n",
    "        elif hour + 1 == 12:\n",
    "            if am_pm == \"am\":\n",
    "                 print(\"12\"+\":\"+str(minute)+\"pm\")\n",
    "            else:\n",
    "                print(\"12\"+\":\"+str(minute)+\"am\")  \n",
    "        else:\n",
    "            if am_pm == \"pm\":\n",
    "                print(str(new_hour)+\":\"+str(minute)+\"pm\")\n",
    "            else:\n",
    "                print(str(new_hour)+\":\"+str(minute)+\"am\")\n",
    "        \n",
    "    elif end == \"Pacific\":\n",
    "        new_hour = (hour - 1)%12\n",
    "        if hour - 1 < 0:\n",
    "            if am_pm == \"am\":\n",
    "                 print(str(new_hour)+\":\"+str(minute)+\"pm\")\n",
    "            else:\n",
    "                print(str(new_hour)+\":\"+str(minute)+\"am\")\n",
    "        elif hour - 1 == 0:\n",
    "            if am_pm == \"am\":\n",
    "                 print(\"12\"+\":\"+str(minute)+\"pm\")\n",
    "            else:\n",
    "                print(\"12\"+\":\"+str(minute)+\"am\")  \n",
    "        else:\n",
    "            if am_pm == \"pm\":\n",
    "                print(str(new_hour)+\":\"+str(minute)+\"pm\")\n",
    "            else:\n",
    "                print(str(new_hour)+\":\"+str(minute)+\"am\")\n",
    "                \n",
    "    else:\n",
    "        print(\"Invalid Input!\")\n",
    "\n",
    "elif start == \"Pacific\":\n",
    "    if end == \"Eastern\":\n",
    "        new_hour = (hour + 3)%12\n",
    "        if hour + 3 > 12:\n",
    "            if am_pm == \"am\":\n",
    "                 print(str(new_hour)+\":\"+str(minute)+\"pm\")\n",
    "            else:\n",
    "                print(str(new_hour)+\":\"+str(minute)+\"am\")\n",
    "        elif hour + 3 == 12:\n",
    "            if am_pm == \"am\":\n",
    "                 print(\"12\"+\":\"+str(minute)+\"pm\")\n",
    "            else:\n",
    "                print(\"12\"+\":\"+str(minute)+\"am\")  \n",
    "        else:\n",
    "            if am_pm == \"pm\":\n",
    "                print(str(new_hour)+\":\"+str(minute)+\"pm\")\n",
    "            else:\n",
    "                print(str(new_hour)+\":\"+str(minute)+\"am\")\n",
    "                \n",
    "    elif end == \"Central\":\n",
    "        new_hour = (hour + 2)%12\n",
    "        if hour + 2 > 12:\n",
    "            if am_pm == \"am\":\n",
    "                 print(str(new_hour)+\":\"+str(minute)+\"pm\")\n",
    "            else:\n",
    "                print(str(new_hour)+\":\"+str(minute)+\"am\")         \n",
    "        elif hour + 2 == 12:\n",
    "            if am_pm == \"am\":\n",
    "                 print(\"12\"+\":\"+str(minute)+\"pm\")\n",
    "            else:\n",
    "                print(\"12\"+\":\"+str(minute)+\"am\")  \n",
    "        else:\n",
    "            if am_pm == \"pm\":\n",
    "                print(str(new_hour)+\":\"+str(minute)+\"pm\")\n",
    "            else:\n",
    "                print(str(new_hour)+\":\"+str(minute)+\"am\")\n",
    "        \n",
    "    elif end == \"Mountain\":\n",
    "        new_hour = (hour + 1)%12\n",
    "        if hour + 1 > 12:\n",
    "            if am_pm == \"am\":\n",
    "                 print(str(new_hour)+\":\"+str(minute)+\"pm\")\n",
    "            else:\n",
    "                print(str(new_hour)+\":\"+str(minute)+\"am\")\n",
    "        elif hour + 1 == 12:\n",
    "            if am_pm == \"am\":\n",
    "                 print(\"12\"+\":\"+str(minute)+\"pm\")\n",
    "            else:\n",
    "                print(\"12\"+\":\"+str(minute)+\"am\")  \n",
    "        else:\n",
    "            if am_pm == \"pm\":\n",
    "                print(str(new_hour)+\":\"+str(minute)+\"pm\")\n",
    "            else:\n",
    "                print(str(new_hour)+\":\"+str(minute)+\"am\")\n",
    "    else:\n",
    "        print(\"Invalid Input!\")      \n",
    "else:\n",
    "    print(\"Invalid Input!\")"
   ]
  },
  {
   "cell_type": "markdown",
   "id": "74047158",
   "metadata": {},
   "source": [
    "21. An anagram of a word is a word that is created by rearranging the letters of the original.\n",
    "For instance, two anagrams of idle are deli and lied. Finding anagrams that are real words is\n",
    "beyond our reach until Chapter 12. Instead, write a program that asks the user for a string\n",
    "and returns a random anagram of the string—in other words, a random rearrangement of the\n",
    "letters of that string"
   ]
  },
  {
   "cell_type": "code",
   "execution_count": null,
   "id": "8286807a",
   "metadata": {
    "scrolled": true
   },
   "outputs": [],
   "source": [
    "from random import randint\n",
    "import random\n",
    "word = input(\"Enter a word: \")\n",
    "length = len(word)\n",
    "letters = list(word)\n",
    "random.shuffle(letters)\n",
    "print(\"Anagram:\", end = \" \")\n",
    "for i in range(length):\n",
    "    print(letters[i], end = \"\")"
   ]
  },
  {
   "cell_type": "markdown",
   "id": "8a0e9370",
   "metadata": {},
   "source": [
    "22. A simple way of encrypting a message is to rearrange its characters. One way to rearrange the\n",
    "characters is to pick out the characters at even indices, put them first in the encrypted string,\n",
    "and follow them by the odd characters. For example, the string message would be encrypted\n",
    "as msaeesg because the even characters are m, s, a, e (at indices 0, 2, 4, and 6) and the odd\n",
    "characters are e, s, g (at indices 1, 3, and 5). $\\newline$\n",
    "(a) Write a program that asks the user for a string and uses this method to encrypt the string. $\\newline$\n",
    "(b) Write a program that decrypts a string that was encrypted with this method."
   ]
  },
  {
   "cell_type": "code",
   "execution_count": null,
   "id": "9bc93f8a",
   "metadata": {
    "scrolled": true
   },
   "outputs": [],
   "source": [
    "#A\n",
    "string = input(\"Enter a string: \")\n",
    "length = len(string)\n",
    "for i in range(2):\n",
    "    for j in range(i, length, 2):\n",
    "        print(string[j], end = \"\")"
   ]
  },
  {
   "cell_type": "code",
   "execution_count": null,
   "id": "3e520d40",
   "metadata": {
    "scrolled": true
   },
   "outputs": [],
   "source": [
    "#B\n",
    "from math import ceil, floor\n",
    "string = input(\"Enter a encrypt message: \")\n",
    "half = (len(string)/2)\n",
    "ceil = ceil(half)\n",
    "if len(string)%2 == 1:\n",
    "    for i in range(0, ceil-1):\n",
    "        print(string[i]+string[i+ceil], end = \"\")\n",
    "    print(string[ceil-1])\n",
    "elif len(string)%2 == 0:\n",
    "    for i in range(int(half)):\n",
    "        print(string[i]+string[(i+int(half))], end = \"\")\n",
    "    "
   ]
  },
  {
   "cell_type": "markdown",
   "id": "8b16dd3d",
   "metadata": {},
   "source": [
    "23. A more general version of the above technique is the rail fence cipher, where instead of breaking things into evens and odds, they are broken up by threes, fours or something larger. For\n",
    "instance, in the case of threes, the string secret message would be broken into three groups. The\n",
    "first group is sr sg, the characters at indices 0, 3, 6, 9 and 12. The second group is eemse, the\n",
    "characters at indices 1, 4, 7, 10, and 13. The last group is ctea, the characters at indices 2, 5, 8,\n",
    "and 11. The encrypted message is sr sgeemsectea. $\\newline$\n",
    "(a) Write a program the asks the user for a string and uses the rail fence cipher in the threes\n",
    "case to encrypt the string.$\\newline$\n",
    "(b) Write a decryption program for the threes case.$\\newline$\n",
    "(c) Write a program that asks the user for a string, and an integer determining whether to\n",
    "break things up by threes, fours, or whatever. Encrypt the string using the rail-fence\n",
    "cipher.$\\newline$\n",
    "(d) Write a decryption program for the general case."
   ]
  },
  {
   "cell_type": "code",
   "execution_count": null,
   "id": "95911b03",
   "metadata": {
    "scrolled": true
   },
   "outputs": [],
   "source": [
    "string = input(\"Enter a string: \")\n",
    "integer = eval(input(\"Enter an integer(3 or 4): \"))\n",
    "length = len(string)\n",
    "for i in range(integer):\n",
    "    for j in range(i, length, integer):\n",
    "        print(string[j], end = \"\")"
   ]
  },
  {
   "cell_type": "code",
   "execution_count": null,
   "id": "bffde37b",
   "metadata": {
    "scrolled": true
   },
   "outputs": [],
   "source": [
    "string = input(\"Enter an encrypted string: \")\n",
    "integer = eval(input(\"Enter an integer(3 or 4): \"))\n",
    "modulo = len(string)%integer\n",
    "length = len(string)\n",
    "int_mod = length//integer\n",
    "\n",
    "if integer == 3:\n",
    "    if modulo == 2:\n",
    "        for i in range(int_mod):\n",
    "            print(string[i]+string[i+int_mod+1]+string[i+2*int_mod+2], end = \"\")\n",
    "        print(string[int_mod]+string[2*int_mod+1])\n",
    "    elif modulo == 1:\n",
    "        for i in range(int_mod):\n",
    "            print(string[i]+string[i+int_mod+1]+string[i+2*int_mod+1], end = \"\")\n",
    "        print(string[int_mod])\n",
    "    else:\n",
    "        for i in range(int_mod):\n",
    "            print(string[i]+string[i+int_mod]+string[i+2*int_mod], end = \"\")\n",
    "elif integer == 4:\n",
    "    if modulo == 3:\n",
    "        for i in range(int_mod):\n",
    "            print(string[i]+string[i+int_mod+1]+string[i+2*int_mod+2]+string[i+3*int_mod+3], end = \"\")\n",
    "        print(string[int_mod]+string[2*int_mod+1]+string[3*int_mod+2])\n",
    "    elif modulo == 2:\n",
    "        for i in range(int_mod):\n",
    "            print(string[i]+string[i+int_mod+1]+string[i+2*int_mod+2]+string[i+3*int_mod+2], end = \"\")\n",
    "        print(string[int_mod]+string[2*int_mod+1])\n",
    "    elif modulo == 1:\n",
    "        for i in range(int_mod):\n",
    "            print(string[i]+string[i+int_mod+1]+string[i+2*int_mod+1]+string[i+3*int_mod+1], end = \"\")\n",
    "        print(string[int_mod])\n",
    "    else:\n",
    "        for i in range(int_mod):\n",
    "            print(string[i]+string[i+int_mod]+string[i+2*int_mod], end = \"\")"
   ]
  },
  {
   "cell_type": "markdown",
   "id": "670d4bbc",
   "metadata": {},
   "source": [
    "24. In calculus, the derivative of $x^4$ is $4x^3$. The derivative of $x^5$ is $5x^4$. The derivative of $x^6$ is $6x^5$. This pattern continues. Write a program that asks the user for input like x^3 or x^25\n",
    "and prints the derivative. For example, if the user enters x^3, the program should print out\n",
    "3x^2."
   ]
  },
  {
   "cell_type": "code",
   "execution_count": null,
   "id": "316a604b",
   "metadata": {
    "scrolled": true
   },
   "outputs": [],
   "source": [
    "exp = input(\"Enter an expression: \")\n",
    "exp_list = exp.split(\"^\")\n",
    "var = exp_list[0]\n",
    "expo = exp_list[1]\n",
    "expo = int(expo)\n",
    "print(\"Derivative:\", str(expo)+\"*\"+var+\"^\"+str(expo-1))"
   ]
  },
  {
   "cell_type": "markdown",
   "id": "a4a63a27",
   "metadata": {},
   "source": [
    "25. In algebraic expressions, the symbol for multiplication is often left out, as in 3x+4y or 3(x+5).\n",
    "Computers prefer those expressions to include the multiplication symbol, like $3*x+4*y$ or\n",
    "$3*(x+5)$. Write a program that asks the user for an algebraic expression and then inserts\n",
    "multiplication symbols where appropriate."
   ]
  },
  {
   "cell_type": "code",
   "execution_count": null,
   "id": "b6f46e36",
   "metadata": {
    "scrolled": false
   },
   "outputs": [],
   "source": [
    "eq = input(\"Enter an equation: \")\n",
    "eq_list = list(eq)\n",
    "x = 0  \n",
    "for j in range(0, len(eq)):\n",
    "    if eq[j] == \"(\":\n",
    "        eq_list.insert(j+x, \"*\")\n",
    "        x = x + 1\n",
    "    elif eq[j].isalpha():\n",
    "        eq_list.insert(j+x, \"*\")\n",
    "        x = x + 1\n",
    "\n",
    "print(\"Equation:\", end = \" \")\n",
    "for i in eq_list:\n",
    "    print(i, end =\"\")"
   ]
  }
 ],
 "metadata": {
  "kernelspec": {
   "display_name": "Python 3 (ipykernel)",
   "language": "python",
   "name": "python3"
  },
  "language_info": {
   "codemirror_mode": {
    "name": "ipython",
    "version": 3
   },
   "file_extension": ".py",
   "mimetype": "text/x-python",
   "name": "python",
   "nbconvert_exporter": "python",
   "pygments_lexer": "ipython3",
   "version": "3.9.7"
  }
 },
 "nbformat": 4,
 "nbformat_minor": 5
}
