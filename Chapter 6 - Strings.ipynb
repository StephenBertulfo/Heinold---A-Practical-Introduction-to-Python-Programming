{
 "cells": [
  {
   "cell_type": "markdown",
   "id": "7c65b35f",
   "metadata": {},
   "source": [
    "# Exercises "
   ]
  },
  {
   "cell_type": "markdown",
   "id": "6579ce7c",
   "metadata": {},
   "source": [
    "1. Write a program that asks the user to enter a string. The program should then print the\n",
    "following: $\\newline$\n",
    "(a) The total number of characters in the string $\\newline$\n",
    "(b) The string repeated 10 times $\\newline$\n",
    "(c) The first character of the string (remember that string indices start at 0) $\\newline$\n",
    "(d) The first three characters of the string $\\newline$\n",
    "(e) The last three characters of the string$\\newline$\n",
    "(f) The string backwards$\\newline$\n",
    "(g) The seventh character of the string if the string is long enough and a message otherwise$\\newline$\n",
    "(h) The string with its first and last characters removed$\\newline$\n",
    "(i) The string in all caps$\\newline$\n",
    "(j) The string with every a replaced with an e$\\newline$\n",
    "(k) The string with every letter replaced by a space"
   ]
  },
  {
   "cell_type": "code",
   "execution_count": 35,
   "id": "5d4e2a6e",
   "metadata": {
    "scrolled": true
   },
   "outputs": [
    {
     "name": "stdout",
     "output_type": "stream",
     "text": [
      "Enter a string: Stephen\n",
      "A. Length: 7\n",
      "B.\n",
      "Stephen\n",
      "Stephen\n",
      "Stephen\n",
      "Stephen\n",
      "Stephen\n",
      "Stephen\n",
      "Stephen\n",
      "Stephen\n",
      "Stephen\n",
      "Stephen\n",
      "C. First character of the string: S\n",
      "D. First three character of the string: Ste\n",
      "E. Last three character of the string: hen\n",
      "F. string backwards: nehpetS\n",
      "G. Seventh character of the string: n\n",
      "H. String with its first and last characters removed: tephe\n",
      "I. String in all caps: STEPHEN\n",
      "J. String with every a replaced with an e: Stephen\n",
      "K. String with every letter replaced by a space: .......\n"
     ]
    }
   ],
   "source": [
    "string = input(\"Enter a string: \")\n",
    "print(\"A. Length:\", len(string))\n",
    "print(\"B.\")\n",
    "for i in range(10):\n",
    "    print(string)\n",
    "print(\"C. First character of the string:\", string[0])\n",
    "print(\"D. First three character of the string:\", string[0:3])\n",
    "print(\"E. Last three character of the string:\", string[len(string)-3:len(string)])\n",
    "print(\"F. string backwards: \", end = \"\")\n",
    "for i in range(len(string)-1, -1, -1):\n",
    "    print(string[i], end = \"\")\n",
    "print(\"\")\n",
    "if len(string) >= 7:\n",
    "    print(\"G. Seventh character of the string:\", string[6])\n",
    "else:\n",
    "    print(\"G. The string is not long enough.\")\n",
    "print(\"H. String with its first and last characters removed:\", string[1:len(string)-1])\n",
    "print(\"I. String in all caps:\", string.upper())\n",
    "string = string.replace(\"a\", \"e\")\n",
    "string = string.replace(\"A\", \"E\")\n",
    "print(\"J. String with every a replaced with an e:\", string)\n",
    "for i in range(0,len(string)):\n",
    "    if string[i].isalpha():\n",
    "        string = string.replace(string[i], \" \")\n",
    "print(\"K. String with every letter replaced by a space:\", string)"
   ]
  },
  {
   "cell_type": "markdown",
   "id": "f2d2f727",
   "metadata": {},
   "source": [
    "2. A simple way to estimate the number of words in a string is to count the number of spaces\n",
    "in the string. Write a program that asks the user for a string and returns an estimate of how\n",
    "many words are in the string."
   ]
  },
  {
   "cell_type": "code",
   "execution_count": 45,
   "id": "ed1f284c",
   "metadata": {},
   "outputs": [
    {
     "name": "stdout",
     "output_type": "stream",
     "text": [
      "Enter a string: Stephen Joshua Bertulfo \n",
      "Total number of words: 3\n"
     ]
    }
   ],
   "source": [
    "string = input(\"Enter a string: \")\n",
    "words = string.split()\n",
    "print(\"Total number of words:\", len(words))"
   ]
  },
  {
   "cell_type": "markdown",
   "id": "e54eaee7",
   "metadata": {},
   "source": [
    "3. People often forget closing parentheses when entering formulas. Write a program that asks\n",
    "the user to enter a formula and prints out whether the formula has the same number of opening and closing parentheses."
   ]
  },
  {
   "cell_type": "code",
   "execution_count": 49,
   "id": "60a7a8c3",
   "metadata": {},
   "outputs": [
    {
     "name": "stdout",
     "output_type": "stream",
     "text": [
      "Enter a formula with open and close parentheses: (2x+y)/(3x+2y)*()()((\n",
      "The formula have not the same number open and close parentheses.\n",
      "Number of open parentheses: 6\n",
      "Number of close parentheses: 4\n"
     ]
    }
   ],
   "source": [
    "formula = input(\"Enter a formula with open and close parentheses: \")\n",
    "opening = formula.count(\"(\")\n",
    "closing = formula.count(\")\")\n",
    "if opening == closing:\n",
    "    print(\"The formula have the same number open and close parentheses.\")\n",
    "else:\n",
    "    print(\"The formula have not the same number open and close parentheses.\")\n",
    "print(\"Number of open parentheses:\", opening)\n",
    "print(\"Number of close parentheses:\", closing)"
   ]
  },
  {
   "cell_type": "markdown",
   "id": "7dcd5961",
   "metadata": {},
   "source": [
    "4. Write a program that asks the user to enter a word and prints out whether that word contains\n",
    "any vowels."
   ]
  },
  {
   "cell_type": "code",
   "execution_count": 52,
   "id": "336729f2",
   "metadata": {},
   "outputs": [
    {
     "name": "stdout",
     "output_type": "stream",
     "text": [
      "Enter a word: qwrtyp\n",
      "The word does not contains a vowel.\n"
     ]
    }
   ],
   "source": [
    "string = input(\"Enter a word: \")\n",
    "count = 0\n",
    "for char in string:\n",
    "    if char.lower() in (\"a\", \"e\", \"i\", \"o\", \"u\"):\n",
    "        count = count + 1\n",
    "    elif char.upper() in (\"A\", \"E\", \"I\", \"O\", \"U\"):\n",
    "        count = count + 1\n",
    "    else:\n",
    "        continue\n",
    "\n",
    "if count > 0:\n",
    "    print(\"The word contains a vowel.\")\n",
    "else:\n",
    "    print(\"The word does not contains a vowel.\")"
   ]
  },
  {
   "cell_type": "markdown",
   "id": "813dcc5d",
   "metadata": {},
   "source": [
    "5. Write a program that asks the user to enter a string. The program should create a new string\n",
    "called new_string from the user’s string such that the second character is changed to an\n",
    "asterisk and three exclamation points are attached to the end of the string. Finally, print\n",
    "new_string. Typical output is shown below:"
   ]
  },
  {
   "cell_type": "code",
   "execution_count": 54,
   "id": "6e49f4b8",
   "metadata": {},
   "outputs": [
    {
     "name": "stdout",
     "output_type": "stream",
     "text": [
      "Enter a string: Stephen\n",
      "New String: S*ephen!!!\n"
     ]
    }
   ],
   "source": [
    "string = input(\"Enter a string: \")\n",
    "new_string = string.replace(string[1],\"*\")+\"!!!\"\n",
    "print(\"New String:\", new_string)"
   ]
  },
  {
   "cell_type": "markdown",
   "id": "275381d2",
   "metadata": {},
   "source": [
    "6. Write a program that asks the user to enter a string s and then converts s to lowercase, removes all the periods and commas from s, and prints the resulting string."
   ]
  },
  {
   "cell_type": "code",
   "execution_count": 56,
   "id": "10183b26",
   "metadata": {
    "scrolled": true
   },
   "outputs": [
    {
     "name": "stdout",
     "output_type": "stream",
     "text": [
      "Enter a string with periods, commas and uppercases: Stephen,,,... Joshua.  Bertulfo. ,.,\n",
      "New String stephen joshua  bertulfo \n"
     ]
    }
   ],
   "source": [
    "s = input(\"Enter a string with periods, commas and uppercases: \")\n",
    "s = s.lower()\n",
    "s = s.replace(\".\", \"\")\n",
    "s = s.replace(\",\", \"\")\n",
    "print(\"New String:\", s)"
   ]
  },
  {
   "cell_type": "markdown",
   "id": "4759a131",
   "metadata": {},
   "source": [
    "7. Write a program that asks the user to enter a word and determines whether the word is a\n",
    "palindrome or not. A palindrome is a word that reads the same backwards as forwards."
   ]
  },
  {
   "cell_type": "code",
   "execution_count": 66,
   "id": "09406f7c",
   "metadata": {
    "scrolled": true
   },
   "outputs": [
    {
     "name": "stdout",
     "output_type": "stream",
     "text": [
      "Enter a word: Radar\n",
      "The word is a palindrome.\n"
     ]
    }
   ],
   "source": [
    "word = input(\"Enter a word: \")\n",
    "word = word.lower()\n",
    "reverse = \"\"\n",
    "for i in range(len(word)-1, -1, -1):\n",
    "    reverse = reverse + word[i]\n",
    "if word == reverse:\n",
    "    print(\"The word is a palindrome.\")\n",
    "else:\n",
    "    print(\"The word is not a palindrome\")"
   ]
  },
  {
   "cell_type": "markdown",
   "id": "eacf00a2",
   "metadata": {},
   "source": [
    "8. At a certain school, student email addresses end with @student.college.edu, while professor email addresses end with @prof.college.edu. Write a program that first asks the\n",
    "user how many email addresses they will be entering, and then has the user enter those addresses. After all the email addresses are entered, the program should print out a message\n",
    "indicating either that all the addresses are student addresses or that there were some professor addresses entered."
   ]
  },
  {
   "cell_type": "code",
   "execution_count": 80,
   "id": "2c35146c",
   "metadata": {
    "scrolled": false
   },
   "outputs": [
    {
     "name": "stdout",
     "output_type": "stream",
     "text": [
      "Enter how many email do you want to enter: 3\n",
      "Email 1: Enter an email: stephenjoshua@student.college.edu\n",
      "Email 2: Enter an email: stephenjoshua@student.college.edu\n",
      "Email 3: Enter an email: stephenjoshua@student.college.edu\n",
      "All of the addresses are student addresses.\n"
     ]
    }
   ],
   "source": [
    "num = eval(input(\"Enter how many email do you want to enter: \"))\n",
    "student = 0\n",
    "prof = 0\n",
    "\n",
    "for i in range(1, num+1):\n",
    "    print(\"Email\", i, end = \": \")\n",
    "    email = input(\"Enter an email: \")\n",
    "    email = email.lower()\n",
    "    email = email.split(\"@\")\n",
    "    split = email[1]\n",
    "    if split == \"student.college.edu\":\n",
    "        student = student +1\n",
    "    elif split == \"prof.college.edu\":\n",
    "        prof = prof + 1\n",
    "    else:\n",
    "        print(\"Invalid Input!\")\n",
    "\n",
    "if student == num:\n",
    "    print(\"All of the addresses are student addresses.\")\n",
    "else:\n",
    "    print(\"Some of the addresses are proffesor addresses.\")"
   ]
  },
  {
   "cell_type": "markdown",
   "id": "42c9e4ff",
   "metadata": {},
   "source": [
    "9. Ask the user for a number and then print the following, where the pattern ends at the number\n",
    "that the user enters."
   ]
  },
  {
   "cell_type": "code",
   "execution_count": 84,
   "id": "c54f2871",
   "metadata": {},
   "outputs": [
    {
     "name": "stdout",
     "output_type": "stream",
     "text": [
      "Enter a number: 7\n",
      "1\n",
      " 2\n",
      "  3\n",
      "   4\n",
      "    5\n",
      "     6\n",
      "      7\n"
     ]
    }
   ],
   "source": [
    "num = eval(input(\"Enter a number: \"))\n",
    "for i in range(1, num+1):\n",
    "    print(\" \"*(i-1), i, sep = \"\")"
   ]
  },
  {
   "cell_type": "markdown",
   "id": "a89b9222",
   "metadata": {},
   "source": [
    "10. Write a program that asks the user to enter a string, then prints out each letter of the string\n",
    "doubled and on a separate line. For instance, if the user entered HEY, the output would be"
   ]
  },
  {
   "cell_type": "code",
   "execution_count": 85,
   "id": "99bcce79",
   "metadata": {},
   "outputs": [
    {
     "name": "stdout",
     "output_type": "stream",
     "text": [
      "Enter a string: Stephen\n",
      "SS\n",
      "tt\n",
      "ee\n",
      "pp\n",
      "hh\n",
      "ee\n",
      "nn\n"
     ]
    }
   ],
   "source": [
    "string = input(\"Enter a string: \")\n",
    "for i in range(len(string)):\n",
    "    print(string[i]*2)"
   ]
  },
  {
   "cell_type": "markdown",
   "id": "a90661b6",
   "metadata": {},
   "source": [
    "11. Write a program that asks the user to enter a word that contains the letter a. The program\n",
    "should then print the following two lines: On the first line should be the part of the string up\n",
    "to and including the first a, and on the second line should be the rest of the string. Sample\n",
    "output is shown below:"
   ]
  }
 ],
 "metadata": {
  "kernelspec": {
   "display_name": "Python 3 (ipykernel)",
   "language": "python",
   "name": "python3"
  },
  "language_info": {
   "codemirror_mode": {
    "name": "ipython",
    "version": 3
   },
   "file_extension": ".py",
   "mimetype": "text/x-python",
   "name": "python",
   "nbconvert_exporter": "python",
   "pygments_lexer": "ipython3",
   "version": "3.9.7"
  }
 },
 "nbformat": 4,
 "nbformat_minor": 5
}
