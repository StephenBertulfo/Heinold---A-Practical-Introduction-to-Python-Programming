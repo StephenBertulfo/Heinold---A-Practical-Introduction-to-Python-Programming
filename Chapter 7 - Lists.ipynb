{
 "cells": [
  {
   "cell_type": "markdown",
   "id": "0653f210",
   "metadata": {},
   "source": [
    "# Exercises"
   ]
  },
  {
   "cell_type": "markdown",
   "id": "f52411a1",
   "metadata": {},
   "source": [
    "1. Write a program that asks the user to enter a list of integers. Do the following: $\\newline$\n",
    "(a) Print the total number of items in the list. $\\newline$\n",
    "(b) Print the last item in the list. $\\newline$\n",
    "(c) Print the list in reverse order. $\\newline$\n",
    "(d) Print Yes if the list contains a 5 and No otherwise. $\\newline$\n",
    "(e) Print the number of fives in the list. $\\newline$\n",
    "(f) Remove the first and last items from the list, sort the remaining items, and print the \n",
    "result. $\\newline$\n",
    "(g) Print how many integers in the list are less than 5. $\\newline$"
   ]
  },
  {
   "cell_type": "code",
   "execution_count": null,
   "id": "df71b67f",
   "metadata": {
    "scrolled": false
   },
   "outputs": [],
   "source": [
    "list1 = eval(input(\"Enter a list: \"))\n",
    "greater = 0\n",
    "for items in list1:\n",
    "    if items < 5:\n",
    "        greater = greater + 1\n",
    "print(\"A. Total number of items:\", len(list1))\n",
    "print(\"B. Last item in the list:\", list1[-1])\n",
    "list1.reverse()\n",
    "print(\"C. List in reverse order:\", list1)\n",
    "if list1.count(5) > 0:\n",
    "    print(\"D. Does list contains a 5: Yes\")\n",
    "else:\n",
    "    print(\"D. Does list contains a 5: No\")\n",
    "\n",
    "count = list1.count(5)\n",
    "print(\"E. Number of fives in the list:\", count)\n",
    "list1.pop(0)\n",
    "list1.pop(-1)\n",
    "list1.sort()\n",
    "print(\"F. Remove first and last item and sort the list:\", list1)\n",
    "print(\"G. Number of items in list less than 5:\", greater)"
   ]
  },
  {
   "cell_type": "markdown",
   "id": "4365d5c3",
   "metadata": {},
   "source": [
    "2. Write a program that generates a list of 20 random numbers between 1 and 100. $\\newline$\n",
    "(a) Print the list. $\\newline$\n",
    "(b) Print the average of the elements in the list. $\\newline$\n",
    "(c) Print the largest and smallest values in the list. $\\newline$\n",
    "(d) Print the second largest and second smallest entries in the list $\\newline$\n",
    "(e) Print how many even numbers are in the list."
   ]
  },
  {
   "cell_type": "code",
   "execution_count": null,
   "id": "a56fdde3",
   "metadata": {},
   "outputs": [],
   "source": [
    "from random import randint\n",
    "list1 = []\n",
    "for i in range(20):\n",
    "    x = randint(1,100)\n",
    "    list1.append(x)\n",
    "print(\"A. List:\", list1)\n",
    "total = 0\n",
    "for items in list1:\n",
    "    total = total + items\n",
    "average = total/20\n",
    "print(\"B. Average:\", average)\n",
    "list1.sort()\n",
    "print(\"C. \\nLargest value:\", list1[-1])\n",
    "print(\"Smallest value:\", list1[0])\n",
    "print(\"D. \\nSecond largest number:\", list1[-2])\n",
    "print(\"Second smallest number:\", list1[1])\n",
    "count = 0\n",
    "for item in list1:\n",
    "    if item%2 == 0:\n",
    "        count = count + 1\n",
    "print(\"E. Total number of even numbers in the list:\", count)"
   ]
  },
  {
   "cell_type": "markdown",
   "id": "76df4d17",
   "metadata": {},
   "source": [
    "3. Start with the list [8,9,10]. Do the following: $\\newline$\n",
    "(a) Set the second entry (index 1) to 17$\\newline$\n",
    "(b) Add 4, 5, and 6 to the end of the list$\\newline$\n",
    "(c) Remove the first entry from the list$\\newline$\n",
    "(d) Sort the list$\\newline$\n",
    "(e) Double the list$\\newline$\n",
    "(f) Insert 25 at index 3$\\newline$\n",
    "The final list should equal [4,5,6,25,10,17,4,5,6,10,17]"
   ]
  },
  {
   "cell_type": "code",
   "execution_count": null,
   "id": "bbdb08a8",
   "metadata": {},
   "outputs": [],
   "source": [
    "list1 = [8, 9, 10]\n",
    "list1[1] = 17\n",
    "list1 = list1 + [4, 5, 6]\n",
    "list1.pop(0)\n",
    "list1.sort()\n",
    "list1 = list1*2\n",
    "list1.insert(3, 25)\n",
    "print(list1)"
   ]
  },
  {
   "cell_type": "markdown",
   "id": "350ae687",
   "metadata": {},
   "source": [
    "4. Ask the user to enter a list containing numbers between 1 and 12. Then replace all of the\n",
    "entries in the list that are greater than 10 with 10."
   ]
  },
  {
   "cell_type": "code",
   "execution_count": null,
   "id": "dec7ab70",
   "metadata": {},
   "outputs": [],
   "source": [
    "list1 = eval(input(\"Enter a list containing numbers between 1 to 12: \"))\n",
    "for item in list1:\n",
    "    if item > 10:\n",
    "        index = list1.index(item)\n",
    "        list1.insert(index, 10)\n",
    "        list1.pop(index+1)\n",
    "print(list1)"
   ]
  },
  {
   "cell_type": "markdown",
   "id": "1eea3132",
   "metadata": {},
   "source": [
    "5. Ask the user to enter a list of strings. Create a new list that consists of those strings with their\n",
    "first characters removed."
   ]
  },
  {
   "cell_type": "code",
   "execution_count": null,
   "id": "13181c08",
   "metadata": {
    "scrolled": true
   },
   "outputs": [],
   "source": [
    "string = eval(input(\"Enter a list of string: \"))\n",
    "new_string1 = []\n",
    "for items in string:\n",
    "    item = list(items)\n",
    "    item.pop(0)\n",
    "    new_string = \"\"\n",
    "    for i in item:\n",
    "        new_string = new_string + i\n",
    "    new_string1 = new_string1 + [new_string]\n",
    "print(new_string1)"
   ]
  },
  {
   "cell_type": "markdown",
   "id": "2ebd1d56",
   "metadata": {},
   "source": [
    "6. Create the following lists using a for loop. $\\newline$\n",
    "(a) A list consisting of the integers 0 through 49$\\newline$\n",
    "(b) A list containing the squares of the integers 1 through 50.$\\newline$\n",
    "(c) The list ['a','bb','ccc','dddd', . . . ] that ends with 26 copies of the letter z."
   ]
  },
  {
   "cell_type": "code",
   "execution_count": null,
   "id": "21f02b49",
   "metadata": {},
   "outputs": [],
   "source": [
    "numbers = []\n",
    "for i in range(0,50):\n",
    "    numbers = numbers + [i]\n",
    "print(\"A. List of numbers from 0 to 59:\", numbers)\n",
    "square = []\n",
    "for j in range(1,51):\n",
    "    sqr = j*j\n",
    "    square = square + [sqr]\n",
    "print(\"B. List containing the square of the integers 1 through 50:\", square)\n",
    "alpha = ['a', 'b', 'c', 'd', 'e', 'f', 'g', 'h', 'i', 'j', 'k', 'l', 'm', 'n', 'o', 'p', 'q', 'r', 's', 't', 'u', 'v', 'w', 'x', 'y', 'z']\n",
    "new_alpha = []\n",
    "x = 1\n",
    "for i in range(0, len(alpha)):\n",
    "    x = i+1\n",
    "    new_alpha1 = alpha[i]*x\n",
    "    new_alpha.append(new_alpha1)\n",
    "print(\"C.  list ['a','bb','ccc','dddd', . . . ] that ends with 26 copies of the letter z:\", new_alpha)"
   ]
  },
  {
   "cell_type": "markdown",
   "id": "f7645d17",
   "metadata": {},
   "source": [
    "7. Write a program that takes any two lists L and M of the same size and adds their elements\n",
    "together to form a new list N whose elements are sums of the corresponding elements in L\n",
    "and M. For instance, if L=[3,1,4] and M=[1,5,9], then N should equal [4,6,13]."
   ]
  },
  {
   "cell_type": "code",
   "execution_count": null,
   "id": "8299e08c",
   "metadata": {},
   "outputs": [],
   "source": [
    "L = eval(input(\"Enter a list: \"))\n",
    "M = eval(input(\"Enter another list(should be equal number of items to the first list): \"))\n",
    "N = []\n",
    "if len(L) != len(M):\n",
    "    print(\"Invalid Input! The length of two lists should be equal to each other.\")\n",
    "else:\n",
    "    for i in range(len(L)):\n",
    "        n = L[i]+M[i]\n",
    "        N = N + [n]\n",
    "print(\"Combined List:\", N)"
   ]
  },
  {
   "cell_type": "markdown",
   "id": "56183190",
   "metadata": {},
   "source": [
    "8. Write a program that asks the user for an integer and creates a list that consists of the factors\n",
    "of that integer."
   ]
  },
  {
   "cell_type": "code",
   "execution_count": null,
   "id": "f716661e",
   "metadata": {},
   "outputs": [],
   "source": [
    "num = eval(input(\"Enter an integer: \"))\n",
    "factors = []\n",
    "for i in range(1, num+1):\n",
    "    if num%i == 0:\n",
    "        factors = factors + [i]\n",
    "print(\"Factors of\", str(i)+\":\", factors)"
   ]
  },
  {
   "cell_type": "markdown",
   "id": "2dc0dc79",
   "metadata": {},
   "source": [
    "9. When playing games where you have to roll two dice, it is nice to know the odds of each\n",
    "roll. For instance, the odds of rolling a 12 are about 3%, and the odds of rolling a 7 are about\n",
    "17%. You can compute these mathematically, but if you don’t know the math, you can write\n",
    "a program to do it. To do this, your program should simulate rolling two dice about 10,000\n",
    "times and compute and print out the percentage of rolls that come out to be 2, 3, 4, . . . , 12."
   ]
  },
  {
   "cell_type": "code",
   "execution_count": null,
   "id": "691c60fc",
   "metadata": {
    "scrolled": true
   },
   "outputs": [],
   "source": [
    "from random import randint\n",
    "count = [0, 0, 0, 0, 0, 0, 0, 0, 0, 0, 0]\n",
    "for i in range(10000):\n",
    "    x = randint(1,6)\n",
    "    y = randint(1,6)\n",
    "    for j in range(2, 13):\n",
    "        if x+y == j:\n",
    "            count[j-2] = count[j-2] + 1\n",
    "for k in range(2, 13):\n",
    "    print(\"Percentage of rolling a dice such that the sum two dice is equal to\", k, \"is\", str((count[k-2]/10000)*100)+\"%\")"
   ]
  },
  {
   "cell_type": "markdown",
   "id": "c7280a7a",
   "metadata": {},
   "source": [
    "10. Write a program that rotates the elements of a list so that the element at the first index moves\n",
    "to the second index, the element in the second index moves to the third index, etc., and the\n",
    "element in the last index moves to the first index."
   ]
  },
  {
   "cell_type": "code",
   "execution_count": null,
   "id": "0aea0de5",
   "metadata": {},
   "outputs": [],
   "source": [
    "lists = eval(input(\"Enter a list: \"))\n",
    "length = len(lists)\n",
    "new_num = []\n",
    "for items in lists:\n",
    "    index = lists.index(items)\n",
    "    new_num.insert((index+1)%length, items)\n",
    "print(new_num)"
   ]
  },
  {
   "cell_type": "markdown",
   "id": "6c09d644",
   "metadata": {},
   "source": [
    "11. Using a for loop, create the list below, which consists of ones separated by increasingly many\n",
    "zeroes. The last two ones in the list should be separated by ten zeroes."
   ]
  },
  {
   "cell_type": "code",
   "execution_count": null,
   "id": "b0e97b83",
   "metadata": {},
   "outputs": [],
   "source": [
    "lists = []\n",
    "for i in range(8):\n",
    "    lists = lists + [1] + [0]*i\n",
    "for j in range(2):\n",
    "    lists = lists + [1]+ [0]*10\n",
    "print(lists)"
   ]
  },
  {
   "cell_type": "markdown",
   "id": "72af27cd",
   "metadata": {},
   "source": [
    "12. Write a program that generates 100 random integers that are either 0 or 1. Then find the\n",
    "longest run of zeros, the largest number of zeros in a row. For instance, the longest run of\n",
    "zeros in [1,0,1,1,0,0,0,0,1,0,0] is 4."
   ]
  },
  {
   "cell_type": "code",
   "execution_count": null,
   "id": "39e847de",
   "metadata": {},
   "outputs": [],
   "source": [
    "from random import randint\n",
    "lists = []\n",
    "for i in range(100):\n",
    "    x = randint(0,1)\n",
    "    lists = lists + [x]\n",
    "print(\"List:\", lists)\n",
    "count = 0\n",
    "counts = []\n",
    "for i in range(99):\n",
    "    if lists[i] == 0 and lists[i+1] == 0:\n",
    "        count = count + 1\n",
    "    else:\n",
    "        counts = counts + [count+1]\n",
    "        count = 0\n",
    "counts.sort()\n",
    "print(\"Longest run of zeros:\", counts[-1])"
   ]
  },
  {
   "cell_type": "markdown",
   "id": "9a64a912",
   "metadata": {},
   "source": [
    "13. Write a program that removes any repeated items from a list so that each item appears at most\n",
    "once. For instance, the list [1,1,2,3,4,3,0,0] would become [1,2,3,4,0]."
   ]
  },
  {
   "cell_type": "code",
   "execution_count": null,
   "id": "0290e4ea",
   "metadata": {},
   "outputs": [],
   "source": [
    "lists = eval(input(\"Enter a list of integer: \"))\n",
    "for j in range(len(lists)-1,0,-1):\n",
    "    if lists.count(lists[j]) > 1:\n",
    "        lists.pop(j)\n",
    "print(lists)"
   ]
  },
  {
   "cell_type": "markdown",
   "id": "3b267057",
   "metadata": {},
   "source": [
    "14. Write a program that asks the user to enter a length in feet. The program should then give\n",
    "the user the option to convert from feet into inches, yards, miles, millimeters, centimeters,\n",
    "meters, or kilometers. Say if the user enters a 1, then the program converts to inches, if they\n",
    "enter a 2, then the program converts to yards, etc. While this can be done with if statements,\n",
    "it is much shorter with lists and it is also easier to add new conversions if you use lists"
   ]
  },
  {
   "cell_type": "code",
   "execution_count": null,
   "id": "809e4703",
   "metadata": {
    "scrolled": true
   },
   "outputs": [],
   "source": [
    "ft = eval(input(\"Enter a length in feet: \"))\n",
    "print(\"Conversion Options: \\n1. Inches \\n2. Yards \\n3. Miles \\n4. Millimeters \\n5. Centimeters \\n6. Meters \\n7. Kilometers\")\n",
    "choices = [\"inch\", \"yd\", \"mi.\", \"mm\", \"cm\", \"m\", \"km\"]\n",
    "choice = eval(input(\"Enter your choice: \"))\n",
    "formula = [ft*12, ft/3, round(ft/5280, 5), ft*304.8, ft*30.48, ft*0.3048, ft*0.0003048]\n",
    "print(ft, \"ft\",\"=\", formula[choice-1], choices[choice-1])"
   ]
  },
  {
   "cell_type": "markdown",
   "id": "8761ebb1",
   "metadata": {},
   "source": [
    "15. There is a provably unbreakable cipher called a one-time pad. The way it works is you shift\n",
    "each character of the message by a random amount between 1 and 26 characters, wrapping\n",
    "around the alphabet if necessary. For instance, if the current character is y and the shift is 5,\n",
    "then the new character is d. Each character gets its own shift, so there needs to be as many\n",
    "random shifts as there are characters in the message. As an example, suppose the user enters\n",
    "secret. The program should generate a random shift between 1 and 26 for each character.\n",
    "Suppose the randomly generated shifts are 1, 3, 2, 10, 8, and 2. The encrypted message would\n",
    "be thebmv. $\\newline$\n",
    "(a) Write a program that asks the user for a message and encrypts the message using the\n",
    "one-time pad. First convert the string to lowercase. Any spaces and punctuation in the\n",
    "string should be left unchanged. For example, Secret!!! becomes thebmv!!! using\n",
    "the shifts above.$\\newline$\n",
    "(b) Write a program to decrypt a string encrypted as above.$\\newline$\n",
    "The reason it is called a one-time-pad is that the list of random shifts should only be used once.\n",
    "It becomes easily breakable if the same random shifts are used for more than one message.\n",
    "Moreover, it is only provably unbreakable if the random numbers are truly random, and the\n",
    "numbers generated by randint are not truly random. For this problem, just use randint,\n",
    "but for cryptographically safe random numbers, see Section 22.8."
   ]
  },
  {
   "cell_type": "code",
   "execution_count": 2,
   "id": "d382e349",
   "metadata": {},
   "outputs": [
    {
     "name": "stdout",
     "output_type": "stream",
     "text": [
      "Enter a string: tangna mo jepoy dizon\n",
      "Shift: [26, 10, 22, 17, 19, 17, ' ', 7, 16, ' ', 22, 23, 20, 2, 20, ' ', 6, 27, 12, 8, 21]\n",
      "Encrypted message: tkjxgr te fbjqs jjlwi\n"
     ]
    }
   ],
   "source": [
    "#A\n",
    "from random import randint\n",
    "string = input(\"Enter a string: \")\n",
    "string.lower()\n",
    "length = len(string)\n",
    "lists = list(string)\n",
    "shift = []\n",
    "alpha = ['a', 'b', 'c', 'd', 'e', 'f', 'g', 'h', 'i', 'j', 'k', 'l', 'm', 'n', 'o', 'p', 'q', 'r', 's', 't', 'u', 'v', 'w', 'x', 'y', 'z']\n",
    "encrypt = \"\"\n",
    "for i in range(length):\n",
    "    if str(lists[i]).isalpha():\n",
    "        x = randint(1,26)\n",
    "        shift = shift + [x+1]\n",
    "        for j in range(26):\n",
    "            if lists[i] == alpha[j]:\n",
    "                y = (j + x + 1)%26\n",
    "                encrypt = encrypt + str(alpha[y])\n",
    "    else:\n",
    "        shift = shift + [lists[i]]\n",
    "        encrypt = encrypt + str(lists[i])\n",
    "print(\"Shift:\",  shift)\n",
    "print(\"Encrypted message:\", encrypt)"
   ]
  },
  {
   "cell_type": "code",
   "execution_count": 4,
   "id": "9e520f26",
   "metadata": {
    "scrolled": true
   },
   "outputs": [
    {
     "name": "stdout",
     "output_type": "stream",
     "text": [
      "Enter an encrypted message: tkjxgr te fbjqs jjlwi\n",
      "Enter list of shift: [26, 10, 22, 17, 19, 17, ' ', 7, 16, ' ', 22, 23, 20, 2, 20, ' ', 6, 27, 12, 8, 21]\n",
      "tangna mo jepoy dizon\n"
     ]
    },
    {
     "ename": "NameError",
     "evalue": "name 'char' is not defined",
     "output_type": "error",
     "traceback": [
      "\u001b[0;31m---------------------------------------------------------------------------\u001b[0m",
      "\u001b[0;31mNameError\u001b[0m                                 Traceback (most recent call last)",
      "\u001b[0;32m/var/folders/t1/gqn5h_pj155btl57_56xj3nw0000gn/T/ipykernel_27217/3163329850.py\u001b[0m in \u001b[0;36m<module>\u001b[0;34m\u001b[0m\n\u001b[1;32m     15\u001b[0m \u001b[0mprint\u001b[0m\u001b[0;34m(\u001b[0m\u001b[0mdecrypt\u001b[0m\u001b[0;34m)\u001b[0m\u001b[0;34m\u001b[0m\u001b[0;34m\u001b[0m\u001b[0m\n\u001b[1;32m     16\u001b[0m \u001b[0mindex\u001b[0m \u001b[0;34m=\u001b[0m \u001b[0malpha\u001b[0m\u001b[0;34m.\u001b[0m\u001b[0mindex\u001b[0m\u001b[0;34m(\u001b[0m\u001b[0;34m\"k\"\u001b[0m\u001b[0;34m)\u001b[0m\u001b[0;34m\u001b[0m\u001b[0;34m\u001b[0m\u001b[0m\n\u001b[0;32m---> 17\u001b[0;31m \u001b[0mindex_char\u001b[0m \u001b[0;34m=\u001b[0m \u001b[0mencrypt\u001b[0m\u001b[0;34m.\u001b[0m\u001b[0mindex\u001b[0m\u001b[0;34m(\u001b[0m\u001b[0mchar\u001b[0m\u001b[0;34m)\u001b[0m\u001b[0;34m\u001b[0m\u001b[0;34m\u001b[0m\u001b[0m\n\u001b[0m",
      "\u001b[0;31mNameError\u001b[0m: name 'char' is not defined"
     ]
    }
   ],
   "source": [
    "#B\n",
    "encrypt = input(\"Enter an encrypted message: \")\n",
    "shift = eval(input(\"Enter list of shift: \"))\n",
    "length = len(encrypt)\n",
    "lists = list(encrypt)\n",
    "alpha = ['a', 'b', 'c', 'd', 'e', 'f', 'g', 'h', 'i', 'j', 'k', 'l', 'm', 'n', 'o', 'p', 'q', 'r', 's', 't', 'u', 'v', 'w', 'x', 'y', 'z']\n",
    "decrypt = \"\"\n",
    "for i in range(length):\n",
    "    if encrypt[i].isalpha():\n",
    "        index = alpha.index(encrypt[i])\n",
    "        y = (index - shift[i])%26\n",
    "        decrypt = decrypt + str(alpha[y])\n",
    "    else:\n",
    "        decrypt = decrypt + encrypt[i]\n",
    "print(decrypt)\n",
    "index = alpha.index(\"k\")\n",
    "index_char = encrypt.index(char)"
   ]
  }
 ],
 "metadata": {
  "kernelspec": {
   "display_name": "Python 3 (ipykernel)",
   "language": "python",
   "name": "python3"
  },
  "language_info": {
   "codemirror_mode": {
    "name": "ipython",
    "version": 3
   },
   "file_extension": ".py",
   "mimetype": "text/x-python",
   "name": "python",
   "nbconvert_exporter": "python",
   "pygments_lexer": "ipython3",
   "version": "3.9.7"
  }
 },
 "nbformat": 4,
 "nbformat_minor": 5
}
