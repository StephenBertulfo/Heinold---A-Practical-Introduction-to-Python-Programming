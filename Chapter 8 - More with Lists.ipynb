{
 "cells": [
  {
   "cell_type": "markdown",
   "id": "4f8d7fb9",
   "metadata": {},
   "source": [
    "# Exercises"
   ]
  },
  {
   "cell_type": "markdown",
   "id": "6ac574d1",
   "metadata": {},
   "source": [
    "1. Write a program that asks the user to enter some text and then counts how many articles are\n",
    "in the text. Articles are the words 'a', 'an', and 'the'."
   ]
  },
  {
   "cell_type": "code",
   "execution_count": null,
   "id": "5dd33284",
   "metadata": {
    "scrolled": false
   },
   "outputs": [],
   "source": [
    "from string import punctuation\n",
    "string = input(\"Enter a string: \")\n",
    "for c in punctuation:\n",
    "    string = string.replace(c, \"\")\n",
    "string = string.lower()\n",
    "lists = string.split()\n",
    "articles = [\"a\", \"an\", \"the\"]\n",
    "count = 0\n",
    "for item in articles:\n",
    "    count = count + lists.count(item)\n",
    "print(\"Number of articles in the text:\", count)"
   ]
  },
  {
   "cell_type": "markdown",
   "id": "af03e9b4",
   "metadata": {},
   "source": [
    "2. Write a program that allows the user to enter five numbers (read as strings). Create a string\n",
    "that consists of the user’s numbers separated by plus signs. For instance, if the user enters 2,\n",
    "5, 11, 33, and 55, then the string should be '2+5+11+33+55'."
   ]
  },
  {
   "cell_type": "code",
   "execution_count": null,
   "id": "62b80f9d",
   "metadata": {
    "scrolled": true
   },
   "outputs": [],
   "source": [
    "number = []\n",
    "for i in range(5):\n",
    "    num = input(\"Enter a number: \")\n",
    "    number.append(num)\n",
    "print(\"Output:\", \"+\".join(number))"
   ]
  },
  {
   "cell_type": "markdown",
   "id": "a842e7ea",
   "metadata": {},
   "source": [
    "3. (a) Ask the user to enter a sentence and print out the third word of the sentence. $\\newline$\n",
    "(b) Ask the user to enter a sentence and print out every third word of the sentence."
   ]
  },
  {
   "cell_type": "code",
   "execution_count": null,
   "id": "323bdf45",
   "metadata": {
    "scrolled": true
   },
   "outputs": [],
   "source": [
    "from string import punctuation\n",
    "sentence = input(\"Enter a sentence: \")\n",
    "for c in punctuation:\n",
    "    sentence = sentence.replace(c, \"\")\n",
    "sentence = sentence.lower()\n",
    "lists = sentence.split()\n",
    "print(\"A. Third word of the sentence:\", lists[2])\n",
    "print(\"B. Every third word of the sentence:\", end = \" \")\n",
    "third = []\n",
    "for i in range(2, len(lists), 3):\n",
    "    word = str(lists[i])\n",
    "    third = third + [lists[i]]\n",
    "print(\", \".join(third))"
   ]
  },
  {
   "cell_type": "markdown",
   "id": "bcfb77f3",
   "metadata": {},
   "source": [
    "4. (a) Write a program that asks the user to enter a sentence and then randomly rearranges the\n",
    "words of the sentence. Don’t worry about getting punctuation or capitalization correct. $\\newline$\n",
    "(b) Do the above problem, but now make sure that the sentence starts with a capital, that\n",
    "the original first word is not capitalized if it comes in the middle of the sentence, and\n",
    "that the period is in the right place."
   ]
  },
  {
   "cell_type": "code",
   "execution_count": null,
   "id": "0fef87a6",
   "metadata": {},
   "outputs": [],
   "source": [
    "from random import sample\n",
    "sentence = input(\"Enter a sentence: \")\n",
    "lists = sentence.split()\n",
    "pick = sample(lists, len(lists))\n",
    "print(\" \".join(pick))"
   ]
  },
  {
   "cell_type": "markdown",
   "id": "a4d6fb58",
   "metadata": {},
   "source": [
    "5. Write a simple quote-of-the-day program. The program should contain a list of quotes, and\n",
    "when the user runs the program, a randomly selected quote should be printed."
   ]
  },
  {
   "cell_type": "code",
   "execution_count": null,
   "id": "cc200d87",
   "metadata": {
    "scrolled": true
   },
   "outputs": [],
   "source": [
    "from random import choice\n",
    "quotes = [\"When you have a dream, you’ve got to grab it and never let go. — Carol Burnett\", \"Nothing is impossible. The word itself says \\\"I’m possible!\\\" — Audrey Hepburn\", \"There is nothing impossible to they who will try. — Alexander the Great\", \"The bad news is time flies. The good news is you’re the pilot. — Michael Altshuler\", \"Life has got all those twists and turns. You’ve got to hold on tight and off you go. — Nicole Kidman\"]\n",
    "print(\"Quote of the Day:\\n\", choice(quotes))"
   ]
  },
  {
   "cell_type": "markdown",
   "id": "69a0a737",
   "metadata": {},
   "source": [
    "6. Write a simple lottery drawing program. The lottery drawing should consist of six different\n",
    "numbers between 1 and 48."
   ]
  },
  {
   "cell_type": "code",
   "execution_count": null,
   "id": "a6754811",
   "metadata": {},
   "outputs": [],
   "source": [
    "from random import sample\n",
    "num = [i for i in range(1,49)]\n",
    "print(\"Lotto Number:\", sample(num, 6))"
   ]
  },
  {
   "cell_type": "markdown",
   "id": "0730421b",
   "metadata": {},
   "source": [
    "7. Write a program that estimates the average number of drawings it takes before the user’s\n",
    "numbers are picked in a lottery that consists of correctly picking six different numbers that\n",
    "are between 1 and 10. To do this, run a loop 1000 times that randomly generates a set of\n",
    "user numbers and simulates drawings until the user’s numbers are drawn. Find the average\n",
    "number of drawings needed over the 1000 times the loop runs."
   ]
  },
  {
   "cell_type": "code",
   "execution_count": null,
   "id": "fd92985d",
   "metadata": {
    "scrolled": true
   },
   "outputs": [],
   "source": [
    "num = [i for i in range(1,10)]\n",
    "pick = sample(num, 6)\n",
    "for i in range(1000):\n",
    "    draw = sample(num, 6)\n",
    "    if set(draw).issubset(pick):\n",
    "        number = i + 1\n",
    "        break\n",
    "print(\"Your number:\", pick)\n",
    "print(\"Draw:\", draw)\n",
    "print(\"Number of takes before your numbers are picked:\", number)"
   ]
  },
  {
   "cell_type": "markdown",
   "id": "87606988",
   "metadata": {},
   "source": [
    "8. Write a program that simulates drawing names out of a hat. In this drawing, the number of\n",
    "hat entries each person gets may vary. Allow the user to input a list of names and a list of\n",
    "how many entries each person has in the drawing, and print out who wins the drawing."
   ]
  },
  {
   "cell_type": "code",
   "execution_count": null,
   "id": "09bd1d17",
   "metadata": {
    "scrolled": true
   },
   "outputs": [],
   "source": [
    "names = eval(input(\"Enter a list of names: \"))\n",
    "entries = eval(input(\"Enter how many entries each person: \"))\n",
    "lists = []\n",
    "if len(names) == len(entries):\n",
    "    for i in range(len(names)):\n",
    "        lists = lists + [names[i]]*entries[i]\n",
    "    print(\"Winner:\", choice(lists))\n",
    "else:\n",
    "    print(\"Invalid Input! The length of lists of names should be equal to the length of the lists of entries of each person.\")"
   ]
  },
  {
   "cell_type": "markdown",
   "id": "de0f4979",
   "metadata": {},
   "source": [
    "9. Write a simple quiz game that has a list of ten questions and a list of answers to those questions. The game should give the player four randomly selected questions to answer. It should\n",
    "ask the questions one-by-one, and tell the player whether they got the question right or\n",
    "wrong. At the end it should print out how many out of four they got right."
   ]
  },
  {
   "cell_type": "code",
   "execution_count": null,
   "id": "5b581872",
   "metadata": {},
   "outputs": [],
   "source": [
    "from random import sample\n",
    "q_a = [[\"Who invented the lightbulb in 1879?\", \"Which is the largest country in the world?\", \"How many states of the United States?\", \"How many legs spiders have?\", \"What is the capital of France?\", \"Which is the largest and deepest ocean in the world?\", \"What is the plural of sheep?\", \"What is planet closest to the sun?\", \"How many continents are there?\", \"Which continent is an island as well?\"], [\"thomas edison\", \"russia\", \"50\", \"8\", \"paris\", \"pacific ocean\", \"sheep\", \"mercury\", \"7\", \"australia\"]]\n",
    "num = [i for i in range(len(q_a[0]))]\n",
    "sample = sample(num, 4)\n",
    "questions = [q_a[0][j] for j in sample]\n",
    "answers = [q_a[1][j] for j in sample]\n",
    "count = 0\n",
    "for k in range(4):\n",
    "    x = k + 1\n",
    "    print(\"Question \"+str(x)+\":\", questions[k])\n",
    "    answer = input(\"Enter your answer: \")\n",
    "    answer = answer.lower()\n",
    "    if answer == answers[k]:\n",
    "        print(\"Correct!\")\n",
    "        count = count + 1\n",
    "    else:\n",
    "        print(\"Wrong!\")\n",
    "print(\"Correct Answers:\", count)"
   ]
  },
  {
   "cell_type": "markdown",
   "id": "bb3e14ea",
   "metadata": {},
   "source": [
    "10. Write a censoring program. Allow the user to enter some text and your program should print\n",
    "out the text with all the curse words starred out. The number of stars should match the length\n",
    "of the curse word. For the purposes of this program, just use the“curse” words darn, dang,\n",
    "freakin, heck, and shoot. Sample output is below:"
   ]
  },
  {
   "cell_type": "code",
   "execution_count": null,
   "id": "40fdff76",
   "metadata": {},
   "outputs": [],
   "source": [
    "from string import punctuation\n",
    "text = input(\"Enter a text: \")\n",
    "profanity = [\"fuck\", \"fvck\", \"fck\", \"shit\", \"sht\", \"fucker\", \"fvcker\", \"fucking\", \"fvcking\", \"shitting\", \"ass\", \"pussy\", \"bitch\", \"nigger\", \"nigga\", \"hell\", \"whore\", \"dick\", \"piss\", \"slut\", \"tilt\", \"fag\", \"damn\", \"cunt\", \"cum\", \"cock\", \"retard\", \"blowjob\", \"wanker\", \"bastard\", \"prick\", \"bollocks\", \"bugger\", \"buggers\", \"bloody\", \"crap\"]\n",
    "for c in punctuation:\n",
    "    string = string.replace(c, \"\")\n",
    "lists = text.split()\n",
    "lists1 = []\n",
    "for item in lists:\n",
    "    for c in punctuation:\n",
    "        if c in item:\n",
    "            item = item.replace(c, \"\")\n",
    "            punc = c\n",
    "        \n",
    "    if item in profanity:\n",
    "        length = len(item)\n",
    "        lists1.append(\"*\"*length+punc)\n",
    "    else:\n",
    "        lists1.append(item+punc)\n",
    "    \n",
    "    punc = \"\"\n",
    "print(\"Censored text:\", \" \".join(lists1))"
   ]
  },
  {
   "cell_type": "markdown",
   "id": "b80d416d",
   "metadata": {},
   "source": [
    "11. Section 8.3 described how to use the shuffle method to create a random anagram of a string.\n",
    "Use the choice method to create a random anagram of a string."
   ]
  },
  {
   "cell_type": "code",
   "execution_count": null,
   "id": "da0d5ca5",
   "metadata": {},
   "outputs": [],
   "source": [
    "import random\n",
    "word = input(\"Enter a word: \")\n",
    "lists = list(word)\n",
    "anagram = []\n",
    "for i in range(len(lists)):\n",
    "    letter = random.choice(lists)\n",
    "    anagram.append(letter)\n",
    "    lists.pop(lists.index(letter))\n",
    "print(\"\".join(anagram))"
   ]
  },
  {
   "cell_type": "markdown",
   "id": "36bd99d2",
   "metadata": {},
   "source": [
    "12. Write a program that gets a string from the user containing a potential telephone number.\n",
    "The program should print Valid if it decides the phone number is a real phone number, and\n",
    "Invalid otherwise. A phone number is considered valid as long as it is written in the form\n",
    "abc-def-hijk or 1-abc-def-hijk. The dashes must be included, the phone number should contain\n",
    "only numbers and dashes, and the number of digits in each group must be correct. Test your\n",
    "program with the output shown below."
   ]
  },
  {
   "cell_type": "code",
   "execution_count": null,
   "id": "878cbbab",
   "metadata": {},
   "outputs": [],
   "source": [
    "phone_number = input(\"Enter your phone number: \")\n",
    "lists = phone_number.split(\"-\")\n",
    "lists\n",
    "count = 0\n",
    "for c in phone_number:\n",
    "    if c.isdigit():\n",
    "        count += 1\n",
    "        \n",
    "if len(lists) == 4 and lists[0] == \"1\" and len(lists[1]) == 3 and len(lists[2]) == 3 and len(lists[3]) == 4 and count == 11:\n",
    "    print(\"Valid\")\n",
    "elif len(lists) == 3 and len(lists[0]) == 3 and len(lists[1]) == 3 and len(lists[2]) == 4 and count == 10:\n",
    "    print(\"Valid\")\n",
    "else:\n",
    "    print(\"Invalid\")"
   ]
  },
  {
   "cell_type": "markdown",
   "id": "aca63699",
   "metadata": {},
   "source": [
    "13. Let L be a list of strings. Write list comprehensions that create new lists from L for each of the\n",
    "following. $\\newline$\n",
    "(a) A list that consists of the strings of s with their first characters removed$\\newline$\n",
    "(b) A list of the lengths of the strings of s$\\newline$\n",
    "(c) A list that consists of only those strings of s that are at least three characters long"
   ]
  },
  {
   "cell_type": "code",
   "execution_count": null,
   "id": "e5654e56",
   "metadata": {},
   "outputs": [],
   "source": [
    "list_string = eval(input(\"Enter list of strings: \"))\n",
    "list_a = [item[1:len(item)] for item in list_string]\n",
    "list_b = [len(item) for item in list_string]\n",
    "list_c = [item for item in list_string if len(item) >= 3]\n",
    "print(list_a)\n",
    "print(list_b)\n",
    "print(list_c)"
   ]
  },
  {
   "cell_type": "markdown",
   "id": "f5f2021e",
   "metadata": {},
   "source": [
    "14. Use a list comprehension to produce a list that consists of all palindromic numbers between\n",
    "100 and 1000."
   ]
  },
  {
   "cell_type": "code",
   "execution_count": null,
   "id": "a540ca80",
   "metadata": {},
   "outputs": [],
   "source": [
    "list_num = [i for i in range(100,1000) if str(i)[0] == str(i)[-1]]\n",
    "print(list_num)"
   ]
  },
  {
   "cell_type": "markdown",
   "id": "823e4cff",
   "metadata": {},
   "source": [
    "15. Use a list comprehension to create the list below, which consists of ones separated by increasingly many zeroes. The last two ones in the list should be separated by ten zeroes."
   ]
  },
  {
   "cell_type": "code",
   "execution_count": null,
   "id": "be933e95",
   "metadata": {
    "scrolled": true
   },
   "outputs": [],
   "source": [
    "list_num1 = [[[1],[0]*i] for i in range(8)]\n",
    "list_num2 = [[[1],[0]*10] for i in range(2)]\n",
    "list_num = list_num1 + list_num2\n",
    "list_num\n",
    "L = [j for k in list_num for j in k]\n",
    "lists = [a for b in L for a in b]\n",
    "print(lists)"
   ]
  },
  {
   "cell_type": "markdown",
   "id": "9325138e",
   "metadata": {},
   "source": [
    "16. Let L=[2,3,5,7,11,13,17,19,23,29,31,37,41,43,47]. Use a list comprehension to\n",
    "produce a list of the gaps between consecutive entries in L. Then find the maximum gap size\n",
    "and the percentage of gaps that have size 2."
   ]
  },
  {
   "cell_type": "code",
   "execution_count": null,
   "id": "5b29c2a4",
   "metadata": {
    "scrolled": true
   },
   "outputs": [],
   "source": [
    "L = [2, 3, 5, 7, 11, 13, 17, 19, 23, 29, 31, 37, 41, 43, 47]\n",
    "gaps = [abs(L[i]-L[i+1]) for i in range(len(L)-1)]\n",
    "max = 0\n",
    "count =0\n",
    "for item in gaps:\n",
    "    if item > max:\n",
    "        max = item\n",
    "    else:\n",
    "        continue\n",
    "    \n",
    "    if item == 2:\n",
    "        count += 1\n",
    "    else:\n",
    "        continue\n",
    "        \n",
    "print(f\"Gaps: {gaps}\")\n",
    "print(f\"Maximum Gap: {max}\")\n",
    "print(f\"Percentage of Gaps that have size 2: {(count/len(gaps))*100}%\")"
   ]
  },
  {
   "cell_type": "markdown",
   "id": "8a93e786",
   "metadata": {},
   "source": [
    "17. Write a program that finds the average of all of the entries in a 4 × 4 list of integers."
   ]
  },
  {
   "cell_type": "code",
   "execution_count": null,
   "id": "72c9465d",
   "metadata": {},
   "outputs": [],
   "source": [
    "list_num = eval(input(\"Enter a 4 x 4 list of integers: \"))\n",
    "num = [i for j in list_num for i in j]\n",
    "average = sum(num)/16\n",
    "print(f\"Average: {average}\")"
   ]
  },
  {
   "cell_type": "markdown",
   "id": "a91f7ecd",
   "metadata": {},
   "source": [
    "18. Write a program that creates a 10×10 list of random integers between 1 and 100. Then do the\n",
    "following: $\\newline$\n",
    "(a) Print the list.$\\newline$\n",
    "(b) Find the largest value in the third row.$\\newline$\n",
    "(c) Find the smallest value in the sixth column."
   ]
  },
  {
   "cell_type": "code",
   "execution_count": null,
   "id": "cc5f2ca8",
   "metadata": {
    "scrolled": true
   },
   "outputs": [],
   "source": [
    "import random\n",
    "import pandas as pd\n",
    "from random import sample\n",
    "int = [i for i in range(1, 101)]\n",
    "rand_int = [sample(int, 10) for i in range(10)]\n",
    "print(f\"A. List: \")\n",
    "df = pd.DataFrame(rand_int)\n",
    "row_col = [\"\"]*10\n",
    "df.index = row_col\n",
    "df.columns = row_col\n",
    "print(df)\n",
    "print(f\"B. Largest value in the third row: {max(rand_int[2])}\" )\n",
    "sixth_column = [rand_int[i][5] for i in range(10)]\n",
    "print(f\"C. Smallest value in the sixth column: {min(sixth_column)}\" )"
   ]
  },
  {
   "cell_type": "markdown",
   "id": "fc8b7542",
   "metadata": {},
   "source": [
    "19. Write a program that creates and prints an 8 × 8 list whose entries alternate between 1 and 2\n",
    "in a checkerboard pattern, starting with 1 in the upper left corner."
   ]
  },
  {
   "cell_type": "code",
   "execution_count": null,
   "id": "b67fca03",
   "metadata": {
    "scrolled": true
   },
   "outputs": [],
   "source": [
    "lists = [[[1,2]*4]*8]\n",
    "list_num = [i for j in lists for i in j]\n",
    "print(f\"List: \")\n",
    "for items in list_num:\n",
    "    print(items)"
   ]
  },
  {
   "cell_type": "markdown",
   "id": "d46c0869",
   "metadata": {},
   "source": [
    "20. Write a program that checks to see if a 4 × 4 list is a magic square. In a magic square, every\n",
    "row, column, and the two diagonals add up to the same value."
   ]
  },
  {
   "cell_type": "code",
   "execution_count": null,
   "id": "0e13d377",
   "metadata": {
    "scrolled": true
   },
   "outputs": [],
   "source": [
    "list_num = eval(input(\"Enter a 4 x 4 list: \"))\n",
    "print(\"List: \")\n",
    "for item in list_num:\n",
    "    print(item)\n",
    "sum_diagonal1 = [sum([list_num[i][i] for i in range(4)])]\n",
    "sum_diagonal2 = [sum([list_num[3-j][j] for j in range(3, -1, -1)])]\n",
    "sum_rows = [sum(list_num[i]) for i in range(4)]\n",
    "flip = [[list_num[i][j] for i in range(4)]for j in range(4)]\n",
    "sum_columns = [sum(flip[i]) for i in range(4)]\n",
    "sums = sum_diagonal1 + sum_diagonal2 + sum_rows + sum_columns\n",
    "if all(x == sums[0] for x in sums):\n",
    "    print(\"The 4 x 4 list is a magic square\")\n",
    "else:\n",
    "    print(\"The 4 x 4 list is not a magic square\")"
   ]
  },
  {
   "cell_type": "markdown",
   "id": "c38e643b",
   "metadata": {},
   "source": [
    "21. Write a program that asks the user to enter a length. The program should ask them what\n",
    "unit the length is in and what unit they would like to convert it to. The possible units are\n",
    "inches, yards, miles, millimeters, centimeters, meters, and kilometers. While this can be done\n",
    "with 25 if statements, it is shorter and easier to add on to if you use a two-dimensional list of\n",
    "conversions, so please use lists for this problem."
   ]
  },
  {
   "cell_type": "code",
   "execution_count": null,
   "id": "2270dc14",
   "metadata": {
    "scrolled": true
   },
   "outputs": [],
   "source": [
    "length = eval(input(\"Enter a length: \"))\n",
    "print(\"Possible Units: \\n1. Inches \\n2. Yards \\n3. Miles \\n4. Millimeters \\n5. Centimeters \\n6. Meters \\n7. Kilometers\")\n",
    "unit = eval(input(\"Enter what unit (1-7): \"))\n",
    "conv_unit = eval(input(\"Enter what unit you would like to convert it (1-7):\"))\n",
    "units = [\"Inches\",  \"Yards\", \"Miles\", \"Millimeters\", \"Centimeters\", \"Meters\", \"Kilometers\"]\n",
    "conversion = [\n",
    "    [length, round(length/36, 3), round(length/63360, 3), round(length*25.4, 3), round(length*2.54, 3), round(length/39.37, 3), round(length/39370, 3)],\n",
    "    [round(length*36, 3), length, round(length/1760, 3), round(length*914.4, 3), round(length*91.44, 3), round(length/1.094, 3), round(length/1094,3)],\n",
    "    [round(length*63360, 3), round(length*1760, 3), length, round(length*1609344, 3), round(length*160934.4, 3), round(length*1609.344, 3), round(length*1.609344, 3)],\n",
    "    [round(length/25.4, 3),  round(length/914.4, 3), round(length/1609344, 3), length, round(length/10, 3), length/1000, 3, length/1000000],\n",
    "    [round(length/2.54, 3), round(length/91.44, 3), round(length/160934.4, 3), round(length*10, 3), length, round(length/100, 3), round(length/100000, 3)],\n",
    "    [round(length*39.37, 3), round(length*1.094, 3), round(length/1609.344, 3), round(length*1000, 3), round(length*100, 3), length, round(length/1000, 3)],\n",
    "    [round(length*39370, 3), round(length*1094, 3), round(length/1.609344, 3), round(length*1000000, 3), round(length*100000, 3), round(length*1000, 3), length]\n",
    "]\n",
    "print(f\"{length} {units[unit-1]} = {conversion[unit-1][conv_unit-1]} {units[conv_unit-1]}\")"
   ]
  },
  {
   "cell_type": "markdown",
   "id": "60727577",
   "metadata": {},
   "source": [
    "22. The following is useful as part of a program to play Battleship. Suppose you have a 5 × 5 list\n",
    "that consists of zeroes and ones. Ask the user to enter a row and a column. If the entry in the\n",
    "list at that row and column is a one, the program should print Hit and otherwise it should\n",
    "print Miss."
   ]
  },
  {
   "cell_type": "code",
   "execution_count": null,
   "id": "814fd195",
   "metadata": {},
   "outputs": [],
   "source": [
    "import random\n",
    "import pandas as pd\n",
    "rand_int = [0]*6 + [1]*4\n",
    "GF = []\n",
    "count_hit = 0\n",
    "count_miss = 0\n",
    "count_invalid = 0\n",
    "for i in range(5):\n",
    "    choice = random.sample(rand_int, 5)\n",
    "    GF.append(choice)\n",
    "for i in range(5):\n",
    "    row = eval(input(\"Enter the row (1-5): \"))\n",
    "    column = eval(input(\"Enter the column (1-5): \"))\n",
    "    if row >= 1 and row <= 5 and column >= 1 and column <= 5:\n",
    "        if GF[row-1][column-1] == 1:\n",
    "            print(\"HIT!\")\n",
    "            count_hit += 1\n",
    "        else:\n",
    "            print(\"MISS!\")\n",
    "            count_miss += 1\n",
    "    else:\n",
    "        print(\"Invalid Input!\")\n",
    "        count_invalid += 1\n",
    "row_col = [\"\"]*5\n",
    "df = pd.DataFrame(GF)\n",
    "df.index = row_col\n",
    "df.columns = row_col\n",
    "print(f\"Ground Field: \\n{df}\")\n",
    "print(f\"Number of Hits: {count_hit}\")\n",
    "print(f\"Number of Miss: {count_miss}\")\n",
    "print(f\"Number of Invalid Input: {count_invalid}\")"
   ]
  },
  {
   "cell_type": "markdown",
   "id": "de5095d6",
   "metadata": {},
   "source": [
    "23. This exercise is useful in creating a Memory game. Randomly generate a 6 × 6 list of assorted\n",
    "characters such that there are exactly two of each character. An example is shown below."
   ]
  },
  {
   "cell_type": "code",
   "execution_count": null,
   "id": "5ea28b5e",
   "metadata": {},
   "outputs": [],
   "source": [
    "import random\n",
    "import pandas as pd\n",
    "char = [\"@\", \"5\", \"#\", \"A\", \"!\", \"0\", \"b\", \"$\", \"z\", \"N\", \"x\", \"-\", \"+\", \":\", \"c\"]*2\n",
    "lists = []\n",
    "for i in range(5):\n",
    "    list_choice = []\n",
    "    for j in range(6):\n",
    "        choice = random.choice(char)\n",
    "        list_choice.append(choice)\n",
    "        char.remove(choice)\n",
    "    lists.append(list_choice)\n",
    "df = pd.DataFrame(lists)\n",
    "row = [\"\"]*5\n",
    "col = [\"\"]*6\n",
    "df.index = row\n",
    "df.columns = col\n",
    "print(df)"
   ]
  },
  {
   "cell_type": "markdown",
   "id": "f599607a",
   "metadata": {},
   "source": [
    "24. The following is useful in implementing computer players in a number of different games.\n",
    "Write a program that creates a 5 × 5 list consisting of zeroes and ones. Your program should\n",
    "then pick a random location in the list that contains a zero and change it to a one. If all the\n",
    "entries are one, the program should say so. [Hint: one way to do this is to create a new list\n",
    "whose items are the coordinates of all the ones in the list and use the choice method to\n",
    "randomly select one. Use a two-element list to represent a set of coordinates.]"
   ]
  },
  {
   "cell_type": "code",
   "execution_count": 11,
   "id": "ee316d00",
   "metadata": {
    "scrolled": true
   },
   "outputs": [
    {
     "name": "stdout",
     "output_type": "stream",
     "text": [
      "Original List: \n",
      "               \n",
      "  0  0  0  0  0\n",
      "  0  1  0  0  0\n",
      "  0  0  1  0  0\n",
      "  0  0  0  1  0\n",
      "  1  0  0  1  1\n",
      "New List: \n",
      "               \n",
      "  1  1  1  1  1\n",
      "  1  1  1  1  1\n",
      "  1  1  1  1  1\n",
      "  1  1  1  1  1\n",
      "  1  1  1  1  1\n"
     ]
    }
   ],
   "source": [
    "import random\n",
    "import pandas as pd\n",
    "rand_int = [0]*6 + [1]*4\n",
    "list1 = []\n",
    "for i in range(5):\n",
    "    choice = random.sample(rand_int, 5)\n",
    "    list1.append(choice)\n",
    "new_list = []\n",
    "for item in list1:\n",
    "    sam_list = []\n",
    "    for char in item:\n",
    "        if char == 0:\n",
    "            sam_list += [1]\n",
    "        else:\n",
    "            sam_list += [1]\n",
    "    new_list.append(sam_list)\n",
    "row_col = [\"\"]*5\n",
    "df1 = pd.DataFrame(list1)\n",
    "df1.index = row_col\n",
    "df1.columns = row_col\n",
    "print(f\"Original List: \\n{df1}\")\n",
    "df2 = pd.DataFrame(new_list)\n",
    "df2.index = row_col\n",
    "df2.columns = row_col\n",
    "print(f\"New List: \\n{df2}\")"
   ]
  },
  {
   "cell_type": "markdown",
   "id": "1b432a58",
   "metadata": {},
   "source": [
    "25. Here is an old puzzle question you can solve with a computer program. There is only one\n",
    "five-digit number n that is such that every one of the following ten numbers shares exactly\n",
    "one digit in common in the same position as n. Find n."
   ]
  },
  {
   "cell_type": "code",
   "execution_count": 1,
   "id": "20db23aa",
   "metadata": {},
   "outputs": [
    {
     "name": "stdout",
     "output_type": "stream",
     "text": [
      "30274\n"
     ]
    }
   ],
   "source": [
    "def common(a,b):\n",
    "    count = [a[i] for i in range(5) if a[i] == b[i]]\n",
    "    return len(count)\n",
    "l = ['01265','12171', '23257', '34548', '45970', '56236', '67324', '78084', '89872', '99414']\n",
    "for i in range(10000, 100000):\n",
    "    for x in l:\n",
    "        if common(str(i), x) != 1:\n",
    "            break\n",
    "    else:\n",
    "        print(i)   "
   ]
  },
  {
   "cell_type": "markdown",
   "id": "0a05cddf",
   "metadata": {},
   "source": [
    "26. We usually refer to the entries of a two-dimensional list by their row and column, like below\n",
    "on the left. Another way is shown below on the right. $\\newline$\n",
    "(0,0) (0,1) (0,2) 0 1 2$\\newline$\n",
    "(1,0) (1,1) (1,2) 3 4 5$\\newline$\n",
    "(2,0) (2,1) (2,2) 6 7 8$\\newline$\n",
    "(a) Write some code that translates from the left representation to the right one. The // and\n",
    "% operators will be useful. Be sure your code works for arrays of any size.$\\newline$\n",
    "(b) Write some code that translates from the right representation to the left one."
   ]
  },
  {
   "cell_type": "code",
   "execution_count": 34,
   "id": "1adbf492",
   "metadata": {},
   "outputs": [
    {
     "name": "stdout",
     "output_type": "stream",
     "text": [
      "Enter number of rows: 3\n",
      "Enter number of columns: 4\n",
      "[[(0, 0), (0, 1), (0, 2), (0, 3)],\n",
      " [(1, 0), (1, 1), (1, 2), (1, 3)],\n",
      " [(2, 0), (2, 1), (2, 2), (2, 3)]]\n",
      "Translated list: \n",
      "              \n",
      "  0  1   2   3\n",
      "  4  5   6   7\n",
      "  8  9  10  11\n"
     ]
    }
   ],
   "source": [
    "import pandas as pd\n",
    "import pprint\n",
    "rows = eval(input(\"Enter number of rows: \"))\n",
    "cols = eval(input(\"Enter number of columns: \"))\n",
    "list1 =[[str((i, j)) for j in range(cols)] for i in range(rows)]\n",
    "list2 = [[cols*i+j for j in range(cols)]for i in range(rows)]\n",
    "df1 = pd.DataFrame(list1)\n",
    "df1row = [\"\"]*rows\n",
    "df1col = [\"\"]*cols\n",
    "df1.index = df1row\n",
    "df1.columns = df1col\n",
    "df2 = pd.DataFrame(list2)\n",
    "df2row = [\"\"]*rows\n",
    "df2col = [\"\"]*cols\n",
    "df2.index = df2row\n",
    "df2.columns = df2col\n",
    "print(f\"Translated list: \\n{df}\")"
   ]
  },
  {
   "cell_type": "code",
   "execution_count": 40,
   "id": "ac05d38a",
   "metadata": {},
   "outputs": [
    {
     "name": "stdout",
     "output_type": "stream",
     "text": [
      "Enter a list of position of two-dimensional list: [[0, 1, 2, 3], [4, 5, 6, 7]]\n",
      "Orginal List: \n",
      "            \n",
      "  0  1  2  3\n",
      "  4  5  6  7\n",
      "Translated List: \n",
      "                                \n",
      "  (0, 0)  (0, 1)  (0, 2)  (0, 3)\n",
      "  (1, 0)  (1, 1)  (1, 2)  (1, 3)\n"
     ]
    }
   ],
   "source": [
    "import pprint\n",
    "list1 = eval(input(\"Enter a list of position of two-dimensional list: \"))\n",
    "rows = len(list1)\n",
    "cols = len(list1[0])\n",
    "list2 = [[str((i, j)) for j in range(cols)]for i in range(rows)]\n",
    "df1 = pd.DataFrame(list1)\n",
    "df1row = [\"\"]*rows\n",
    "df1col = [\"\"]*cols\n",
    "df1.index = df1row\n",
    "df1.columns = df1col\n",
    "print(f\"Orginal List: \\n{df1}\")\n",
    "df2 = pd.DataFrame(list2)\n",
    "df2row = [\"\"]*rows\n",
    "df2col = [\"\"]*cols\n",
    "df2.index = df2row\n",
    "df2.columns = df2col\n",
    "print(f\"Translated List: \\n{df2}\")"
   ]
  }
 ],
 "metadata": {
  "kernelspec": {
   "display_name": "Python 3 (ipykernel)",
   "language": "python",
   "name": "python3"
  },
  "language_info": {
   "codemirror_mode": {
    "name": "ipython",
    "version": 3
   },
   "file_extension": ".py",
   "mimetype": "text/x-python",
   "name": "python",
   "nbconvert_exporter": "python",
   "pygments_lexer": "ipython3",
   "version": "3.9.7"
  }
 },
 "nbformat": 4,
 "nbformat_minor": 5
}
