{
 "cells": [
  {
   "cell_type": "markdown",
   "id": "3fddae7a",
   "metadata": {},
   "source": [
    "1. The code below prints the numbers from 1 to 50. Rewrite the code using a while loop to\n",
    "accomplish the same thing."
   ]
  },
  {
   "cell_type": "code",
   "execution_count": null,
   "id": "1d535575",
   "metadata": {
    "scrolled": true
   },
   "outputs": [],
   "source": [
    "i = 1\n",
    "while i <= 50:\n",
    "    print(i)\n",
    "    i += 1"
   ]
  },
  {
   "cell_type": "markdown",
   "id": "dbdd0fc8",
   "metadata": {},
   "source": [
    "2. (a) Write a program that uses a while loop (not a for loop) to read through a string and print\n",
    "the characters of the string one-by-one on separate lines. $\\newline$\n",
    "(b) Modify the program above to print out every second character of the string."
   ]
  },
  {
   "cell_type": "code",
   "execution_count": null,
   "id": "f8e3d2e4",
   "metadata": {
    "scrolled": true
   },
   "outputs": [],
   "source": [
    "#A\n",
    "string = input(\"Enter a string: \")\n",
    "length = len(string)\n",
    "i = 0\n",
    "while i < length:\n",
    "    print(string[i])\n",
    "    i += 1"
   ]
  },
  {
   "cell_type": "code",
   "execution_count": null,
   "id": "ffb64baf",
   "metadata": {},
   "outputs": [],
   "source": [
    "#B\n",
    "string = input(\"Enter a string: \")\n",
    "length = len(string)\n",
    "i = 0\n",
    "while i < length:\n",
    "    print(string[i])\n",
    "    i += 2"
   ]
  },
  {
   "cell_type": "markdown",
   "id": "563e0535",
   "metadata": {},
   "source": [
    "3. A good program will make sure that the data its users enter is valid. Write a program that\n",
    "asks the user for a weight and converts it from kilograms to pounds. Whenever the user\n",
    "enters a weight below 0, the program should tell them that their entry is invalid and then ask\n",
    "them again to enter a weight. [Hint: Use a while loop, not an if statement]."
   ]
  },
  {
   "cell_type": "code",
   "execution_count": null,
   "id": "6d667168",
   "metadata": {},
   "outputs": [],
   "source": [
    "kg = 0\n",
    "while kg <= 0:\n",
    "    kg = eval(input(\"Enter a weight in kilograms: \"))\n",
    "pound = round(kg*2.20462262185, 3)\n",
    "print(f\"{kg} kilograms = {pound} pounds\")"
   ]
  },
  {
   "cell_type": "markdown",
   "id": "a202dc4a",
   "metadata": {},
   "source": [
    "4. Write a program that asks the user to enter a password. If the user enters the right password,\n",
    "the program should tell them they are logged in to the system. Otherwise, the program\n",
    "should ask them to reenter the password. The user should only get five tries to enter the\n",
    "password, after which point the program should tell them that they are kicked off of the\n",
    "system."
   ]
  },
  {
   "cell_type": "code",
   "execution_count": null,
   "id": "c182b155",
   "metadata": {
    "scrolled": true
   },
   "outputs": [],
   "source": [
    "sec_pass = \"password123\"\n",
    "i = 0\n",
    "while i < 5:\n",
    "    ent_pass = input(\"Enter a password: \")\n",
    "    i += 1\n",
    "    if i <= 4 and ent_pass == sec_pass:\n",
    "        print(\"You are logged in to the system.\")\n",
    "        break\n",
    "    elif i == 5 and ent_pass != sec_pass:\n",
    "        print(\"Wrong Password. Try Again.\")\n",
    "        print(\"You have been kicked off of the system.\")   \n",
    "    else:\n",
    "        print(\"Wrong Password. Try Again.\")"
   ]
  },
  {
   "cell_type": "markdown",
   "id": "015fe656",
   "metadata": {},
   "source": [
    "5. Write a program that allows the user to enter any number of test scores. The user indicates\n",
    "they are done by entering in a negative number. Print how many of the scores are A’s (90 or\n",
    "above). Also print out the average."
   ]
  },
  {
   "cell_type": "code",
   "execution_count": null,
   "id": "68eaccc7",
   "metadata": {},
   "outputs": [],
   "source": [
    "score = 0\n",
    "count = 0\n",
    "list_score = []\n",
    "while score >= 0:\n",
    "    score = eval(input(\"Enter a score (Enter a negative number if done): \"))\n",
    "    if score >=0 and score >= 90:\n",
    "        count += 1\n",
    "        list_score.append(score)\n",
    "    elif score >= 0 and score < 90:\n",
    "        list_score.append(score)\n",
    "if len(list_score) != 0:\n",
    "    average = round(sum(list_score)/len(list_score), 3)\n",
    "else:\n",
    "    average = 0\n",
    "print(f\"Number of score greater than 90: {count}\")\n",
    "print(f\"Average of scores: {average}\")"
   ]
  },
  {
   "cell_type": "markdown",
   "id": "212e674b",
   "metadata": {},
   "source": [
    "6. Modify the higher/lower program so that when there is only one guess left, it says 1 guess,\n",
    "not 1 guesses."
   ]
  },
  {
   "cell_type": "code",
   "execution_count": null,
   "id": "ba7e9f96",
   "metadata": {},
   "outputs": [],
   "source": [
    "sec_pass = \"password123\"\n",
    "i = 0\n",
    "while i < 5:\n",
    "    i += 1\n",
    "    if i < 5:\n",
    "        print(f\"{5-i+1} more guesses\")\n",
    "    else:\n",
    "        print(f\"{5-i+1} more guess\")\n",
    "    \n",
    "    ent_pass = input(\"Enter a password: \")\n",
    "    \n",
    "    if i <= 4 and ent_pass == sec_pass:\n",
    "        print(\"You are logged in to the system.\")\n",
    "        break\n",
    "    elif i == 5 and ent_pass != sec_pass:\n",
    "        print(\"Wrong Password. Try Again.\")\n",
    "        print(\"You have been kicked off of the system.\")  \n",
    "    else: \n",
    "        print(\"Wrong Password. Try Again.\")"
   ]
  },
  {
   "cell_type": "markdown",
   "id": "111f528b",
   "metadata": {},
   "source": [
    "7. Recall that, given a string s, s.index('x') returns the index of the first x in s and an error\n",
    "if there is no x. $\\newline$\n",
    "(a) Write a program that asks the user for a string and a letter. Using a while loop, the\n",
    "program should print the index of the first occurrence of that letter and a message if the\n",
    "string does not contain the letter.$\\newline$\n",
    "(b) Write the above program using a for/break loop instead of a while loop."
   ]
  },
  {
   "cell_type": "code",
   "execution_count": null,
   "id": "23445e95",
   "metadata": {},
   "outputs": [],
   "source": [
    "string = input(\"Enter a string: \")\n",
    "char = input(\"Enter character: \")\n",
    "i = 0\n",
    "while i < len(string):\n",
    "    if string[i] == char:\n",
    "        print(f\"Index: {i}\")\n",
    "        break\n",
    "    elif string[i] != char:\n",
    "        i += 1\n",
    "    \n",
    "if i == len(string):\n",
    "    print(\"String does not contain the letter\")\n",
    "        "
   ]
  },
  {
   "cell_type": "code",
   "execution_count": null,
   "id": "ec968202",
   "metadata": {},
   "outputs": [],
   "source": [
    "string = input(\"Enter a string: \")\n",
    "char = input(\"Enter character: \")\n",
    "\n",
    "if char in string:\n",
    "    print(f\"Index: {string.index(char)}\")\n",
    "else:\n",
    "    print(\"String does not contain the letter\")"
   ]
  },
  {
   "cell_type": "markdown",
   "id": "6350cbdf",
   "metadata": {},
   "source": [
    "8. The GCD (greatest common divisor) of two numbers is the largest number that both are divisible by. For instance, gcd(18, 42) is 6 because the largest number that both 18 and 42 are\n",
    "divisible by is 6. Write a program that asks the user for two numbers and computes their gcd.\n",
    "Shown below is a way to compute the GCD, called Euclid’s Algorithm. $\\newline$\n",
    "• First compute the remainder of dividing the larger number by the smaller number$\\newline$\n",
    "• Next, replace the larger number with the smaller number and the smaller number with\n",
    "the remainder.$\\newline$\n",
    "• Repeat this process until the smaller number is 0. The GCD is the last value of the larger\n",
    "number."
   ]
  },
  {
   "cell_type": "code",
   "execution_count": null,
   "id": "11e77466",
   "metadata": {},
   "outputs": [],
   "source": [
    "num1 = eval(input(\"Enter a number: \"))\n",
    "num2 = eval(input(\"Enter another number: \"))\n",
    "if num1 >= num2:\n",
    "    larger = num1\n",
    "    smaller = num2\n",
    "else:\n",
    "    larger = num2\n",
    "    smaller = num1\n",
    "while smaller != 0:\n",
    "    remainder = larger%smaller\n",
    "    larger = smaller\n",
    "    smaller = remainder\n",
    "print(f\"Greatest common divisor of {num1} and {num2} is {larger}.\")\n",
    "    "
   ]
  },
  {
   "cell_type": "markdown",
   "id": "777321d2",
   "metadata": {},
   "source": [
    "9. A 4000-year old method to compute the square root of 5 is as follows: Start with an initial\n",
    "guess, say 1. Then compute\n",
    "$$\\frac{1+\\frac{5}{1}}{2}=3$$.\n",
    "Next, take that 3 and replace the 1’s in the previous formula with 3’s . This gives \n",
    "$$\\frac{3+\\frac{5}{3}}{2}≈2.33$$.\n",
    "Next replace the 3 in the previous formula with 7/3. This gives\n",
    "$$\\frac{\\frac{7}{3}+\\frac{5}{\\frac{7}{3}}}{2}≈2.24$$\n",
    "\n",
    "If you keep doing this process of computing the formula, getting a result, and plugging it back\n",
    "in, the values will eventually get closer and closer to p\n",
    "5. This method works for numbers\n",
    "other than 5. Write a program that asks the user for a number and uses this method to estimate\n",
    "the square root of the number correct to within $10^{-10}$. The estimate will be correct to within\n",
    "$10^{-10}$ when the absolute value of the difference between consecutive values is less than $10^{-10}$\n",
    "."
   ]
  },
  {
   "cell_type": "code",
   "execution_count": null,
   "id": "8578a7e8",
   "metadata": {},
   "outputs": [],
   "source": [
    "num = eval(input(\"Enter a number: \"))\n",
    "i = 0\n",
    "n = 1\n",
    "while i != 100:\n",
    "    n = (n + num/n)/2\n",
    "    i += 1\n",
    "print(f\"The square root of {num} is {round(n, 5)}.\")"
   ]
  },
  {
   "cell_type": "markdown",
   "id": "5e83102c",
   "metadata": {},
   "source": [
    "10. Write a program that has a list of ten words, some of which have repeated letters and some\n",
    "which don’t. Write a program that picks a random word from the list that does not have any\n",
    "repeated letters."
   ]
  },
  {
   "cell_type": "code",
   "execution_count": null,
   "id": "90f492b4",
   "metadata": {},
   "outputs": [],
   "source": [
    "i = 1\n",
    "list_word = []\n",
    "while i != 11:\n",
    "    word = input(f\"Word #{i}: Enter a word: \")\n",
    "    word = word.lower()\n",
    "    list_word.append(word)\n",
    "    i +=1\n",
    "not_have_repeated_letters = []\n",
    "for words in list_word:\n",
    "    count = 0\n",
    "    for c in words:\n",
    "        count += words.count(c)\n",
    "    \n",
    "    if count == len(words):\n",
    "        not_have_repeated_letters.append(words)\n",
    "    else:\n",
    "        continue\n",
    "\n",
    "print(f\"\\nWords that does not have any repeated letters:\", \",\".join(not_have_repeated_letters))"
   ]
  },
  {
   "cell_type": "markdown",
   "id": "05244415",
   "metadata": {},
   "source": [
    "11. Write a program that starts with an 5 × 5 list of zeroes and randomly changes exactly ten of\n",
    "those zeroes to ones."
   ]
  },
  {
   "cell_type": "code",
   "execution_count": null,
   "id": "fc5bb1c7",
   "metadata": {},
   "outputs": [],
   "source": [
    "from random import randint\n",
    "import pandas as pd\n",
    "list_num = []\n",
    "i = 0\n",
    "while i != 5:\n",
    "    i += 1\n",
    "    j = 0\n",
    "    num = []\n",
    "    while j != 5:\n",
    "        num.append(0)\n",
    "        j += 1\n",
    "    list_num.append(num)\n",
    "    \n",
    "df = pd.DataFrame(list_num)\n",
    "row_col = [\"\"]*5\n",
    "df.index = row_col\n",
    "df.columns = row_col\n",
    "print(f\"Original List: \\n {df}\\n\")\n",
    "k = 0\n",
    "while k != 10:\n",
    "    x = randint(0,4)\n",
    "    y = randint(0,4)\n",
    "    if list_num[x][y] == 1:\n",
    "        continue\n",
    "    else:\n",
    "        list_num[x].pop(y)\n",
    "        list_num[x].insert(y, 1)\n",
    "        k += 1\n",
    "        \n",
    "df = pd.DataFrame(list_num)\n",
    "row_col = [\"\"]*5\n",
    "df.index = row_col\n",
    "df.columns = row_col\n",
    "print(f\"New List: \\n {df}\")"
   ]
  },
  {
   "cell_type": "markdown",
   "id": "8bc35a25",
   "metadata": {},
   "source": [
    "12. Write a program in which you have a list that contains seven integers that can be 0 or 1. Find\n",
    "the first nonzero entry in the list and change it to a 1. If there are no nonzero entries, print a\n",
    "message saying so."
   ]
  },
  {
   "cell_type": "code",
   "execution_count": null,
   "id": "11a44f90",
   "metadata": {},
   "outputs": [],
   "source": [
    "list_num = [eval(input(f\"Enter an integer #{i+1}: \")) for i in range(7)]\n",
    "print(f\"Original list: {list_num}\")\n",
    "i = 0\n",
    "count = 0\n",
    "while i != 7:\n",
    "    if list_num[i] != 0:\n",
    "        list_num.pop(i)\n",
    "        list_num.insert(i, 1)\n",
    "        print(f\"First nonzero entry: Index {i}\")\n",
    "        break\n",
    "    else:\n",
    "        i +=1\n",
    "        count += 1\n",
    "\n",
    "if count == len(list_num):\n",
    "    print(\"There are no nonzero entries.\")\n",
    "print(f\"New List: {list_num}\")"
   ]
  },
  {
   "cell_type": "markdown",
   "id": "30f9c69a",
   "metadata": {},
   "source": [
    "13. In Chapter 4 there was a problem that asked you to write a program that lets the user play\n",
    "Rock-Paper-Scissors against the computer. In that program there were exactly five rounds.\n",
    "Rewrite the program so that it is a best 3 out of 5. That is, the first player to win three times is\n",
    "the winner."
   ]
  },
  {
   "cell_type": "code",
   "execution_count": null,
   "id": "fa6a1437",
   "metadata": {
    "scrolled": true
   },
   "outputs": [],
   "source": [
    "import random\n",
    "choices = [\"Rock\", \"Paper\" , \"Scissors\"]\n",
    "i = 1\n",
    "player = 0\n",
    "enemy = 0\n",
    "bol = True\n",
    "print(\"Best 3 out of 5\")\n",
    "while bol == True:\n",
    "    print(f\"Round {i}\")\n",
    "    pick = input(\"Enter Rock, Paper or Scissors: \")\n",
    "    choice = random.choice(choices)\n",
    "    pick = pick.strip()\n",
    "    pick = pick.lower()\n",
    "    pick = pick.capitalize()\n",
    "    print(f\"{pick} vs {choice}\")\n",
    "    i += 1\n",
    "    if pick == \"Rock\" and choice == \"Paper\":\n",
    "        print(\"Lose\")\n",
    "        enemy += 1\n",
    "    elif pick == \"Rock\" and choice == \"Scissors\":\n",
    "        print(\"Win\")\n",
    "        player += 1\n",
    "    elif pick == \"Rock\" and choice == \"Rock\":\n",
    "        print(\"Tie\")\n",
    "    elif pick == \"Paper\" and choice == \"Rock\":\n",
    "        print(\"Win\")\n",
    "        player += 1\n",
    "    elif pick == \"Paper\" and choice == \"Scissors\":\n",
    "        print(\"Lose\")\n",
    "        enemy += 1\n",
    "    elif pick == \"Paper\" and choice == \"Paper\":\n",
    "        print(\"Tie\")\n",
    "    elif pick == \"Scissors\" and choice == \"Rock\":\n",
    "        print(\"Lose\")\n",
    "        enemy += 1\n",
    "    elif pick == \"Scissors\" and choice == \"Paper\":\n",
    "        print(\"Win\")\n",
    "        player += 1\n",
    "    elif pick == \"Scissors\" and choice == \"Scissors\":\n",
    "        print(\"Tie\")\n",
    "    else:\n",
    "        print(\"Invalid Input!\")\n",
    "    \n",
    "    if player == 3:\n",
    "        print(\"You win!\")\n",
    "        bol = False\n",
    "    elif enemy == 3:\n",
    "        print(\"You lose!\")\n",
    "        bol = False\n",
    "    else:\n",
    "        continue\n",
    "print(f\"Player: {player}\")\n",
    "print(f\"Enemy: {enemy}\")"
   ]
  },
  {
   "cell_type": "markdown",
   "id": "d2932a2d",
   "metadata": {},
   "source": [
    "14. Write a program to play the following simple game. The player starts with \\\\$100. On each\n",
    "turn a coin is flipped and the player has to guess heads or tails. The player wins \\\\$9 for each\n",
    "correct guess and loses \\\\$10 for each incorrect guess. The game ends either when the player\n",
    "runs out of money or gets to \\\\$200."
   ]
  },
  {
   "cell_type": "code",
   "execution_count": null,
   "id": "0a508d9a",
   "metadata": {},
   "outputs": [],
   "source": [
    "import random\n",
    "choices = [\"Heads\", \"Tails\"]\n",
    "bol = True\n",
    "player = 100\n",
    "round = 1\n",
    "while bol == True:\n",
    "    print(f\"Round {round}\")\n",
    "    pick = input(\"Choice either heads or tails: \")\n",
    "    pick = pick.strip()\n",
    "    pick = pick.lower()\n",
    "    pick = pick.capitalize()\n",
    "    choice = random.choice(choices)\n",
    "    print(f\"{pick} vs {choice}\")\n",
    "    round += 1\n",
    "    if pick == \"Heads\" and choice == \"Tails\":\n",
    "        print(\"Lose\")\n",
    "        player -= 10\n",
    "    elif pick == \"Tails\" and choice == \"Heads\":\n",
    "        print(\"Lose\")\n",
    "        player -= 10\n",
    "    elif pick == \"Tails\" and choice == \"Tails\":\n",
    "        print(\"Win\")\n",
    "        player += 9\n",
    "    elif pick == \"Heads\" and choice == \"Heads\":\n",
    "        print(\"Win\")\n",
    "        player += 9\n",
    "    else:\n",
    "        print(\"Invalid Input!\")\n",
    "        \n",
    "    if player >= 200:\n",
    "        print(\"You Win!\")\n",
    "        bol = False\n",
    "    elif player <= 0:\n",
    "        print(\"You Lose!\")\n",
    "        bol = False\n",
    "    \n",
    "    print(f\"Player: ${player}\")"
   ]
  },
  {
   "cell_type": "markdown",
   "id": "aca54f40",
   "metadata": {},
   "source": [
    "15. Write a program to play the following game. There is a list of several country names and the\n",
    "program randomly picks one. The player then has to guess letters in the word one at a time.\n",
    "Before each guess the country name is displayed with correctly guessed letters filled in and\n",
    "the rest of the letters represented with dashes. For instance, if the country is Canada and the\n",
    "player has correctly guessed a, d, and n, the program would display -ana-da. The program\n",
    "should continue until the player either guesses all of the letters of the word or gets five letters\n",
    "wrong."
   ]
  },
  {
   "cell_type": "code",
   "execution_count": null,
   "id": "97d3ea07",
   "metadata": {
    "scrolled": false
   },
   "outputs": [],
   "source": [
    "import random\n",
    "countries = ['philippines', 'india', 'america', 'england', 'china', 'russia', 'japan', 'australia', 'pakistan', 'argentina', 'canada', 'madagascar', 'tanzania', 'mauritania', 'malaysia', 'morocco']\n",
    "country = [char for char in random.choice(countries)]\n",
    "guess_country = [\"-\"]*len(country)\n",
    "num_guesses = 0\n",
    "bol = True\n",
    "i = 1\n",
    "while bol == True:\n",
    "    print(f\"Guess #{i}\")\n",
    "    i += 1\n",
    "    guess_char = input(\"Enter a character: \")\n",
    "    guess_char = guess_char.lower()\n",
    "    if guess_char in country:\n",
    "        indices = [i for i in range(len(country)) if guess_char == country[i]]\n",
    "        j = 0\n",
    "        while j != len(indices):\n",
    "            guess_country.pop(indices[j])\n",
    "            guess_country.insert(indices[j], guess_char)\n",
    "            j += 1\n",
    "    else:\n",
    "        num_guesses += 1\n",
    "        \n",
    "    print(\"\".join(guess_country))\n",
    "    if country == guess_country:\n",
    "        print(\"You Win.\")\n",
    "        print(\"The hidden country is\", \"\".join(country).capitalize(), end = \".\")\n",
    "        break\n",
    "    elif num_guesses == 5:\n",
    "        print(\"You Lose.\")\n",
    "        print(\"The hidden country is\", \"\".join(country).capitalize(), end = \".\")\n",
    "        break\n",
    "    else:\n",
    "        continue"
   ]
  },
  {
   "cell_type": "markdown",
   "id": "27369166",
   "metadata": {},
   "source": [
    "16. Write a text-based version of the game Memory. The game should generate a 5 × 5 board (see\n",
    "the exercise from Chapter 8). Initially the program should display the board as a 5 × 5 grid of\n",
    "asterisks. The user then enters the coordinates of a cell. The program should display the grid\n",
    "with the character at those coordinates now displayed. The user then enters coordinates of\n",
    "another cell. The program should now display the grid with the previous character and the\n",
    "new character displayed. If the two characters match, then they should permanently replace\n",
    "the asterisks in those locations. Otherwise, when the user enters the next set of coordinates,\n",
    "those characters should be replaced by asterisks. The game continues this way until the player\n",
    "matches everything or runs out of turns. You can decide how many turns they player gets."
   ]
  },
  {
   "cell_type": "code",
   "execution_count": null,
   "id": "badbe78b",
   "metadata": {},
   "outputs": [],
   "source": [
    "import random\n",
    "import os\n",
    "\n",
    "char = [\"@\", \"5\", \"#\", \"A\", \"!\", \"0\", \"b\", \"$\", \"z\", \"N\", \"x\", \"-\", \"+\", \":\", \"c\"]*2\n",
    "orig_list = []\n",
    "for i in range(5):\n",
    "    list_choice = []\n",
    "    for j in range(6):\n",
    "        choice = random.choice(char)\n",
    "        list_choice.append(choice)\n",
    "        char.remove(choice)\n",
    "    orig_list.append(list_choice)\n",
    "\n",
    "print(\"\\nList: \\n\")\n",
    "a = 0\n",
    "while a != 5:\n",
    "    print(\" \".join(orig_list[a]))\n",
    "    a += 1\n",
    "\n",
    "print(\"\")\n",
    "\n",
    "ready = ''\n",
    "while ready != \"yes\":\n",
    "    ready = input(\"If you are ready type yes: \")\n",
    "    ready = ready.strip()\n",
    "    ready = ready.lower()\n",
    "\n",
    "os.system('clear')\n",
    "\n",
    "guess_list = [[\"*\"]*6 for j in range(6)]\n",
    "\n",
    "print(\"\")\n",
    "b = 0\n",
    "while b != 5:\n",
    "    print(\" \".join(guess_list[b]))\n",
    "    b += 1\n",
    "print(\"\")\n",
    "\n",
    "miss = 10\n",
    "bol = True\n",
    "while bol == True:\n",
    "    \n",
    "    x1 = eval(input(\"Enter x coordinate (1-6): \"))\n",
    "    y1 = eval(input(\"Enter y coordinate(1-5): \"))\n",
    "    \n",
    "    if guess_list[x1-1][y1-1] == \"*\":\n",
    "        guess_list[x1-1][y1-1] = orig_list[x1-1][y1-1]\n",
    "        print(\"\") \n",
    "        for item in guess_list:\n",
    "            print(\" \".join(item))\n",
    "        print(\"\") \n",
    "        entry2 = True\n",
    "        while entry2 == True:   \n",
    "            \n",
    "            x2 = eval(input(\"Enter 2nd x coordinate (1-6): \"))\n",
    "            y2 = eval(input(\"Enter 2nd y coordinate(1-5): \"))  \n",
    "            \n",
    "            if guess_list[x2-1][y2-1] == \"*\":\n",
    "                guess_list[x2-1][y2-1] = orig_list[x2-1][y2-1]\n",
    "                entry2 = False\n",
    "                print(\"\")\n",
    "                for item in guess_list:\n",
    "                    print(\" \".join(item))\n",
    "                print(\"\")   \n",
    "                if guess_list[x1-1][y1-1] == guess_list[x2-1][y2-1]:\n",
    "                    print(\"Very Good!\")\n",
    "                    \n",
    "                else:\n",
    "                    guess_list[x1-1][y1-1] = guess_list[x2-1][y2-1] = \"*\"\n",
    "                    miss -= 1\n",
    "                    print(f\"{miss} more chances left.\")\n",
    "                    print(\"\") \n",
    "                    for item in guess_list:\n",
    "                        print(\" \".join(item))\n",
    "                    print(\"\") \n",
    "                        \n",
    "            else:\n",
    "                print(\"Tile is alrady open. Try again.\")\n",
    "    \n",
    "    else:\n",
    "        print(\"Tile is alrady open. Try again.\")\n",
    "        continue\n",
    "    \n",
    "    if guess_list == orig_list:\n",
    "        print(\"Game Over. You win!\")\n",
    "        break\n",
    "                \n",
    "    elif miss == 0:\n",
    "        print(\"Game Over. You Lose!\")\n",
    "        break\n",
    "    else:\n",
    "        continue"
   ]
  },
  {
   "cell_type": "markdown",
   "id": "4150b148",
   "metadata": {},
   "source": [
    "17. Ask the user to enter the numerator and denominator of a fraction, and the digit they want to\n",
    "know. For instance, if the user enters a numerator of 1 and a denominator of 7 and wants to\n",
    "know the 4th digit, your program should print out 8, because $\\frac{1}{7}$ = .142856... and 8 is the 4th\n",
    "digit. One way to do this is to mimic the long division process you may have learned in grade\n",
    "school. It can be done in about five lines using the // operator at one point in the program."
   ]
  },
  {
   "cell_type": "code",
   "execution_count": null,
   "id": "3133bc3b",
   "metadata": {},
   "outputs": [],
   "source": [
    "numerator = eval(input(\"Enter numerator: \"))\n",
    "denominator = eval(input(\"Enter denominator: \"))\n",
    "digit = eval(input(\"Enter the position of the digit after the decimal point you want to know: \"))\n",
    "div = str('%.50f'%(numerator/denominator))\n",
    "print(f\"{numerator}/{denominator} = {div}\")\n",
    "print(div[div.index(\".\")+digit], f\"is in the digit position {digit}\")\n"
   ]
  },
  {
   "cell_type": "markdown",
   "id": "39935c34",
   "metadata": {},
   "source": [
    "18. Randomly generate a 6 × 6 list that has exactly 12 ones placed in random locations in the list.\n",
    "The rest of the entries should be zeroes."
   ]
  },
  {
   "cell_type": "code",
   "execution_count": null,
   "id": "1ec83423",
   "metadata": {
    "scrolled": true
   },
   "outputs": [],
   "source": [
    "from random import randint\n",
    "list1 = [[0 for i in range(6)] for j in range(6)]\n",
    "count = 0\n",
    "while count != 12:\n",
    "    entry = True\n",
    "    while entry == True:\n",
    "        x = randint(0, 5)\n",
    "        y = randint(0, 5)\n",
    "        \n",
    "        if list1[x][y] == 0:\n",
    "            list1[x][y] = 1\n",
    "            count += 1\n",
    "            entry = False\n",
    "        else:\n",
    "            entry = True\n",
    "for item in list1:\n",
    "    print(\" \".join(str(item)))\n",
    "print(\" \")\n",
    "list2 = [[list1[i][j] for i in range(6)] for j in range(6)]\n",
    "for item in list2:\n",
    "    print(\" \".join(str(item)))"
   ]
  },
  {
   "cell_type": "markdown",
   "id": "8ec1bc2d",
   "metadata": {},
   "source": [
    "19. Randomly generate a 9 × 9 list where the entries are integers between 1 and 9 with no repeat\n",
    "entries in any row or in any column."
   ]
  },
  {
   "cell_type": "code",
   "execution_count": null,
   "id": "7fa940bc",
   "metadata": {},
   "outputs": [],
   "source": [
    "import random\n",
    "list1 = [[0 for i in range(9)] for j in range(9)]\n",
    "i = 0\n",
    "while i != 9:\n",
    "    j = 0\n",
    "    while j != 9:\n",
    "        num = (1 + i + j)\n",
    "        if num > 9:\n",
    "            num = num - 9\n",
    "            \n",
    "        list1[i][j] = num\n",
    "        j += 1\n",
    "    i += 1\n",
    "random.shuffle(list1)\n",
    "for item in list1:\n",
    "    print(\"\".join(str(item)))\n",
    "print(\" \")        "
   ]
  },
  {
   "cell_type": "code",
   "execution_count": null,
   "id": "feb2865b",
   "metadata": {},
   "outputs": [],
   "source": []
  }
 ],
 "metadata": {
  "kernelspec": {
   "display_name": "Python 3 (ipykernel)",
   "language": "python",
   "name": "python3"
  },
  "language_info": {
   "codemirror_mode": {
    "name": "ipython",
    "version": 3
   },
   "file_extension": ".py",
   "mimetype": "text/x-python",
   "name": "python",
   "nbconvert_exporter": "python",
   "pygments_lexer": "ipython3",
   "version": "3.9.7"
  }
 },
 "nbformat": 4,
 "nbformat_minor": 5
}
